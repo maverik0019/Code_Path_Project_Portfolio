{
 "cells": [
  {
   "cell_type": "markdown",
   "metadata": {},
   "source": [
    "# Customer list"
   ]
  },
  {
   "cell_type": "markdown",
   "metadata": {},
   "source": [
    "- How many customers were there for each approach?\n",
    "- What does the spread of the revenue look like overall? And for each method?\n",
    "- Was there any difference in revenue over time for each of the methods?\n",
    "- Based on the data, which method would you recommend we continue to use? Some\n",
    "of these methods take more time from the team so they may not be the best for us to use if the results are similar.\n",
    "\n",
    "We don’t really know if there are other differences between the customers in each group, so anything you can tell us would be really helpful to give some context to what went well.\n",
    "I need to report to the executive team in 4 weeks. You need to present to me before then so I understand what is going on and what we do next.\n",
    "Look forward to seeing your presentation."
   ]
  },
  {
   "cell_type": "code",
   "execution_count": 1,
   "metadata": {},
   "outputs": [],
   "source": [
    "#https://s3.amazonaws.com/talent-assets.datacamp.com/product_sales.csv\n",
    "\n",
    "import pandas as pd \n",
    "import matplotlib.pylab as plt\n",
    "import seaborn as sns\n",
    "import numpy as np\n",
    "import plotly.express as px"
   ]
  },
  {
   "cell_type": "code",
   "execution_count": 2,
   "metadata": {},
   "outputs": [
    {
     "data": {
      "text/html": [
       "<div>\n",
       "<style scoped>\n",
       "    .dataframe tbody tr th:only-of-type {\n",
       "        vertical-align: middle;\n",
       "    }\n",
       "\n",
       "    .dataframe tbody tr th {\n",
       "        vertical-align: top;\n",
       "    }\n",
       "\n",
       "    .dataframe thead th {\n",
       "        text-align: right;\n",
       "    }\n",
       "</style>\n",
       "<table border=\"1\" class=\"dataframe\">\n",
       "  <thead>\n",
       "    <tr style=\"text-align: right;\">\n",
       "      <th></th>\n",
       "      <th>week</th>\n",
       "      <th>sales_method</th>\n",
       "      <th>customer_id</th>\n",
       "      <th>nb_sold</th>\n",
       "      <th>revenue</th>\n",
       "      <th>years_as_customer</th>\n",
       "      <th>nb_site_visits</th>\n",
       "      <th>state</th>\n",
       "    </tr>\n",
       "  </thead>\n",
       "  <tbody>\n",
       "    <tr>\n",
       "      <th>0</th>\n",
       "      <td>2</td>\n",
       "      <td>Email</td>\n",
       "      <td>2e72d641-95ac-497b-bbf8-4861764a7097</td>\n",
       "      <td>10</td>\n",
       "      <td>NaN</td>\n",
       "      <td>0</td>\n",
       "      <td>24</td>\n",
       "      <td>Arizona</td>\n",
       "    </tr>\n",
       "    <tr>\n",
       "      <th>1</th>\n",
       "      <td>6</td>\n",
       "      <td>Email + Call</td>\n",
       "      <td>3998a98d-70f5-44f7-942e-789bb8ad2fe7</td>\n",
       "      <td>15</td>\n",
       "      <td>225.47</td>\n",
       "      <td>1</td>\n",
       "      <td>28</td>\n",
       "      <td>Kansas</td>\n",
       "    </tr>\n",
       "    <tr>\n",
       "      <th>2</th>\n",
       "      <td>5</td>\n",
       "      <td>Call</td>\n",
       "      <td>d1de9884-8059-4065-b10f-86eef57e4a44</td>\n",
       "      <td>11</td>\n",
       "      <td>52.55</td>\n",
       "      <td>6</td>\n",
       "      <td>26</td>\n",
       "      <td>Wisconsin</td>\n",
       "    </tr>\n",
       "    <tr>\n",
       "      <th>3</th>\n",
       "      <td>4</td>\n",
       "      <td>Email</td>\n",
       "      <td>78aa75a4-ffeb-4817-b1d0-2f030783c5d7</td>\n",
       "      <td>11</td>\n",
       "      <td>NaN</td>\n",
       "      <td>3</td>\n",
       "      <td>25</td>\n",
       "      <td>Indiana</td>\n",
       "    </tr>\n",
       "    <tr>\n",
       "      <th>4</th>\n",
       "      <td>3</td>\n",
       "      <td>Email</td>\n",
       "      <td>10e6d446-10a5-42e5-8210-1b5438f70922</td>\n",
       "      <td>9</td>\n",
       "      <td>90.49</td>\n",
       "      <td>0</td>\n",
       "      <td>28</td>\n",
       "      <td>Illinois</td>\n",
       "    </tr>\n",
       "    <tr>\n",
       "      <th>5</th>\n",
       "      <td>6</td>\n",
       "      <td>Call</td>\n",
       "      <td>6489e678-40f2-4fed-a48e-d0dff9c09205</td>\n",
       "      <td>13</td>\n",
       "      <td>65.01</td>\n",
       "      <td>10</td>\n",
       "      <td>24</td>\n",
       "      <td>Mississippi</td>\n",
       "    </tr>\n",
       "    <tr>\n",
       "      <th>6</th>\n",
       "      <td>4</td>\n",
       "      <td>Email</td>\n",
       "      <td>eb6bd5f1-f115-4e4b-80a6-5e67fcfbfb94</td>\n",
       "      <td>11</td>\n",
       "      <td>113.38</td>\n",
       "      <td>9</td>\n",
       "      <td>28</td>\n",
       "      <td>Georgia</td>\n",
       "    </tr>\n",
       "    <tr>\n",
       "      <th>7</th>\n",
       "      <td>1</td>\n",
       "      <td>Email</td>\n",
       "      <td>047df079-071b-4380-9012-2bfe9bce45d5</td>\n",
       "      <td>10</td>\n",
       "      <td>99.94</td>\n",
       "      <td>1</td>\n",
       "      <td>22</td>\n",
       "      <td>Oklahoma</td>\n",
       "    </tr>\n",
       "    <tr>\n",
       "      <th>8</th>\n",
       "      <td>5</td>\n",
       "      <td>Email</td>\n",
       "      <td>771586bd-7b64-40be-87df-afe884d2af9e</td>\n",
       "      <td>11</td>\n",
       "      <td>108.34</td>\n",
       "      <td>10</td>\n",
       "      <td>31</td>\n",
       "      <td>Massachusetts</td>\n",
       "    </tr>\n",
       "    <tr>\n",
       "      <th>9</th>\n",
       "      <td>5</td>\n",
       "      <td>Call</td>\n",
       "      <td>56491dae-bbe7-49f0-a651-b823a01103d8</td>\n",
       "      <td>11</td>\n",
       "      <td>53.82</td>\n",
       "      <td>7</td>\n",
       "      <td>23</td>\n",
       "      <td>Missouri</td>\n",
       "    </tr>\n",
       "    <tr>\n",
       "      <th>10</th>\n",
       "      <td>3</td>\n",
       "      <td>Email</td>\n",
       "      <td>c40f2602-8a7c-429e-bf13-cb1ec9e5f92f</td>\n",
       "      <td>9</td>\n",
       "      <td>89.49</td>\n",
       "      <td>4</td>\n",
       "      <td>28</td>\n",
       "      <td>Texas</td>\n",
       "    </tr>\n",
       "    <tr>\n",
       "      <th>11</th>\n",
       "      <td>2</td>\n",
       "      <td>Call</td>\n",
       "      <td>c20ab049-cbac-4ba7-8868-310aa89e0549</td>\n",
       "      <td>9</td>\n",
       "      <td>45.42</td>\n",
       "      <td>2</td>\n",
       "      <td>23</td>\n",
       "      <td>New York</td>\n",
       "    </tr>\n",
       "    <tr>\n",
       "      <th>12</th>\n",
       "      <td>5</td>\n",
       "      <td>Call</td>\n",
       "      <td>0b026b91-fe12-4af0-86f9-387ba81c8fdb</td>\n",
       "      <td>11</td>\n",
       "      <td>53.42</td>\n",
       "      <td>2</td>\n",
       "      <td>30</td>\n",
       "      <td>Maryland</td>\n",
       "    </tr>\n",
       "    <tr>\n",
       "      <th>13</th>\n",
       "      <td>2</td>\n",
       "      <td>Email</td>\n",
       "      <td>6103bcac-9da6-4000-a0ce-fa2615cce846</td>\n",
       "      <td>10</td>\n",
       "      <td>101.54</td>\n",
       "      <td>1</td>\n",
       "      <td>28</td>\n",
       "      <td>California</td>\n",
       "    </tr>\n",
       "    <tr>\n",
       "      <th>14</th>\n",
       "      <td>5</td>\n",
       "      <td>Call</td>\n",
       "      <td>96c8b5b8-cb81-4c75-a284-0e0026a03be8</td>\n",
       "      <td>10</td>\n",
       "      <td>51.87</td>\n",
       "      <td>1</td>\n",
       "      <td>30</td>\n",
       "      <td>Tennessee</td>\n",
       "    </tr>\n",
       "    <tr>\n",
       "      <th>15</th>\n",
       "      <td>4</td>\n",
       "      <td>Email</td>\n",
       "      <td>189d4f1b-9e76-4f64-9e71-7bd9b133a2d1</td>\n",
       "      <td>10</td>\n",
       "      <td>104.22</td>\n",
       "      <td>2</td>\n",
       "      <td>23</td>\n",
       "      <td>Missouri</td>\n",
       "    </tr>\n",
       "    <tr>\n",
       "      <th>16</th>\n",
       "      <td>2</td>\n",
       "      <td>Email</td>\n",
       "      <td>0f744f79-1588-4e0c-8865-fdaecc7f6dd4</td>\n",
       "      <td>10</td>\n",
       "      <td>NaN</td>\n",
       "      <td>6</td>\n",
       "      <td>30</td>\n",
       "      <td>Pennsylvania</td>\n",
       "    </tr>\n",
       "    <tr>\n",
       "      <th>17</th>\n",
       "      <td>6</td>\n",
       "      <td>Email + Call</td>\n",
       "      <td>d10690f0-6f63-409f-a1da-8ab0e5388390</td>\n",
       "      <td>15</td>\n",
       "      <td>NaN</td>\n",
       "      <td>0</td>\n",
       "      <td>24</td>\n",
       "      <td>Wisconsin</td>\n",
       "    </tr>\n",
       "    <tr>\n",
       "      <th>18</th>\n",
       "      <td>1</td>\n",
       "      <td>Email</td>\n",
       "      <td>78343227-76c7-493f-a01a-0e8f87bafb0a</td>\n",
       "      <td>8</td>\n",
       "      <td>82.01</td>\n",
       "      <td>4</td>\n",
       "      <td>24</td>\n",
       "      <td>North Dakota</td>\n",
       "    </tr>\n",
       "    <tr>\n",
       "      <th>19</th>\n",
       "      <td>1</td>\n",
       "      <td>Email</td>\n",
       "      <td>ca2fcee8-81f2-455a-a766-5213c56a7775</td>\n",
       "      <td>9</td>\n",
       "      <td>90.93</td>\n",
       "      <td>2</td>\n",
       "      <td>28</td>\n",
       "      <td>Florida</td>\n",
       "    </tr>\n",
       "    <tr>\n",
       "      <th>20</th>\n",
       "      <td>1</td>\n",
       "      <td>Email</td>\n",
       "      <td>ad1d8be5-aa0a-41e1-bbc6-7889b4a14521</td>\n",
       "      <td>9</td>\n",
       "      <td>90.51</td>\n",
       "      <td>4</td>\n",
       "      <td>25</td>\n",
       "      <td>Texas</td>\n",
       "    </tr>\n",
       "    <tr>\n",
       "      <th>21</th>\n",
       "      <td>1</td>\n",
       "      <td>Email + Call</td>\n",
       "      <td>544cf718-2b90-4e9f-ac4a-40ba0e7f2c88</td>\n",
       "      <td>9</td>\n",
       "      <td>128.87</td>\n",
       "      <td>6</td>\n",
       "      <td>24</td>\n",
       "      <td>Michigan</td>\n",
       "    </tr>\n",
       "    <tr>\n",
       "      <th>22</th>\n",
       "      <td>3</td>\n",
       "      <td>em + call</td>\n",
       "      <td>d72de17a-0d71-401b-b64a-dc4492b2b1ed</td>\n",
       "      <td>10</td>\n",
       "      <td>150.47</td>\n",
       "      <td>20</td>\n",
       "      <td>21</td>\n",
       "      <td>North Carolina</td>\n",
       "    </tr>\n",
       "    <tr>\n",
       "      <th>23</th>\n",
       "      <td>3</td>\n",
       "      <td>Email</td>\n",
       "      <td>d01d04aa-98d6-4c41-8642-16804dd9d2a9</td>\n",
       "      <td>9</td>\n",
       "      <td>94.53</td>\n",
       "      <td>7</td>\n",
       "      <td>27</td>\n",
       "      <td>New York</td>\n",
       "    </tr>\n",
       "    <tr>\n",
       "      <th>24</th>\n",
       "      <td>2</td>\n",
       "      <td>Call</td>\n",
       "      <td>3729ca37-5c95-438b-ab30-334b5181f4a8</td>\n",
       "      <td>8</td>\n",
       "      <td>42.43</td>\n",
       "      <td>0</td>\n",
       "      <td>21</td>\n",
       "      <td>New York</td>\n",
       "    </tr>\n",
       "  </tbody>\n",
       "</table>\n",
       "</div>"
      ],
      "text/plain": [
       "    week  sales_method                           customer_id  nb_sold  \\\n",
       "0      2         Email  2e72d641-95ac-497b-bbf8-4861764a7097       10   \n",
       "1      6  Email + Call  3998a98d-70f5-44f7-942e-789bb8ad2fe7       15   \n",
       "2      5          Call  d1de9884-8059-4065-b10f-86eef57e4a44       11   \n",
       "3      4         Email  78aa75a4-ffeb-4817-b1d0-2f030783c5d7       11   \n",
       "4      3         Email  10e6d446-10a5-42e5-8210-1b5438f70922        9   \n",
       "5      6          Call  6489e678-40f2-4fed-a48e-d0dff9c09205       13   \n",
       "6      4         Email  eb6bd5f1-f115-4e4b-80a6-5e67fcfbfb94       11   \n",
       "7      1         Email  047df079-071b-4380-9012-2bfe9bce45d5       10   \n",
       "8      5         Email  771586bd-7b64-40be-87df-afe884d2af9e       11   \n",
       "9      5          Call  56491dae-bbe7-49f0-a651-b823a01103d8       11   \n",
       "10     3         Email  c40f2602-8a7c-429e-bf13-cb1ec9e5f92f        9   \n",
       "11     2          Call  c20ab049-cbac-4ba7-8868-310aa89e0549        9   \n",
       "12     5          Call  0b026b91-fe12-4af0-86f9-387ba81c8fdb       11   \n",
       "13     2         Email  6103bcac-9da6-4000-a0ce-fa2615cce846       10   \n",
       "14     5          Call  96c8b5b8-cb81-4c75-a284-0e0026a03be8       10   \n",
       "15     4         Email  189d4f1b-9e76-4f64-9e71-7bd9b133a2d1       10   \n",
       "16     2         Email  0f744f79-1588-4e0c-8865-fdaecc7f6dd4       10   \n",
       "17     6  Email + Call  d10690f0-6f63-409f-a1da-8ab0e5388390       15   \n",
       "18     1         Email  78343227-76c7-493f-a01a-0e8f87bafb0a        8   \n",
       "19     1         Email  ca2fcee8-81f2-455a-a766-5213c56a7775        9   \n",
       "20     1         Email  ad1d8be5-aa0a-41e1-bbc6-7889b4a14521        9   \n",
       "21     1  Email + Call  544cf718-2b90-4e9f-ac4a-40ba0e7f2c88        9   \n",
       "22     3     em + call  d72de17a-0d71-401b-b64a-dc4492b2b1ed       10   \n",
       "23     3         Email  d01d04aa-98d6-4c41-8642-16804dd9d2a9        9   \n",
       "24     2          Call  3729ca37-5c95-438b-ab30-334b5181f4a8        8   \n",
       "\n",
       "    revenue  years_as_customer  nb_site_visits           state  \n",
       "0       NaN                  0              24         Arizona  \n",
       "1    225.47                  1              28          Kansas  \n",
       "2     52.55                  6              26       Wisconsin  \n",
       "3       NaN                  3              25         Indiana  \n",
       "4     90.49                  0              28        Illinois  \n",
       "5     65.01                 10              24     Mississippi  \n",
       "6    113.38                  9              28         Georgia  \n",
       "7     99.94                  1              22        Oklahoma  \n",
       "8    108.34                 10              31   Massachusetts  \n",
       "9     53.82                  7              23        Missouri  \n",
       "10    89.49                  4              28           Texas  \n",
       "11    45.42                  2              23        New York  \n",
       "12    53.42                  2              30        Maryland  \n",
       "13   101.54                  1              28      California  \n",
       "14    51.87                  1              30       Tennessee  \n",
       "15   104.22                  2              23        Missouri  \n",
       "16      NaN                  6              30    Pennsylvania  \n",
       "17      NaN                  0              24       Wisconsin  \n",
       "18    82.01                  4              24    North Dakota  \n",
       "19    90.93                  2              28         Florida  \n",
       "20    90.51                  4              25           Texas  \n",
       "21   128.87                  6              24        Michigan  \n",
       "22   150.47                 20              21  North Carolina  \n",
       "23    94.53                  7              27        New York  \n",
       "24    42.43                  0              21        New York  "
      ]
     },
     "execution_count": 2,
     "metadata": {},
     "output_type": "execute_result"
    }
   ],
   "source": [
    "df = pd.read_csv(\"https://s3.amazonaws.com/talent-assets.datacamp.com/product_sales.csv\", delimiter=\",\")\n",
    "df.head(25)"
   ]
  },
  {
   "cell_type": "code",
   "execution_count": 3,
   "metadata": {},
   "outputs": [
    {
     "data": {
      "text/html": [
       "<div>\n",
       "<style scoped>\n",
       "    .dataframe tbody tr th:only-of-type {\n",
       "        vertical-align: middle;\n",
       "    }\n",
       "\n",
       "    .dataframe tbody tr th {\n",
       "        vertical-align: top;\n",
       "    }\n",
       "\n",
       "    .dataframe thead th {\n",
       "        text-align: right;\n",
       "    }\n",
       "</style>\n",
       "<table border=\"1\" class=\"dataframe\">\n",
       "  <thead>\n",
       "    <tr style=\"text-align: right;\">\n",
       "      <th></th>\n",
       "      <th>week</th>\n",
       "      <th>sales_method</th>\n",
       "      <th>customer_id</th>\n",
       "      <th>nb_sold</th>\n",
       "      <th>revenue</th>\n",
       "      <th>years_as_customer</th>\n",
       "      <th>nb_site_visits</th>\n",
       "      <th>state</th>\n",
       "    </tr>\n",
       "  </thead>\n",
       "  <tbody>\n",
       "    <tr>\n",
       "      <th>14990</th>\n",
       "      <td>2</td>\n",
       "      <td>Call</td>\n",
       "      <td>b8e19654-e5a1-4094-aaa7-99a9821f9c06</td>\n",
       "      <td>9</td>\n",
       "      <td>45.18</td>\n",
       "      <td>0</td>\n",
       "      <td>28</td>\n",
       "      <td>Michigan</td>\n",
       "    </tr>\n",
       "    <tr>\n",
       "      <th>14991</th>\n",
       "      <td>2</td>\n",
       "      <td>Email + Call</td>\n",
       "      <td>b5c6d6e0-1237-4785-b088-17064d44d366</td>\n",
       "      <td>10</td>\n",
       "      <td>149.57</td>\n",
       "      <td>1</td>\n",
       "      <td>30</td>\n",
       "      <td>Virginia</td>\n",
       "    </tr>\n",
       "    <tr>\n",
       "      <th>14992</th>\n",
       "      <td>5</td>\n",
       "      <td>em + call</td>\n",
       "      <td>cd9e6945-ae21-4bed-a6cf-f0302e6c4795</td>\n",
       "      <td>12</td>\n",
       "      <td>NaN</td>\n",
       "      <td>1</td>\n",
       "      <td>34</td>\n",
       "      <td>New York</td>\n",
       "    </tr>\n",
       "    <tr>\n",
       "      <th>14993</th>\n",
       "      <td>1</td>\n",
       "      <td>Email</td>\n",
       "      <td>3ec54950-652e-4d8a-bc49-8b5c770c6cd2</td>\n",
       "      <td>8</td>\n",
       "      <td>83.98</td>\n",
       "      <td>2</td>\n",
       "      <td>21</td>\n",
       "      <td>Texas</td>\n",
       "    </tr>\n",
       "    <tr>\n",
       "      <th>14994</th>\n",
       "      <td>4</td>\n",
       "      <td>Email</td>\n",
       "      <td>56f02e26-3633-427d-8c4e-f45f00afa787</td>\n",
       "      <td>11</td>\n",
       "      <td>109.36</td>\n",
       "      <td>3</td>\n",
       "      <td>25</td>\n",
       "      <td>Ohio</td>\n",
       "    </tr>\n",
       "    <tr>\n",
       "      <th>14995</th>\n",
       "      <td>4</td>\n",
       "      <td>Call</td>\n",
       "      <td>17267b41-d048-4346-8b90-7f787690a836</td>\n",
       "      <td>10</td>\n",
       "      <td>50.82</td>\n",
       "      <td>0</td>\n",
       "      <td>22</td>\n",
       "      <td>Pennsylvania</td>\n",
       "    </tr>\n",
       "    <tr>\n",
       "      <th>14996</th>\n",
       "      <td>5</td>\n",
       "      <td>Call</td>\n",
       "      <td>09e10d6f-4508-4b27-895e-4db11ce8302b</td>\n",
       "      <td>10</td>\n",
       "      <td>52.33</td>\n",
       "      <td>1</td>\n",
       "      <td>27</td>\n",
       "      <td>Kansas</td>\n",
       "    </tr>\n",
       "    <tr>\n",
       "      <th>14997</th>\n",
       "      <td>1</td>\n",
       "      <td>Call</td>\n",
       "      <td>839653cb-68c9-48cb-a097-0a5a3b2b298b</td>\n",
       "      <td>7</td>\n",
       "      <td>34.87</td>\n",
       "      <td>4</td>\n",
       "      <td>22</td>\n",
       "      <td>West Virginia</td>\n",
       "    </tr>\n",
       "    <tr>\n",
       "      <th>14998</th>\n",
       "      <td>6</td>\n",
       "      <td>Call</td>\n",
       "      <td>e4dad70a-b23b-407c-8bd3-e32ea00fae17</td>\n",
       "      <td>13</td>\n",
       "      <td>64.90</td>\n",
       "      <td>2</td>\n",
       "      <td>27</td>\n",
       "      <td>New Jersey</td>\n",
       "    </tr>\n",
       "    <tr>\n",
       "      <th>14999</th>\n",
       "      <td>5</td>\n",
       "      <td>Email + Call</td>\n",
       "      <td>4e077235-7c17-4054-9997-7a890336a214</td>\n",
       "      <td>13</td>\n",
       "      <td>NaN</td>\n",
       "      <td>4</td>\n",
       "      <td>25</td>\n",
       "      <td>Illinois</td>\n",
       "    </tr>\n",
       "  </tbody>\n",
       "</table>\n",
       "</div>"
      ],
      "text/plain": [
       "       week  sales_method                           customer_id  nb_sold  \\\n",
       "14990     2          Call  b8e19654-e5a1-4094-aaa7-99a9821f9c06        9   \n",
       "14991     2  Email + Call  b5c6d6e0-1237-4785-b088-17064d44d366       10   \n",
       "14992     5     em + call  cd9e6945-ae21-4bed-a6cf-f0302e6c4795       12   \n",
       "14993     1         Email  3ec54950-652e-4d8a-bc49-8b5c770c6cd2        8   \n",
       "14994     4         Email  56f02e26-3633-427d-8c4e-f45f00afa787       11   \n",
       "14995     4          Call  17267b41-d048-4346-8b90-7f787690a836       10   \n",
       "14996     5          Call  09e10d6f-4508-4b27-895e-4db11ce8302b       10   \n",
       "14997     1          Call  839653cb-68c9-48cb-a097-0a5a3b2b298b        7   \n",
       "14998     6          Call  e4dad70a-b23b-407c-8bd3-e32ea00fae17       13   \n",
       "14999     5  Email + Call  4e077235-7c17-4054-9997-7a890336a214       13   \n",
       "\n",
       "       revenue  years_as_customer  nb_site_visits          state  \n",
       "14990    45.18                  0              28       Michigan  \n",
       "14991   149.57                  1              30       Virginia  \n",
       "14992      NaN                  1              34       New York  \n",
       "14993    83.98                  2              21          Texas  \n",
       "14994   109.36                  3              25           Ohio  \n",
       "14995    50.82                  0              22   Pennsylvania  \n",
       "14996    52.33                  1              27         Kansas  \n",
       "14997    34.87                  4              22  West Virginia  \n",
       "14998    64.90                  2              27     New Jersey  \n",
       "14999      NaN                  4              25       Illinois  "
      ]
     },
     "execution_count": 3,
     "metadata": {},
     "output_type": "execute_result"
    }
   ],
   "source": [
    "df.tail(10)"
   ]
  },
  {
   "cell_type": "code",
   "execution_count": 4,
   "metadata": {},
   "outputs": [
    {
     "name": "stdout",
     "output_type": "stream",
     "text": [
      "Index(['week', 'sales_method', 'customer_id', 'nb_sold', 'revenue',\n",
      "       'years_as_customer', 'nb_site_visits', 'state'],\n",
      "      dtype='object')\n",
      "8\n"
     ]
    }
   ],
   "source": [
    "print(df.columns)\n",
    "print(len(df.columns))"
   ]
  },
  {
   "cell_type": "code",
   "execution_count": 5,
   "metadata": {},
   "outputs": [
    {
     "data": {
      "text/html": [
       "<div>\n",
       "<style scoped>\n",
       "    .dataframe tbody tr th:only-of-type {\n",
       "        vertical-align: middle;\n",
       "    }\n",
       "\n",
       "    .dataframe tbody tr th {\n",
       "        vertical-align: top;\n",
       "    }\n",
       "\n",
       "    .dataframe thead th {\n",
       "        text-align: right;\n",
       "    }\n",
       "</style>\n",
       "<table border=\"1\" class=\"dataframe\">\n",
       "  <thead>\n",
       "    <tr style=\"text-align: right;\">\n",
       "      <th></th>\n",
       "      <th>sales_method</th>\n",
       "      <th>customer_id</th>\n",
       "      <th>state</th>\n",
       "    </tr>\n",
       "  </thead>\n",
       "  <tbody>\n",
       "    <tr>\n",
       "      <th>count</th>\n",
       "      <td>15000</td>\n",
       "      <td>15000</td>\n",
       "      <td>15000</td>\n",
       "    </tr>\n",
       "    <tr>\n",
       "      <th>unique</th>\n",
       "      <td>5</td>\n",
       "      <td>15000</td>\n",
       "      <td>50</td>\n",
       "    </tr>\n",
       "    <tr>\n",
       "      <th>top</th>\n",
       "      <td>Email</td>\n",
       "      <td>2e72d641-95ac-497b-bbf8-4861764a7097</td>\n",
       "      <td>California</td>\n",
       "    </tr>\n",
       "    <tr>\n",
       "      <th>freq</th>\n",
       "      <td>7456</td>\n",
       "      <td>1</td>\n",
       "      <td>1872</td>\n",
       "    </tr>\n",
       "  </tbody>\n",
       "</table>\n",
       "</div>"
      ],
      "text/plain": [
       "       sales_method                           customer_id       state\n",
       "count         15000                                 15000       15000\n",
       "unique            5                                 15000          50\n",
       "top           Email  2e72d641-95ac-497b-bbf8-4861764a7097  California\n",
       "freq           7456                                     1        1872"
      ]
     },
     "execution_count": 5,
     "metadata": {},
     "output_type": "execute_result"
    }
   ],
   "source": [
    "df.describe(include=\"O\")"
   ]
  },
  {
   "cell_type": "code",
   "execution_count": 6,
   "metadata": {},
   "outputs": [
    {
     "name": "stdout",
     "output_type": "stream",
     "text": [
      "['Email' 'Email + Call' 'Call' 'em + call' 'email']\n",
      "\n",
      "\n",
      "['Arizona' 'Kansas' 'Wisconsin' 'Indiana' 'Illinois' 'Mississippi'\n",
      " 'Georgia' 'Oklahoma' 'Massachusetts' 'Missouri' 'Texas' 'New York'\n",
      " 'Maryland' 'California' 'Tennessee' 'Pennsylvania' 'North Dakota'\n",
      " 'Florida' 'Michigan' 'North Carolina' 'Hawaii' 'Colorado' 'Louisiana'\n",
      " 'Virginia' 'New Mexico' 'Arkansas' 'Alaska' 'Oregon' 'New Hampshire'\n",
      " 'Ohio' 'New Jersey' 'Connecticut' 'Iowa' 'Montana' 'Washington'\n",
      " 'Kentucky' 'Alabama' 'Nebraska' 'South Carolina' 'Minnesota'\n",
      " 'South Dakota' 'Delaware' 'Maine' 'Utah' 'West Virginia' 'Vermont'\n",
      " 'Rhode Island' 'Nevada' 'Idaho' 'Wyoming']\n"
     ]
    }
   ],
   "source": [
    "print(df[\"sales_method\"].unique())\n",
    "print(\"\\n\")\n",
    "print(df[\"state\"].unique())\n"
   ]
  },
  {
   "cell_type": "code",
   "execution_count": 7,
   "metadata": {},
   "outputs": [
    {
     "data": {
      "text/plain": [
       "week                    0\n",
       "sales_method            0\n",
       "customer_id             0\n",
       "nb_sold                 0\n",
       "revenue              1074\n",
       "years_as_customer       0\n",
       "nb_site_visits          0\n",
       "state                   0\n",
       "dtype: int64"
      ]
     },
     "execution_count": 7,
     "metadata": {},
     "output_type": "execute_result"
    }
   ],
   "source": [
    "df.isna().sum()"
   ]
  },
  {
   "cell_type": "code",
   "execution_count": 8,
   "metadata": {},
   "outputs": [
    {
     "data": {
      "text/plain": [
       "week                   int64\n",
       "sales_method          object\n",
       "customer_id           object\n",
       "nb_sold                int64\n",
       "revenue              float64\n",
       "years_as_customer      int64\n",
       "nb_site_visits         int64\n",
       "state                 object\n",
       "dtype: object"
      ]
     },
     "execution_count": 8,
     "metadata": {},
     "output_type": "execute_result"
    }
   ],
   "source": [
    "df.dtypes"
   ]
  },
  {
   "cell_type": "code",
   "execution_count": 9,
   "metadata": {},
   "outputs": [
    {
     "data": {
      "text/plain": [
       "(15000, 8)"
      ]
     },
     "execution_count": 9,
     "metadata": {},
     "output_type": "execute_result"
    }
   ],
   "source": [
    "df.shape"
   ]
  },
  {
   "cell_type": "code",
   "execution_count": 10,
   "metadata": {},
   "outputs": [
    {
     "data": {
      "text/plain": [
       "Index(['week', 'sales_method', 'customer_id', 'nb_sold', 'revenue',\n",
       "       'years_as_customer', 'nb_site_visits', 'state'],\n",
       "      dtype='object')"
      ]
     },
     "execution_count": 10,
     "metadata": {},
     "output_type": "execute_result"
    }
   ],
   "source": [
    "df.columns"
   ]
  },
  {
   "cell_type": "code",
   "execution_count": 11,
   "metadata": {},
   "outputs": [
    {
     "data": {
      "text/plain": [
       "array(['Email', 'Email + Call', 'Call', 'em + call', 'email'],\n",
       "      dtype=object)"
      ]
     },
     "execution_count": 11,
     "metadata": {},
     "output_type": "execute_result"
    }
   ],
   "source": [
    "#It should be :Email and call, Call, Email\n",
    "\n",
    "df['sales_method'].unique()"
   ]
  },
  {
   "cell_type": "code",
   "execution_count": 12,
   "metadata": {},
   "outputs": [
    {
     "data": {
      "text/plain": [
       "array(['Email', 'Email and call', 'Call'], dtype=object)"
      ]
     },
     "execution_count": 12,
     "metadata": {},
     "output_type": "execute_result"
    }
   ],
   "source": [
    "\n",
    "mapping = {\n",
    "    'Email': 'Email',\n",
    "    'email': 'Email',\n",
    "    'Email + Call': 'Email and call',\n",
    "    'em + call': 'Email and call',\n",
    "    'Call': 'Call'\n",
    "}\n",
    "\n",
    "\n",
    "df['sales_method'] = df['sales_method'].map(mapping)\n",
    "\n",
    "unique_methods = df['sales_method'].unique()\n",
    "unique_methods\n"
   ]
  },
  {
   "cell_type": "code",
   "execution_count": 13,
   "metadata": {},
   "outputs": [],
   "source": [
    "df['sales_method'] = df['sales_method'].astype('category')\n",
    "df['state'] = df['state'].astype('category')"
   ]
  },
  {
   "cell_type": "code",
   "execution_count": 14,
   "metadata": {},
   "outputs": [
    {
     "data": {
      "text/plain": [
       "week                    int64\n",
       "sales_method         category\n",
       "customer_id            object\n",
       "nb_sold                 int64\n",
       "revenue               float64\n",
       "years_as_customer       int64\n",
       "nb_site_visits          int64\n",
       "state                category\n",
       "dtype: object"
      ]
     },
     "execution_count": 14,
     "metadata": {},
     "output_type": "execute_result"
    }
   ],
   "source": [
    "df.dtypes"
   ]
  },
  {
   "cell_type": "code",
   "execution_count": 15,
   "metadata": {},
   "outputs": [
    {
     "name": "stdout",
     "output_type": "stream",
     "text": [
      "Empty DataFrame\n",
      "Columns: [week, sales_method, customer_id, nb_sold, revenue, years_as_customer, nb_site_visits, state]\n",
      "Index: []\n"
     ]
    }
   ],
   "source": [
    "# Solo hicimos esto para probar que no habia datos duplicados y que el resultado fue correcto.//\n",
    "#We did this to test that there is no duplicate data and that the result was correct.\n",
    "missing_values = df[df['sales_method'].isna()]\n",
    "\n",
    "print(missing_values)\n"
   ]
  },
  {
   "cell_type": "code",
   "execution_count": 16,
   "metadata": {},
   "outputs": [
    {
     "name": "stdout",
     "output_type": "stream",
     "text": [
      "6\n",
      "1\n"
     ]
    }
   ],
   "source": [
    "print(df['week'].max())\n",
    "print(df['week'].min())"
   ]
  },
  {
   "cell_type": "code",
   "execution_count": 17,
   "metadata": {},
   "outputs": [],
   "source": [
    "\n",
    "#data_sorted = df.sort_values(by='week', ascending=True)\n",
    "df = df.sort_values(by='week', ascending=True)"
   ]
  },
  {
   "cell_type": "markdown",
   "metadata": {},
   "source": [
    "#  A.- How many customers were there for each approach?"
   ]
  },
  {
   "cell_type": "markdown",
   "metadata": {},
   "source": [
    "After adjusting the information and reassigning according to the 3 categories, were quantified, 4962 clients in the \"Call\" category, 7477 clients  in \"Email\" category and 2572 clinets in \"Email and call\". Most of the clients are contacted by e-mail,having the greatest revenue in the analyzed time interval (6 weeks). These outperform their two other alternatives combined. The profit of 'email' exceeds its two other alternatives combined"
   ]
  },
  {
   "cell_type": "code",
   "execution_count": 18,
   "metadata": {},
   "outputs": [
    {
     "data": {
      "text/plain": [
       "sales_method\n",
       "Call              4962\n",
       "Email             7466\n",
       "Email and call    2572\n",
       "Name: customer_id, dtype: int64"
      ]
     },
     "execution_count": 18,
     "metadata": {},
     "output_type": "execute_result"
    }
   ],
   "source": [
    "\n",
    "customers_methods = df.groupby('sales_method')['customer_id'].nunique()\n",
    "\n",
    "customers_methods\n"
   ]
  },
  {
   "cell_type": "code",
   "execution_count": 19,
   "metadata": {},
   "outputs": [
    {
     "data": {
      "image/png": "[encoded data removed]",
      "text/plain": [
       "<Figure size 1000x600 with 1 Axes>"
      ]
     },
     "metadata": {},
     "output_type": "display_data"
    }
   ],
   "source": [
    "plt.figure(figsize=(10, 6))\n",
    "ax = customers_methods.sort_values().plot(kind='barh', color=['blue', 'red', 'green'])\n",
    "\n",
    "\n",
    "for index, value in enumerate(customers_methods.sort_values()):\n",
    "    ax.text(value, index, f' {value}', va='center', color='black')\n",
    "\n",
    "plt.title('Clients by Sell Method')\n",
    "plt.xlabel('Number of Clients')\n",
    "plt.ylabel('Sales Method')\n",
    "plt.grid(axis='x')\n",
    "plt.show()\n"
   ]
  },
  {
   "cell_type": "code",
   "execution_count": 20,
   "metadata": {},
   "outputs": [
    {
     "data": {
      "application/vnd.plotly.v1+json": {
       "config": {
        "plotlyServerURL": "https://plot.ly"
       },
       "data": [
        {
         "alignmentgroup": "True",
         "hovertemplate": "Sales Method=%{y}<br>Number of Clients=%{text}<extra></extra>",
         "legendgroup": "Email and call",
         "marker": {
          "color": "green",
          "pattern": {
           "shape": ""
          }
         },
         "name": "Email and call",
         "offsetgroup": "Email and call",
         "orientation": "h",
         "showlegend": true,
         "text": [
          2572
         ],
         "textposition": "auto",
         "type": "bar",
         "x": [
          2572
         ],
         "xaxis": "x",
         "y": [
          "Email and call"
         ],
         "yaxis": "y"
        },
        {
         "alignmentgroup": "True",
         "hovertemplate": "Sales Method=%{y}<br>Number of Clients=%{text}<extra></extra>",
         "legendgroup": "Call",
         "marker": {
          "color": "red",
          "pattern": {
           "shape": ""
          }
         },
         "name": "Call",
         "offsetgroup": "Call",
         "orientation": "h",
         "showlegend": true,
         "text": [
          4962
         ],
         "textposition": "auto",
         "type": "bar",
         "x": [
          4962
         ],
         "xaxis": "x",
         "y": [
          "Call"
         ],
         "yaxis": "y"
        },
        {
         "alignmentgroup": "True",
         "hovertemplate": "Sales Method=%{y}<br>Number of Clients=%{text}<extra></extra>",
         "legendgroup": "Email",
         "marker": {
          "color": "blue",
          "pattern": {
           "shape": ""
          }
         },
         "name": "Email",
         "offsetgroup": "Email",
         "orientation": "h",
         "showlegend": true,
         "text": [
          7466
         ],
         "textposition": "auto",
         "type": "bar",
         "x": [
          7466
         ],
         "xaxis": "x",
         "y": [
          "Email"
         ],
         "yaxis": "y"
        }
       ],
       "layout": {
        "barmode": "relative",
        "legend": {
         "title": {
          "text": "Sales Method"
         },
         "tracegroupgap": 0
        },
        "margin": {
         "t": 60
        },
        "showlegend": false,
        "template": {
         "data": {
          "bar": [
           {
            "error_x": {
             "color": "#2a3f5f"
            },
            "error_y": {
             "color": "#2a3f5f"
            },
            "marker": {
             "line": {
              "color": "#E5ECF6",
              "width": 0.5
             },
             "pattern": {
              "fillmode": "overlay",
              "size": 10,
              "solidity": 0.2
             }
            },
            "type": "bar"
           }
          ],
          "barpolar": [
           {
            "marker": {
             "line": {
              "color": "#E5ECF6",
              "width": 0.5
             },
             "pattern": {
              "fillmode": "overlay",
              "size": 10,
              "solidity": 0.2
             }
            },
            "type": "barpolar"
           }
          ],
          "carpet": [
           {
            "aaxis": {
             "endlinecolor": "#2a3f5f",
             "gridcolor": "white",
             "linecolor": "white",
             "minorgridcolor": "white",
             "startlinecolor": "#2a3f5f"
            },
            "baxis": {
             "endlinecolor": "#2a3f5f",
             "gridcolor": "white",
             "linecolor": "white",
             "minorgridcolor": "white",
             "startlinecolor": "#2a3f5f"
            },
            "type": "carpet"
           }
          ],
          "choropleth": [
           {
            "colorbar": {
             "outlinewidth": 0,
             "ticks": ""
            },
            "type": "choropleth"
           }
          ],
          "contour": [
           {
            "colorbar": {
             "outlinewidth": 0,
             "ticks": ""
            },
            "colorscale": [
             [
              0,
              "#0d0887"
             ],
             [
              0.1111111111111111,
              "#46039f"
             ],
             [
              0.2222222222222222,
              "#7201a8"
             ],
             [
              0.3333333333333333,
              "#9c179e"
             ],
             [
              0.4444444444444444,
              "#bd3786"
             ],
             [
              0.5555555555555556,
              "#d8576b"
             ],
             [
              0.6666666666666666,
              "#ed7953"
             ],
             [
              0.7777777777777778,
              "#fb9f3a"
             ],
             [
              0.8888888888888888,
              "#fdca26"
             ],
             [
              1,
              "#f0f921"
             ]
            ],
            "type": "contour"
           }
          ],
          "contourcarpet": [
           {
            "colorbar": {
             "outlinewidth": 0,
             "ticks": ""
            },
            "type": "contourcarpet"
           }
          ],
          "heatmap": [
           {
            "colorbar": {
             "outlinewidth": 0,
             "ticks": ""
            },
            "colorscale": [
             [
              0,
              "#0d0887"
             ],
             [
              0.1111111111111111,
              "#46039f"
             ],
             [
              0.2222222222222222,
              "#7201a8"
             ],
             [
              0.3333333333333333,
              "#9c179e"
             ],
             [
              0.4444444444444444,
              "#bd3786"
             ],
             [
              0.5555555555555556,
              "#d8576b"
             ],
             [
              0.6666666666666666,
              "#ed7953"
             ],
             [
              0.7777777777777778,
              "#fb9f3a"
             ],
             [
              0.8888888888888888,
              "#fdca26"
             ],
             [
              1,
              "#f0f921"
             ]
            ],
            "type": "heatmap"
           }
          ],
          "heatmapgl": [
           {
            "colorbar": {
             "outlinewidth": 0,
             "ticks": ""
            },
            "colorscale": [
             [
              0,
              "#0d0887"
             ],
             [
              0.1111111111111111,
              "#46039f"
             ],
             [
              0.2222222222222222,
              "#7201a8"
             ],
             [
              0.3333333333333333,
              "#9c179e"
             ],
             [
              0.4444444444444444,
              "#bd3786"
             ],
             [
              0.5555555555555556,
              "#d8576b"
             ],
             [
              0.6666666666666666,
              "#ed7953"
             ],
             [
              0.7777777777777778,
              "#fb9f3a"
             ],
             [
              0.8888888888888888,
              "#fdca26"
             ],
             [
              1,
              "#f0f921"
             ]
            ],
            "type": "heatmapgl"
           }
          ],
          "histogram": [
           {
            "marker": {
             "pattern": {
              "fillmode": "overlay",
              "size": 10,
              "solidity": 0.2
             }
            },
            "type": "histogram"
           }
          ],
          "histogram2d": [
           {
            "colorbar": {
             "outlinewidth": 0,
             "ticks": ""
            },
            "colorscale": [
             [
              0,
              "#0d0887"
             ],
             [
              0.1111111111111111,
              "#46039f"
             ],
             [
              0.2222222222222222,
              "#7201a8"
             ],
             [
              0.3333333333333333,
              "#9c179e"
             ],
             [
              0.4444444444444444,
              "#bd3786"
             ],
             [
              0.5555555555555556,
              "#d8576b"
             ],
             [
              0.6666666666666666,
              "#ed7953"
             ],
             [
              0.7777777777777778,
              "#fb9f3a"
             ],
             [
              0.8888888888888888,
              "#fdca26"
             ],
             [
              1,
              "#f0f921"
             ]
            ],
            "type": "histogram2d"
           }
          ],
          "histogram2dcontour": [
           {
            "colorbar": {
             "outlinewidth": 0,
             "ticks": ""
            },
            "colorscale": [
             [
              0,
              "#0d0887"
             ],
             [
              0.1111111111111111,
              "#46039f"
             ],
             [
              0.2222222222222222,
              "#7201a8"
             ],
             [
              0.3333333333333333,
              "#9c179e"
             ],
             [
              0.4444444444444444,
              "#bd3786"
             ],
             [
              0.5555555555555556,
              "#d8576b"
             ],
             [
              0.6666666666666666,
              "#ed7953"
             ],
             [
              0.7777777777777778,
              "#fb9f3a"
             ],
             [
              0.8888888888888888,
              "#fdca26"
             ],
             [
              1,
              "#f0f921"
             ]
            ],
            "type": "histogram2dcontour"
           }
          ],
          "mesh3d": [
           {
            "colorbar": {
             "outlinewidth": 0,
             "ticks": ""
            },
            "type": "mesh3d"
           }
          ],
          "parcoords": [
           {
            "line": {
             "colorbar": {
              "outlinewidth": 0,
              "ticks": ""
             }
            },
            "type": "parcoords"
           }
          ],
          "pie": [
           {
            "automargin": true,
            "type": "pie"
           }
          ],
          "scatter": [
           {
            "fillpattern": {
             "fillmode": "overlay",
             "size": 10,
             "solidity": 0.2
            },
            "type": "scatter"
           }
          ],
          "scatter3d": [
           {
            "line": {
             "colorbar": {
              "outlinewidth": 0,
              "ticks": ""
             }
            },
            "marker": {
             "colorbar": {
              "outlinewidth": 0,
              "ticks": ""
             }
            },
            "type": "scatter3d"
           }
          ],
          "scattercarpet": [
           {
            "marker": {
             "colorbar": {
              "outlinewidth": 0,
              "ticks": ""
             }
            },
            "type": "scattercarpet"
           }
          ],
          "scattergeo": [
           {
            "marker": {
             "colorbar": {
              "outlinewidth": 0,
              "ticks": ""
             }
            },
            "type": "scattergeo"
           }
          ],
          "scattergl": [
           {
            "marker": {
             "colorbar": {
              "outlinewidth": 0,
              "ticks": ""
             }
            },
            "type": "scattergl"
           }
          ],
          "scattermapbox": [
           {
            "marker": {
             "colorbar": {
              "outlinewidth": 0,
              "ticks": ""
             }
            },
            "type": "scattermapbox"
           }
          ],
          "scatterpolar": [
           {
            "marker": {
             "colorbar": {
              "outlinewidth": 0,
              "ticks": ""
             }
            },
            "type": "scatterpolar"
           }
          ],
          "scatterpolargl": [
           {
            "marker": {
             "colorbar": {
              "outlinewidth": 0,
              "ticks": ""
             }
            },
            "type": "scatterpolargl"
           }
          ],
          "scatterternary": [
           {
            "marker": {
             "colorbar": {
              "outlinewidth": 0,
              "ticks": ""
             }
            },
            "type": "scatterternary"
           }
          ],
          "surface": [
           {
            "colorbar": {
             "outlinewidth": 0,
             "ticks": ""
            },
            "colorscale": [
             [
              0,
              "#0d0887"
             ],
             [
              0.1111111111111111,
              "#46039f"
             ],
             [
              0.2222222222222222,
              "#7201a8"
             ],
             [
              0.3333333333333333,
              "#9c179e"
             ],
             [
              0.4444444444444444,
              "#bd3786"
             ],
             [
              0.5555555555555556,
              "#d8576b"
             ],
             [
              0.6666666666666666,
              "#ed7953"
             ],
             [
              0.7777777777777778,
              "#fb9f3a"
             ],
             [
              0.8888888888888888,
              "#fdca26"
             ],
             [
              1,
              "#f0f921"
             ]
            ],
            "type": "surface"
           }
          ],
          "table": [
           {
            "cells": {
             "fill": {
              "color": "#EBF0F8"
             },
             "line": {
              "color": "white"
             }
            },
            "header": {
             "fill": {
              "color": "#C8D4E3"
             },
             "line": {
              "color": "white"
             }
            },
            "type": "table"
           }
          ]
         },
         "layout": {
          "annotationdefaults": {
           "arrowcolor": "#2a3f5f",
           "arrowhead": 0,
           "arrowwidth": 1
          },
          "autotypenumbers": "strict",
          "coloraxis": {
           "colorbar": {
            "outlinewidth": 0,
            "ticks": ""
           }
          },
          "colorscale": {
           "diverging": [
            [
             0,
             "#8e0152"
            ],
            [
             0.1,
             "#c51b7d"
            ],
            [
             0.2,
             "#de77ae"
            ],
            [
             0.3,
             "#f1b6da"
            ],
            [
             0.4,
             "#fde0ef"
            ],
            [
             0.5,
             "#f7f7f7"
            ],
            [
             0.6,
             "#e6f5d0"
            ],
            [
             0.7,
             "#b8e186"
            ],
            [
             0.8,
             "#7fbc41"
            ],
            [
             0.9,
             "#4d9221"
            ],
            [
             1,
             "#276419"
            ]
           ],
           "sequential": [
            [
             0,
             "#0d0887"
            ],
            [
             0.1111111111111111,
             "#46039f"
            ],
            [
             0.2222222222222222,
             "#7201a8"
            ],
            [
             0.3333333333333333,
             "#9c179e"
            ],
            [
             0.4444444444444444,
             "#bd3786"
            ],
            [
             0.5555555555555556,
             "#d8576b"
            ],
            [
             0.6666666666666666,
             "#ed7953"
            ],
            [
             0.7777777777777778,
             "#fb9f3a"
            ],
            [
             0.8888888888888888,
             "#fdca26"
            ],
            [
             1,
             "#f0f921"
            ]
           ],
           "sequentialminus": [
            [
             0,
             "#0d0887"
            ],
            [
             0.1111111111111111,
             "#46039f"
            ],
            [
             0.2222222222222222,
             "#7201a8"
            ],
            [
             0.3333333333333333,
             "#9c179e"
            ],
            [
             0.4444444444444444,
             "#bd3786"
            ],
            [
             0.5555555555555556,
             "#d8576b"
            ],
            [
             0.6666666666666666,
             "#ed7953"
            ],
            [
             0.7777777777777778,
             "#fb9f3a"
            ],
            [
             0.8888888888888888,
             "#fdca26"
            ],
            [
             1,
             "#f0f921"
            ]
           ]
          },
          "colorway": [
           "#636efa",
           "#EF553B",
           "#00cc96",
           "#ab63fa",
           "#FFA15A",
           "#19d3f3",
           "#FF6692",
           "#B6E880",
           "#FF97FF",
           "#FECB52"
          ],
          "font": {
           "color": "#2a3f5f"
          },
          "geo": {
           "bgcolor": "white",
           "lakecolor": "white",
           "landcolor": "#E5ECF6",
           "showlakes": true,
           "showland": true,
           "subunitcolor": "white"
          },
          "hoverlabel": {
           "align": "left"
          },
          "hovermode": "closest",
          "mapbox": {
           "style": "light"
          },
          "paper_bgcolor": "white",
          "plot_bgcolor": "#E5ECF6",
          "polar": {
           "angularaxis": {
            "gridcolor": "white",
            "linecolor": "white",
            "ticks": ""
           },
           "bgcolor": "#E5ECF6",
           "radialaxis": {
            "gridcolor": "white",
            "linecolor": "white",
            "ticks": ""
           }
          },
          "scene": {
           "xaxis": {
            "backgroundcolor": "#E5ECF6",
            "gridcolor": "white",
            "gridwidth": 2,
            "linecolor": "white",
            "showbackground": true,
            "ticks": "",
            "zerolinecolor": "white"
           },
           "yaxis": {
            "backgroundcolor": "#E5ECF6",
            "gridcolor": "white",
            "gridwidth": 2,
            "linecolor": "white",
            "showbackground": true,
            "ticks": "",
            "zerolinecolor": "white"
           },
           "zaxis": {
            "backgroundcolor": "#E5ECF6",
            "gridcolor": "white",
            "gridwidth": 2,
            "linecolor": "white",
            "showbackground": true,
            "ticks": "",
            "zerolinecolor": "white"
           }
          },
          "shapedefaults": {
           "line": {
            "color": "#2a3f5f"
           }
          },
          "ternary": {
           "aaxis": {
            "gridcolor": "white",
            "linecolor": "white",
            "ticks": ""
           },
           "baxis": {
            "gridcolor": "white",
            "linecolor": "white",
            "ticks": ""
           },
           "bgcolor": "#E5ECF6",
           "caxis": {
            "gridcolor": "white",
            "linecolor": "white",
            "ticks": ""
           }
          },
          "title": {
           "x": 0.05
          },
          "xaxis": {
           "automargin": true,
           "gridcolor": "white",
           "linecolor": "white",
           "ticks": "",
           "title": {
            "standoff": 15
           },
           "zerolinecolor": "white",
           "zerolinewidth": 2
          },
          "yaxis": {
           "automargin": true,
           "gridcolor": "white",
           "linecolor": "white",
           "ticks": "",
           "title": {
            "standoff": 15
           },
           "zerolinecolor": "white",
           "zerolinewidth": 2
          }
         }
        },
        "title": {
         "text": "Clients by Sales Method"
        },
        "xaxis": {
         "anchor": "y",
         "domain": [
          0,
          1
         ],
         "title": {
          "text": "Number of Clients"
         }
        },
        "yaxis": {
         "anchor": "x",
         "categoryarray": [
          "Email",
          "Call",
          "Email and call"
         ],
         "categoryorder": "array",
         "domain": [
          0,
          1
         ],
         "title": {
          "text": "Sales Method"
         }
        }
       }
      }
     },
     "metadata": {},
     "output_type": "display_data"
    }
   ],
   "source": [
    "df_plot = customers_methods.sort_values().reset_index()\n",
    "df_plot.columns = ['Sales Method', 'Number of Clients']\n",
    "\n",
    "fig = px.bar(df_plot, \n",
    "             x='Number of Clients', \n",
    "             y='Sales Method', \n",
    "             orientation='h', \n",
    "             color='Sales Method',\n",
    "             color_discrete_map={\n",
    "                \"Email\": \"blue\",\n",
    "                \"Call\": \"red\",\n",
    "                \"Email and call\": \"green\"},\n",
    "             text='Number of Clients')\n",
    "\n",
    "fig.update_layout(title_text=\"Clients by Sales Method\",\n",
    "                  xaxis_title=\"Number of Clients\",\n",
    "                  yaxis_title=\"Sales Method\",\n",
    "                  showlegend=False)\n",
    "fig.show()\n"
   ]
  },
  {
   "cell_type": "code",
   "execution_count": 21,
   "metadata": {},
   "outputs": [
    {
     "data": {
      "image/png": "[encoded data removed]",
      "text/plain": [
       "<Figure size 1000x600 with 1 Axes>"
      ]
     },
     "metadata": {},
     "output_type": "display_data"
    }
   ],
   "source": [
    "revenue_methods = df.groupby('sales_method')['revenue'].sum()\n",
    "\n",
    "plt.figure(figsize=(10, 6))\n",
    "ax = revenue_methods.sort_values().plot(kind='barh', color=['blue', 'red', 'green'])\n",
    "\n",
    "for index, value in enumerate(revenue_methods.sort_values()):\n",
    "    ax.text(value, index, f' ${value:,.2f}', va='center', color='black')\n",
    "\n",
    "plt.title('Total Revenue by Sales Method')\n",
    "plt.xlabel('Total Revenue ($)')\n",
    "plt.ylabel('Sales Method')\n",
    "plt.grid(axis='x')\n",
    "plt.show()\n"
   ]
  },
  {
   "cell_type": "code",
   "execution_count": 22,
   "metadata": {},
   "outputs": [
    {
     "data": {
      "application/vnd.plotly.v1+json": {
       "config": {
        "plotlyServerURL": "https://plot.ly"
       },
       "data": [
        {
         "alignmentgroup": "True",
         "hovertemplate": "Sales Method=%{y}<br>Total Revenue=%{text}<extra></extra>",
         "legendgroup": "Call",
         "marker": {
          "color": "red",
          "pattern": {
           "shape": ""
          }
         },
         "name": "Call",
         "offsetgroup": "Call",
         "orientation": "h",
         "showlegend": true,
         "text": [
          227563.49
         ],
         "textposition": "inside",
         "texttemplate": "%{text:$,.2f}",
         "type": "bar",
         "x": [
          227563.49
         ],
         "xaxis": "x",
         "y": [
          "Call"
         ],
         "yaxis": "y"
        },
        {
         "alignmentgroup": "True",
         "hovertemplate": "Sales Method=%{y}<br>Total Revenue=%{text}<extra></extra>",
         "legendgroup": "Email and call",
         "marker": {
          "color": "green",
          "pattern": {
           "shape": ""
          }
         },
         "name": "Email and call",
         "offsetgroup": "Email and call",
         "orientation": "h",
         "showlegend": true,
         "text": [
          408256.69
         ],
         "textposition": "inside",
         "texttemplate": "%{text:$,.2f}",
         "type": "bar",
         "x": [
          408256.69
         ],
         "xaxis": "x",
         "y": [
          "Email and call"
         ],
         "yaxis": "y"
        },
        {
         "alignmentgroup": "True",
         "hovertemplate": "Sales Method=%{y}<br>Total Revenue=%{text}<extra></extra>",
         "legendgroup": "Email",
         "marker": {
          "color": "blue",
          "pattern": {
           "shape": ""
          }
         },
         "name": "Email",
         "offsetgroup": "Email",
         "orientation": "h",
         "showlegend": true,
         "text": [
          672317.83
         ],
         "textposition": "inside",
         "texttemplate": "%{text:$,.2f}",
         "type": "bar",
         "x": [
          672317.83
         ],
         "xaxis": "x",
         "y": [
          "Email"
         ],
         "yaxis": "y"
        }
       ],
       "layout": {
        "barmode": "relative",
        "legend": {
         "title": {
          "text": "Sales Method"
         },
         "tracegroupgap": 0
        },
        "margin": {
         "t": 60
        },
        "showlegend": false,
        "template": {
         "data": {
          "bar": [
           {
            "error_x": {
             "color": "#2a3f5f"
            },
            "error_y": {
             "color": "#2a3f5f"
            },
            "marker": {
             "line": {
              "color": "#E5ECF6",
              "width": 0.5
             },
             "pattern": {
              "fillmode": "overlay",
              "size": 10,
              "solidity": 0.2
             }
            },
            "type": "bar"
           }
          ],
          "barpolar": [
           {
            "marker": {
             "line": {
              "color": "#E5ECF6",
              "width": 0.5
             },
             "pattern": {
              "fillmode": "overlay",
              "size": 10,
              "solidity": 0.2
             }
            },
            "type": "barpolar"
           }
          ],
          "carpet": [
           {
            "aaxis": {
             "endlinecolor": "#2a3f5f",
             "gridcolor": "white",
             "linecolor": "white",
             "minorgridcolor": "white",
             "startlinecolor": "#2a3f5f"
            },
            "baxis": {
             "endlinecolor": "#2a3f5f",
             "gridcolor": "white",
             "linecolor": "white",
             "minorgridcolor": "white",
             "startlinecolor": "#2a3f5f"
            },
            "type": "carpet"
           }
          ],
          "choropleth": [
           {
            "colorbar": {
             "outlinewidth": 0,
             "ticks": ""
            },
            "type": "choropleth"
           }
          ],
          "contour": [
           {
            "colorbar": {
             "outlinewidth": 0,
             "ticks": ""
            },
            "colorscale": [
             [
              0,
              "#0d0887"
             ],
             [
              0.1111111111111111,
              "#46039f"
             ],
             [
              0.2222222222222222,
              "#7201a8"
             ],
             [
              0.3333333333333333,
              "#9c179e"
             ],
             [
              0.4444444444444444,
              "#bd3786"
             ],
             [
              0.5555555555555556,
              "#d8576b"
             ],
             [
              0.6666666666666666,
              "#ed7953"
             ],
             [
              0.7777777777777778,
              "#fb9f3a"
             ],
             [
              0.8888888888888888,
              "#fdca26"
             ],
             [
              1,
              "#f0f921"
             ]
            ],
            "type": "contour"
           }
          ],
          "contourcarpet": [
           {
            "colorbar": {
             "outlinewidth": 0,
             "ticks": ""
            },
            "type": "contourcarpet"
           }
          ],
          "heatmap": [
           {
            "colorbar": {
             "outlinewidth": 0,
             "ticks": ""
            },
            "colorscale": [
             [
              0,
              "#0d0887"
             ],
             [
              0.1111111111111111,
              "#46039f"
             ],
             [
              0.2222222222222222,
              "#7201a8"
             ],
             [
              0.3333333333333333,
              "#9c179e"
             ],
             [
              0.4444444444444444,
              "#bd3786"
             ],
             [
              0.5555555555555556,
              "#d8576b"
             ],
             [
              0.6666666666666666,
              "#ed7953"
             ],
             [
              0.7777777777777778,
              "#fb9f3a"
             ],
             [
              0.8888888888888888,
              "#fdca26"
             ],
             [
              1,
              "#f0f921"
             ]
            ],
            "type": "heatmap"
           }
          ],
          "heatmapgl": [
           {
            "colorbar": {
             "outlinewidth": 0,
             "ticks": ""
            },
            "colorscale": [
             [
              0,
              "#0d0887"
             ],
             [
              0.1111111111111111,
              "#46039f"
             ],
             [
              0.2222222222222222,
              "#7201a8"
             ],
             [
              0.3333333333333333,
              "#9c179e"
             ],
             [
              0.4444444444444444,
              "#bd3786"
             ],
             [
              0.5555555555555556,
              "#d8576b"
             ],
             [
              0.6666666666666666,
              "#ed7953"
             ],
             [
              0.7777777777777778,
              "#fb9f3a"
             ],
             [
              0.8888888888888888,
              "#fdca26"
             ],
             [
              1,
              "#f0f921"
             ]
            ],
            "type": "heatmapgl"
           }
          ],
          "histogram": [
           {
            "marker": {
             "pattern": {
              "fillmode": "overlay",
              "size": 10,
              "solidity": 0.2
             }
            },
            "type": "histogram"
           }
          ],
          "histogram2d": [
           {
            "colorbar": {
             "outlinewidth": 0,
             "ticks": ""
            },
            "colorscale": [
             [
              0,
              "#0d0887"
             ],
             [
              0.1111111111111111,
              "#46039f"
             ],
             [
              0.2222222222222222,
              "#7201a8"
             ],
             [
              0.3333333333333333,
              "#9c179e"
             ],
             [
              0.4444444444444444,
              "#bd3786"
             ],
             [
              0.5555555555555556,
              "#d8576b"
             ],
             [
              0.6666666666666666,
              "#ed7953"
             ],
             [
              0.7777777777777778,
              "#fb9f3a"
             ],
             [
              0.8888888888888888,
              "#fdca26"
             ],
             [
              1,
              "#f0f921"
             ]
            ],
            "type": "histogram2d"
           }
          ],
          "histogram2dcontour": [
           {
            "colorbar": {
             "outlinewidth": 0,
             "ticks": ""
            },
            "colorscale": [
             [
              0,
              "#0d0887"
             ],
             [
              0.1111111111111111,
              "#46039f"
             ],
             [
              0.2222222222222222,
              "#7201a8"
             ],
             [
              0.3333333333333333,
              "#9c179e"
             ],
             [
              0.4444444444444444,
              "#bd3786"
             ],
             [
              0.5555555555555556,
              "#d8576b"
             ],
             [
              0.6666666666666666,
              "#ed7953"
             ],
             [
              0.7777777777777778,
              "#fb9f3a"
             ],
             [
              0.8888888888888888,
              "#fdca26"
             ],
             [
              1,
              "#f0f921"
             ]
            ],
            "type": "histogram2dcontour"
           }
          ],
          "mesh3d": [
           {
            "colorbar": {
             "outlinewidth": 0,
             "ticks": ""
            },
            "type": "mesh3d"
           }
          ],
          "parcoords": [
           {
            "line": {
             "colorbar": {
              "outlinewidth": 0,
              "ticks": ""
             }
            },
            "type": "parcoords"
           }
          ],
          "pie": [
           {
            "automargin": true,
            "type": "pie"
           }
          ],
          "scatter": [
           {
            "fillpattern": {
             "fillmode": "overlay",
             "size": 10,
             "solidity": 0.2
            },
            "type": "scatter"
           }
          ],
          "scatter3d": [
           {
            "line": {
             "colorbar": {
              "outlinewidth": 0,
              "ticks": ""
             }
            },
            "marker": {
             "colorbar": {
              "outlinewidth": 0,
              "ticks": ""
             }
            },
            "type": "scatter3d"
           }
          ],
          "scattercarpet": [
           {
            "marker": {
             "colorbar": {
              "outlinewidth": 0,
              "ticks": ""
             }
            },
            "type": "scattercarpet"
           }
          ],
          "scattergeo": [
           {
            "marker": {
             "colorbar": {
              "outlinewidth": 0,
              "ticks": ""
             }
            },
            "type": "scattergeo"
           }
          ],
          "scattergl": [
           {
            "marker": {
             "colorbar": {
              "outlinewidth": 0,
              "ticks": ""
             }
            },
            "type": "scattergl"
           }
          ],
          "scattermapbox": [
           {
            "marker": {
             "colorbar": {
              "outlinewidth": 0,
              "ticks": ""
             }
            },
            "type": "scattermapbox"
           }
          ],
          "scatterpolar": [
           {
            "marker": {
             "colorbar": {
              "outlinewidth": 0,
              "ticks": ""
             }
            },
            "type": "scatterpolar"
           }
          ],
          "scatterpolargl": [
           {
            "marker": {
             "colorbar": {
              "outlinewidth": 0,
              "ticks": ""
             }
            },
            "type": "scatterpolargl"
           }
          ],
          "scatterternary": [
           {
            "marker": {
             "colorbar": {
              "outlinewidth": 0,
              "ticks": ""
             }
            },
            "type": "scatterternary"
           }
          ],
          "surface": [
           {
            "colorbar": {
             "outlinewidth": 0,
             "ticks": ""
            },
            "colorscale": [
             [
              0,
              "#0d0887"
             ],
             [
              0.1111111111111111,
              "#46039f"
             ],
             [
              0.2222222222222222,
              "#7201a8"
             ],
             [
              0.3333333333333333,
              "#9c179e"
             ],
             [
              0.4444444444444444,
              "#bd3786"
             ],
             [
              0.5555555555555556,
              "#d8576b"
             ],
             [
              0.6666666666666666,
              "#ed7953"
             ],
             [
              0.7777777777777778,
              "#fb9f3a"
             ],
             [
              0.8888888888888888,
              "#fdca26"
             ],
             [
              1,
              "#f0f921"
             ]
            ],
            "type": "surface"
           }
          ],
          "table": [
           {
            "cells": {
             "fill": {
              "color": "#EBF0F8"
             },
             "line": {
              "color": "white"
             }
            },
            "header": {
             "fill": {
              "color": "#C8D4E3"
             },
             "line": {
              "color": "white"
             }
            },
            "type": "table"
           }
          ]
         },
         "layout": {
          "annotationdefaults": {
           "arrowcolor": "#2a3f5f",
           "arrowhead": 0,
           "arrowwidth": 1
          },
          "autotypenumbers": "strict",
          "coloraxis": {
           "colorbar": {
            "outlinewidth": 0,
            "ticks": ""
           }
          },
          "colorscale": {
           "diverging": [
            [
             0,
             "#8e0152"
            ],
            [
             0.1,
             "#c51b7d"
            ],
            [
             0.2,
             "#de77ae"
            ],
            [
             0.3,
             "#f1b6da"
            ],
            [
             0.4,
             "#fde0ef"
            ],
            [
             0.5,
             "#f7f7f7"
            ],
            [
             0.6,
             "#e6f5d0"
            ],
            [
             0.7,
             "#b8e186"
            ],
            [
             0.8,
             "#7fbc41"
            ],
            [
             0.9,
             "#4d9221"
            ],
            [
             1,
             "#276419"
            ]
           ],
           "sequential": [
            [
             0,
             "#0d0887"
            ],
            [
             0.1111111111111111,
             "#46039f"
            ],
            [
             0.2222222222222222,
             "#7201a8"
            ],
            [
             0.3333333333333333,
             "#9c179e"
            ],
            [
             0.4444444444444444,
             "#bd3786"
            ],
            [
             0.5555555555555556,
             "#d8576b"
            ],
            [
             0.6666666666666666,
             "#ed7953"
            ],
            [
             0.7777777777777778,
             "#fb9f3a"
            ],
            [
             0.8888888888888888,
             "#fdca26"
            ],
            [
             1,
             "#f0f921"
            ]
           ],
           "sequentialminus": [
            [
             0,
             "#0d0887"
            ],
            [
             0.1111111111111111,
             "#46039f"
            ],
            [
             0.2222222222222222,
             "#7201a8"
            ],
            [
             0.3333333333333333,
             "#9c179e"
            ],
            [
             0.4444444444444444,
             "#bd3786"
            ],
            [
             0.5555555555555556,
             "#d8576b"
            ],
            [
             0.6666666666666666,
             "#ed7953"
            ],
            [
             0.7777777777777778,
             "#fb9f3a"
            ],
            [
             0.8888888888888888,
             "#fdca26"
            ],
            [
             1,
             "#f0f921"
            ]
           ]
          },
          "colorway": [
           "#636efa",
           "#EF553B",
           "#00cc96",
           "#ab63fa",
           "#FFA15A",
           "#19d3f3",
           "#FF6692",
           "#B6E880",
           "#FF97FF",
           "#FECB52"
          ],
          "font": {
           "color": "#2a3f5f"
          },
          "geo": {
           "bgcolor": "white",
           "lakecolor": "white",
           "landcolor": "#E5ECF6",
           "showlakes": true,
           "showland": true,
           "subunitcolor": "white"
          },
          "hoverlabel": {
           "align": "left"
          },
          "hovermode": "closest",
          "mapbox": {
           "style": "light"
          },
          "paper_bgcolor": "white",
          "plot_bgcolor": "#E5ECF6",
          "polar": {
           "angularaxis": {
            "gridcolor": "white",
            "linecolor": "white",
            "ticks": ""
           },
           "bgcolor": "#E5ECF6",
           "radialaxis": {
            "gridcolor": "white",
            "linecolor": "white",
            "ticks": ""
           }
          },
          "scene": {
           "xaxis": {
            "backgroundcolor": "#E5ECF6",
            "gridcolor": "white",
            "gridwidth": 2,
            "linecolor": "white",
            "showbackground": true,
            "ticks": "",
            "zerolinecolor": "white"
           },
           "yaxis": {
            "backgroundcolor": "#E5ECF6",
            "gridcolor": "white",
            "gridwidth": 2,
            "linecolor": "white",
            "showbackground": true,
            "ticks": "",
            "zerolinecolor": "white"
           },
           "zaxis": {
            "backgroundcolor": "#E5ECF6",
            "gridcolor": "white",
            "gridwidth": 2,
            "linecolor": "white",
            "showbackground": true,
            "ticks": "",
            "zerolinecolor": "white"
           }
          },
          "shapedefaults": {
           "line": {
            "color": "#2a3f5f"
           }
          },
          "ternary": {
           "aaxis": {
            "gridcolor": "white",
            "linecolor": "white",
            "ticks": ""
           },
           "baxis": {
            "gridcolor": "white",
            "linecolor": "white",
            "ticks": ""
           },
           "bgcolor": "#E5ECF6",
           "caxis": {
            "gridcolor": "white",
            "linecolor": "white",
            "ticks": ""
           }
          },
          "title": {
           "x": 0.05
          },
          "xaxis": {
           "automargin": true,
           "gridcolor": "white",
           "linecolor": "white",
           "ticks": "",
           "title": {
            "standoff": 15
           },
           "zerolinecolor": "white",
           "zerolinewidth": 2
          },
          "yaxis": {
           "automargin": true,
           "gridcolor": "white",
           "linecolor": "white",
           "ticks": "",
           "title": {
            "standoff": 15
           },
           "zerolinecolor": "white",
           "zerolinewidth": 2
          }
         }
        },
        "title": {
         "text": "Total Revenue by Sales Method"
        },
        "xaxis": {
         "anchor": "y",
         "domain": [
          0,
          1
         ],
         "title": {
          "text": "Total Revenue  ($)"
         }
        },
        "yaxis": {
         "anchor": "x",
         "categoryarray": [
          "Email",
          "Email and call",
          "Call"
         ],
         "categoryorder": "array",
         "domain": [
          0,
          1
         ],
         "title": {
          "text": "Sales Method"
         }
        }
       }
      }
     },
     "metadata": {},
     "output_type": "display_data"
    }
   ],
   "source": [
    "import plotly.express as px\n",
    "\n",
    "df_plot_revenue = revenue_methods.sort_values().reset_index()\n",
    "df_plot_revenue.columns = ['Sales Method', 'Total Revenue']\n",
    "\n",
    "fig = px.bar(df_plot_revenue, \n",
    "             x='Total Revenue', \n",
    "             y='Sales Method', \n",
    "             orientation='h', \n",
    "             color='Sales Method',\n",
    "             color_discrete_map={\n",
    "                \"Email\": \"blue\",\n",
    "                \"Call\": \"red\",\n",
    "                \"Email and call\": \"green\"},\n",
    "             text='Total Revenue')\n",
    "\n",
    "fig.update_traces(texttemplate='%{text:$,.2f}', textposition='inside')\n",
    "\n",
    "fig.update_layout(title_text=\"Total Revenue by Sales Method\",\n",
    "                  xaxis_title=\"Total Revenue  ($)\",\n",
    "                  yaxis_title=\"Sales Method\",\n",
    "                  showlegend=False)\n",
    "fig.show()\n"
   ]
  },
  {
   "cell_type": "markdown",
   "metadata": {},
   "source": [
    "#  B.-What does the spread of the revenue look like overall? And for each method?"
   ]
  },
  {
   "cell_type": "markdown",
   "metadata": {},
   "source": [
    "Income ranges vary between $0 and $238.32, with most of these concentrated around $50 and $125. Most transactions are likely to be retail sales (small individual purchases or Wholesale Clients vs. Retailers), but occasionally there are wholesale sales or sales to large customers who buy in large quantities, resulting in significantly higher revenues. Most transactions may involve cheaper products, but occasionally premium or high-margin products are sold. depending for the target. The presence of a positive bias suggests that although most transactions may not be very lucrative in terms of revenue, there is a segment of transactions that are extremely valuable to the company. It is essential to understand what drives those high-value transactions and consider strategies to increase their frequency or capitalize on them more effectively. There are some sales with significantly higher revenues, which could indicate atypical sales or customers buying in large quantities in a range of less than $500."
   ]
  },
  {
   "cell_type": "code",
   "execution_count": 23,
   "metadata": {},
   "outputs": [
    {
     "data": {
      "image/png": "[encoded data removed]",
      "text/plain": [
       "<Figure size 1400x700 with 1 Axes>"
      ]
     },
     "metadata": {},
     "output_type": "display_data"
    }
   ],
   "source": [
    "plt.figure(figsize=(14, 7))\n",
    "sns.histplot(df['revenue'], bins=50, kde=True, color='blue')\n",
    "plt.title('Revenue Distribution')\n",
    "plt.xlabel('Revenue ($)')\n",
    "plt.ylabel('Frecuencia')\n",
    "plt.show()"
   ]
  },
  {
   "cell_type": "code",
   "execution_count": 24,
   "metadata": {},
   "outputs": [
    {
     "name": "stderr",
     "output_type": "stream",
     "text": [
      "/Users/italovega/opt/anaconda3/lib/python3.9/site-packages/seaborn/_decorators.py:36: FutureWarning:\n",
      "\n",
      "Pass the following variable as a keyword arg: x. From version 0.12, the only valid positional argument will be `data`, and passing other arguments without an explicit keyword will result in an error or misinterpretation.\n",
      "\n"
     ]
    },
    {
     "data": {
      "image/png": "[encoded data removed]",
      "text/plain": [
       "<Figure size 1200x700 with 1 Axes>"
      ]
     },
     "metadata": {},
     "output_type": "display_data"
    }
   ],
   "source": [
    "plt.figure(figsize=(12, 7))\n",
    "sns.boxplot(df['revenue'], color='lightseagreen')\n",
    "plt.title('Distribución de Ingresos en General (Boxplot)')\n",
    "plt.xlabel('Ingresos ($)')\n",
    "plt.grid(True, axis='y')\n",
    "plt.show()\n"
   ]
  },
  {
   "cell_type": "markdown",
   "metadata": {},
   "source": [
    "# considerando solo los valores por debajo del percentil 95"
   ]
  },
  {
   "cell_type": "code",
   "execution_count": 25,
   "metadata": {},
   "outputs": [
    {
     "data": {
      "image/png": "[encoded data removed]",
      "text/plain": [
       "<Figure size 1400x700 with 1 Axes>"
      ]
     },
     "metadata": {},
     "output_type": "display_data"
    }
   ],
   "source": [
    "\n",
    "percentile_95_cutoff = df['revenue'].quantile(0.95)\n",
    "data_hist_filtered = df[df['revenue'] <= percentile_95_cutoff]\n",
    "\n",
    "\n",
    "plt.figure(figsize=(14, 7))\n",
    "sns.histplot(data_hist_filtered['revenue'].dropna(), bins=50, kde=True, color='blue')\n",
    "plt.title('General Income Distribution')\n",
    "plt.xlabel('Revenue ($)')\n",
    "plt.ylabel('Frecuency')\n",
    "plt.show()\n"
   ]
  },
  {
   "cell_type": "code",
   "execution_count": 26,
   "metadata": {},
   "outputs": [
    {
     "name": "stderr",
     "output_type": "stream",
     "text": [
      "/Users/italovega/opt/anaconda3/lib/python3.9/site-packages/seaborn/_decorators.py:36: FutureWarning:\n",
      "\n",
      "Pass the following variable as a keyword arg: x. From version 0.12, the only valid positional argument will be `data`, and passing other arguments without an explicit keyword will result in an error or misinterpretation.\n",
      "\n"
     ]
    },
    {
     "data": {
      "image/png": "[encoded data removed]",
      "text/plain": [
       "<Figure size 1200x700 with 1 Axes>"
      ]
     },
     "metadata": {},
     "output_type": "display_data"
    }
   ],
   "source": [
    "\n",
    "\n",
    "percentile_95 = df['revenue'].quantile(0.95)\n",
    "data_95_filtered = df[df['revenue'] <= percentile_95]\n",
    "\n",
    "\n",
    "\n",
    "plt.figure(figsize=(12, 7))\n",
    "sns.boxplot(data_95_filtered['revenue'], color='lightseagreen')\n",
    "plt.title('Income Distribution by Method')\n",
    "plt.xlabel('Revenue ($)')\n",
    "plt.grid(True, axis='y')\n",
    "plt.show()"
   ]
  },
  {
   "cell_type": "markdown",
   "metadata": {},
   "source": [
    "When analyzing the visualization we noticed that the \"Email\" method has a relatively low median revenue compared to the other two methods. However, it has some extremely high outliers that generate great sales compared to its other two alternatives. Emphasizing that this in turn requires a lower execution cost.\n",
    "The \"Call\" method has a higher median income than the \"Email\" method, but lower than the \"Email and Call\" method, this may be due to the fact that this methodology falls on the population that has not made or is in the transition. to digitalization, this may only be the fraction of older users (which will be analyzed later).\n",
    "The \"Email and Call\" method has the highest median revenue among the three methods, suggesting that this method could be more effective in terms of average revenue per sale, and may be one of the most viable options if distribution is considered. from income."
   ]
  },
  {
   "cell_type": "code",
   "execution_count": 27,
   "metadata": {},
   "outputs": [
    {
     "data": {
      "image/png": "[encoded data removed]",
      "text/plain": [
       "<Figure size 1400x700 with 1 Axes>"
      ]
     },
     "metadata": {},
     "output_type": "display_data"
    }
   ],
   "source": [
    "percentile_by_95 = df['revenue'].quantile(0.95)\n",
    "data_by_95 = df[df['revenue'] <= percentile_by_95]\n",
    "\n",
    "# Filtrar el DataFrame para incluir solo los valores por debajo del percentil 95\n",
    "data_filtered = data_by_95[data_by_95['revenue'] <= percentile_95]\n",
    "\n",
    "# Crear el boxplot con los datos filtrados\n",
    "plt.figure(figsize=(14, 7))\n",
    "sns.boxplot(data=data_filtered, x='sales_method', y='revenue')\n",
    "plt.title('Income Distribution by Method ')\n",
    "plt.xlabel('Method of Sell')\n",
    "plt.ylabel('Income ($)')\n",
    "plt.show()\n"
   ]
  },
  {
   "cell_type": "code",
   "execution_count": 28,
   "metadata": {},
   "outputs": [
    {
     "data": {
      "text/plain": [
       "4773     1\n",
       "6681     1\n",
       "13244    1\n",
       "6680     1\n",
       "6679     1\n",
       "        ..\n",
       "13130    6\n",
       "3296     6\n",
       "1694     6\n",
       "1675     6\n",
       "4029     6\n",
       "Name: week, Length: 15000, dtype: int64"
      ]
     },
     "execution_count": 28,
     "metadata": {},
     "output_type": "execute_result"
    }
   ],
   "source": [
    "df[\"week\"]"
   ]
  },
  {
   "cell_type": "markdown",
   "metadata": {},
   "source": [
    "# C.-Was there any difference in revenue over time for each of the methods?"
   ]
  },
  {
   "cell_type": "markdown",
   "metadata": {},
   "source": [
    "By breaking down the three methodologies, you have a general idea of the behavior over time, which can affect the result if taken separately from the context, affecting the final decision.\n",
    "\n",
    "- \"Email\" method, a generally stable trend is observed with some fluctuations. The email method shows a slight increase in sales in the first few weeks and then a decrease towards week 6.\n",
    "- \"Call\" method shows some variability, but tends to have higher peaks compared to \"Email.\". Sales through calls show a constant increase from week 1 to week 3 and then stabilize towards week 6.\n",
    "- \"Email + Call\" has notable variability and tends to generate higher revenue in some specific weeks. This method shows an ascending pattern from week 1 to week 3, after which there is a slight decrease, but then it increases again towards week 6.\n",
    "\n",
    "\n",
    "The combination of email and calls seems to be the most effective method in terms of total revenue. However, it is important to also consider the costs associated with each method. For example, the call method and the combined method require more time and effort from the team, which can increase costs\n",
    "\n"
   ]
  },
  {
   "cell_type": "code",
   "execution_count": 29,
   "metadata": {},
   "outputs": [
    {
     "data": {
      "image/png": "[encoded data removed]",
      "text/plain": [
       "<Figure size 1400x700 with 1 Axes>"
      ]
     },
     "metadata": {},
     "output_type": "display_data"
    }
   ],
   "source": [
    "# Crear un gráfico de líneas para mostrar los ingresos a lo largo del tiempo por método\n",
    "plt.figure(figsize=(14, 7))\n",
    "\n",
    "# Agrupar por semana y método y sumar los ingresos\n",
    "df_grouped = df.groupby(['week', 'sales_method']).sum()['revenue'].reset_index()\n",
    "\n",
    "# Gráfico de línea\n",
    "sns.lineplot(data=df_grouped, x='week', y='revenue', hue='sales_method')\n",
    "plt.title('Revenue over the Time by Method ')\n",
    "plt.xlabel('Number of week')\n",
    "plt.ylabel('Income ($)')\n",
    "\n",
    "plt.show()\n",
    "\n"
   ]
  },
  {
   "cell_type": "markdown",
   "metadata": {},
   "source": [
    "# D.-Based on the data, which method would you recommend we continue to use? Some of these methods take more time from the team so they may not be the best for us to use if the results are similar."
   ]
  },
  {
   "cell_type": "markdown",
   "metadata": {},
   "source": [
    "Based on the analysis of the average sales of the 3 methods used, I would recommend focusing on the email methodology, which shows higher income in the 6 weeks of evaluation, even surpassing the sum of its two alternatives, reaching $672,317.83. The other two methods reach a total of only $635,820.18, meaning in many cases a greater investment of time by employees and therefore a greater expense of man hours.\n",
    "Without leaving aside the fact that these are influenced by new times and digital connectivity, as there is greater coverage and reach of users with technology.\n",
    "In parallel to the above and as a way to promote customers who can generate the highest percentage of purchases by quantity (not by sales), this must be worked together with a marketing strategy based on 2 pillars which we will detail below. .\n",
    "- Cross Sellin\n",
    "- Up Selling\n",
    "\n"
   ]
  },
  {
   "cell_type": "code",
   "execution_count": 30,
   "metadata": {},
   "outputs": [
    {
     "data": {
      "text/plain": [
       "sales_method\n",
       "Call              227563.49\n",
       "Email             672317.83\n",
       "Email and call    408256.69\n",
       "Name: revenue, dtype: float64"
      ]
     },
     "execution_count": 30,
     "metadata": {},
     "output_type": "execute_result"
    }
   ],
   "source": [
    "revenue_methods = df.groupby('sales_method')['revenue'].sum()\n",
    "revenue_methods"
   ]
  },
  {
   "cell_type": "code",
   "execution_count": 31,
   "metadata": {},
   "outputs": [
    {
     "data": {
      "text/plain": [
       "635820.1799999999"
      ]
     },
     "execution_count": 31,
     "metadata": {},
     "output_type": "execute_result"
    }
   ],
   "source": [
    "suma = 227563.49 + 408256.69\n",
    "suma"
   ]
  },
  {
   "cell_type": "code",
   "execution_count": 32,
   "metadata": {},
   "outputs": [
    {
     "name": "stdout",
     "output_type": "stream",
     "text": [
      "sales_method\n",
      "Call              227563.49\n",
      "Email             672317.83\n",
      "Email and call    408256.69\n",
      "Name: revenue, dtype: float64\n",
      "\n",
      "\n",
      "sales_method\n",
      "Call              4962\n",
      "Email             7466\n",
      "Email and call    2572\n",
      "Name: customer_id, dtype: int64\n"
     ]
    }
   ],
   "source": [
    "total_revenue_per_method = df.groupby('sales_method')['revenue'].sum()\n",
    "total_customers_per_method = df.groupby('sales_method')['customer_id'].nunique()\n",
    "\n",
    "print(total_revenue_per_method)\n",
    "print(\"\\n\")\n",
    "print(total_customers_per_method)\n"
   ]
  },
  {
   "cell_type": "code",
   "execution_count": 33,
   "metadata": {},
   "outputs": [
    {
     "data": {
      "text/plain": [
       "week                    0\n",
       "sales_method            0\n",
       "customer_id             0\n",
       "nb_sold                 0\n",
       "revenue              1074\n",
       "years_as_customer       0\n",
       "nb_site_visits          0\n",
       "state                   0\n",
       "dtype: int64"
      ]
     },
     "execution_count": 33,
     "metadata": {},
     "output_type": "execute_result"
    }
   ],
   "source": [
    "df.isna().sum()"
   ]
  },
  {
   "cell_type": "markdown",
   "metadata": {},
   "source": [
    "# Final Estrategy"
   ]
  },
  {
   "cell_type": "markdown",
   "metadata": {},
   "source": [
    "Based on what was analyzed with their respective analyzes obtained and the context that is proposed, a combined strategy is proposed. It is on the one hand made up of three pillars to enhance existing and new products.(The above depending on the available equipment and context in which this will be carried out.)\n",
    "\n",
    "In the analysis of the average sales of the 3 methods used, I would recommen focusing on the email , which show as a result having the greatest amount of income for these new products in the 6 weeks of evaluation. Without leaving aside the fact that these are influenced by new times and digital connectivity, as there is greater coverage and reach using these media. IN parallel to the above and as a way to promote clients who can generate the highest percentage of purchases by quantity (not by sales), this must be worked together with a marketing strategy based on 2 pillars which we will detail below.\n",
    "\n",
    "\n",
    "- Cross Sellin: sell line of office stationery products from the old line, at a lower price, offering new products of a nature related to enabling our customers to be more creative, optimizing margins to obtain profit.\n",
    "- Up Selling: offer products of the same type as those already sold but of better quality. Alluding to the new line (with a higher price).\n",
    "\n",
    "\n",
    "It is recommended to Persist with the Email method but with Optimization. This considering that Although email sales have shown a decreasing trend, it is still the method that generated the highest income. It would be wise to investigate the reason for the decline and optimize your email marketing strategy. This could include further segmenting customers, personalizing emails and specific calls (Assessing the Stability of Calls in the analyzed time range), testing different types of content, or even increasing the frequency of emails or analyzing response patterns and distribution of time of sending information.\n",
    "\n",
    "When analyzing Customer Segmentation, it was observed that the highest concentration of sales, as expected, was from new customers (who may be from lower age ranges: young people), with a greater technological preference. This will be shown below.\n",
    "\n",
    "The breakdown of sales methods used by the 100 oldest customers:\n",
    "\n",
    "- Email: 58 clients\n",
    "- Call: 33 clients\n",
    "- Email and call: 9 clients\n",
    "\n",
    "The above reinforces our previous analysis that the best and most effective form of advertising to generate income is email. Since there may be a bias to think that customer loyalty generates greater sales, which in this case is interpreted as newer customers buying more products (being more accessible to technology)."
   ]
  },
  {
   "cell_type": "code",
   "execution_count": 34,
   "metadata": {},
   "outputs": [],
   "source": [
    "top_100 = df.groupby('customer_id').agg({\n",
    "    'revenue': 'sum',\n",
    "    'years_as_customer': 'first',\n",
    "    'sales_method': 'first'\n",
    "}).nlargest(100, 'revenue')"
   ]
  },
  {
   "cell_type": "code",
   "execution_count": 35,
   "metadata": {},
   "outputs": [
    {
     "name": "stdout",
     "output_type": "stream",
     "text": [
      "    week    sales_method    revenue\n",
      "0      1            Call   26159.18\n",
      "1      1           Email  229765.55\n",
      "2      1  Email and call   16885.33\n",
      "3      2            Call   33792.02\n",
      "4      2           Email  137891.57\n",
      "5      2  Email and call   26376.23\n",
      "6      3            Call   36247.27\n",
      "7      3           Email   98792.14\n",
      "8      3  Email and call   48737.14\n",
      "9      4            Call   49593.99\n",
      "10     4           Email  107788.37\n",
      "11     4  Email and call   78296.20\n",
      "12     5            Call   53518.11\n",
      "13     5           Email   74373.45\n",
      "14     5  Email and call  126809.72\n",
      "15     6            Call   28252.92\n",
      "16     6           Email   23706.75\n",
      "17     6  Email and call  111152.07\n",
      "0.6933333333333334\n"
     ]
    }
   ],
   "source": [
    "\n",
    "weekly_revenue_by_method = df.groupby(['week', 'sales_method'])['revenue'].sum().reset_index()\n",
    "\n",
    "\n",
    "old_customers = df[df['years_as_customer'] > 25]['customer_id'].nunique()\n",
    "total_customers = df['customer_id'].nunique()\n",
    "retention_rate = (old_customers / total_customers) * 100\n",
    "\n",
    "print(weekly_revenue_by_method)\n",
    "print(retention_rate)\n"
   ]
  },
  {
   "cell_type": "code",
   "execution_count": null,
   "metadata": {},
   "outputs": [],
   "source": []
  },
  {
   "cell_type": "code",
   "execution_count": 36,
   "metadata": {},
   "outputs": [
    {
     "data": {
      "image/png": "[encoded data removed]",
      "text/plain": [
       "<Figure size 1400x700 with 1 Axes>"
      ]
     },
     "metadata": {},
     "output_type": "display_data"
    }
   ],
   "source": [
    "plt.figure(figsize=(14, 7))\n",
    "sns.scatterplot(data=top_100, x='years_as_customer', y='revenue', hue='sales_method', palette='magma', s=100, alpha=0.7)\n",
    "\n",
    "plt.title('Income by years as a Client for: 100 Clients that generate the highest Incomes')\n",
    "plt.xlabel('Seniority of clients')\n",
    "plt.ylabel('Total Incomes ($)')\n",
    "plt.legend(title='Method of Sales', bbox_to_anchor=(1.05, 1), loc='upper left')\n",
    "\n",
    "plt.tight_layout()\n",
    "plt.show()"
   ]
  },
  {
   "cell_type": "markdown",
   "metadata": {},
   "source": [
    "In summary, although the Email method has proven to be the most lucrative so far, it is essential to consider the trends, operational cost and efficiency of each method when deciding on future strategies. Combining data analysis with direct customer feedback.\n",
    "We propose as a control measure for the process of implementing future improvements or inclusion of new products, 2 metrics that allow performance to be evaluated:\n",
    "\n",
    "-Income by sales method:\n",
    "This is to have a clear idea of which sales method is generating the most income week after week.\n",
    "\n",
    "-Customer retention rate:\n",
    "This is to evaluate the services of a company during a certain period of time, requiring future data and a constant evaluation for its estimation. As a way to combat the decrease in the older customer population, it is necessary to implement strategies to improve customer retention, given the current retention rate of 0% (we require additional information). The above is compatible with the strategies mentioned above."
   ]
  },
  {
   "cell_type": "markdown",
   "metadata": {},
   "source": []
  },
  {
   "cell_type": "markdown",
   "metadata": {},
   "source": []
  }
 ],
 "metadata": {
  "kernelspec": {
   "display_name": "base",
   "language": "python",
   "name": "python3"
  },
  "language_info": {
   "codemirror_mode": {
    "name": "ipython",
    "version": 3
   },
   "file_extension": ".py",
   "mimetype": "text/x-python",
   "name": "python",
   "nbconvert_exporter": "python",
   "pygments_lexer": "ipython3",
   "version": "3.9.13"
  },
  "orig_nbformat": 4
 },
 "nbformat": 4,
 "nbformat_minor": 2
}
