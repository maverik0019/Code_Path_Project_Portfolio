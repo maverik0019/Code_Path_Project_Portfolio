{
 "cells": [
  {
   "cell_type": "markdown",
   "metadata": {},
   "source": [
    "# Customer list"
   ]
  },
  {
   "cell_type": "markdown",
   "metadata": {},
   "source": [
    "- How many customers were there for each approach?\n",
    "- What does the spread of the revenue look like overall? And for each method?\n",
    "- Was there any difference in revenue over time for each of the methods?\n",
    "- Based on the data, which method would you recommend we continue to use? Some\n",
    "of these methods take more time from the team so they may not be the best for us to use if the results are similar.\n",
    "\n",
    "We don’t really know if there are other differences between the customers in each group, so anything you can tell us would be really helpful to give some context to what went well.\n",
    "I need to report to the executive team in 4 weeks. You need to present to me before then so I understand what is going on and what we do next.\n",
    "Look forward to seeing your presentation."
   ]
  },
  {
   "cell_type": "markdown",
   "metadata": {},
   "source": [
    "##  Data Validation\n",
    "\"\"\"\n",
    "The data set contains 15000 rows and 8 columns before cleaning and validation:\n",
    "\n",
    "Our first step was to ensure the quality of the data, making sure that they were free from inconsistencies or missing values. This crucial process involved verifying the accuracy and timeliness of the data, identifying and correcting outliers and inconsistencies, which is essential to ensure the reliability of our analysis. We found 1074 NaN values in the 'revenue' column, and we decided to replace them with the number '0' (zero), interpreting these entries as interactions (Company/Customer) without monetary transactions.\n",
    "\n",
    "From the beginning, we recognized that for any business or company, maximizing their 'revenue' is fundamental. Upon reviewing the columns and finding this variable ('Revenue'), we considered it as the key metric in our exploratory analysis of the data set. We conducted a basic statistical analysis to understand trends and patterns in the data. We found great variability in 'revenue', especially between the 25th and 75th percentiles, indicating the need for further investigation into outliers. We initially identified outliers using methods such as the IQR (Interquartile Range) technique and executed a quick visualization of the distributions of the numerical columns 'nb_sold', 'years_as_customer', 'nb_site_visits', and 'revenue' to better understand their distribution and assess potential outliers.\n",
    "\n",
    "When graphically analyzing the distributions, we decided to use a logarithmic transformation to smooth and facilitate the perception of trends and future statistical analyses, thus reducing the impact of outliers. We generated new data columns with the applied transformation, preserving the originals for any future need for original information. The new columns were created with the prefix 'log_' to differentiate them from the originals.\n",
    "\n",
    "Additionally, we opted to use the np.log() function, previously modifying the '0' values to '0.01'. This is because the logarithm of zero is undefined, and by replacing zeros with a small but positive value, we avoid errors in the calculation.\n",
    "\n",
    "We converted the 'sales_method' and 'state' columns to type 'category', which optimized memory usage and made it easier to manipulate and analyze this categorical data.\n",
    "\n",
    "We encountered inconsistencies in the 'sales_method' column where the classification criteria should have been limited to three categories as per the pre-established rubric. However, we identified diverse categories such as ['Email', 'Email + Call', 'Call', 'em + call', 'email']. To address this, we standardized these entries using a mapping method, consolidating similar categories and correcting typographical errors to align with the intended classification scheme.\n",
    "\n",
    "No duplicate values were found in our dataset.\n",
    "\n",
    "We then organized the DataFrame in ascending order according to the 'week' column. This arrangement was instrumental in enhancing our understanding of the data over the time , from week 1 to 6, and proved beneficial in visualizing sales trends over the six-week program duration.\n",
    "\n",
    "\"week\": The data were ordered from lowest to highest during the 6 weeks of the study (from 1 to 6). Although the column is named \"week,\" the values represent weeks. The “nb_site_visits” column was considered to reflect a 6-month collection period, which was taken into account to avoid inconsistencies between the study period and the temporal range of site visits.\n",
    "\n",
    "\"sales_method\": Transformations were made to the categories, reducing them from 7 to 3 ('Email', 'Email and call', 'Call'), to align them with the predefined criteria. The column, originally of type \"object\", was transformed into \"category\" to optimize the analysis. \n",
    "\n",
    "\n",
    "\"customer_id\": No duplicate or missing values were found, identifying 15,000 unique customers. This finding facilitates individualized analysis of customer purchasing patterns and behavior.\n",
    "\n",
    "\"nb_sold\": No inconsistencies were detected in this column representing the number of new products sold. The correlation of this variable with 'revenue' and 'sales_method' was considered for further analysis. \n",
    "\n",
    "\"revenue\": 1074 NaN values were replaced by '0', interpreting these entries as interactions without monetary transactions. (NaN values were replaced with \"0\", these being understood as interactions between the company and a potential customer that did not result in sales, to later be replaced by a positive value 0.01, and not generate an error in the transformation). No duplicate values were found. Significant variability was observed between quartiles, suggesting the presence of outliers, and a log transformation was considered to smooth the distribution and facilitate analysis. A logarithmic transformation was performed (only to smooth and make easier the perception of trends and future statistical analysis, reducing the impact of outliers when generating graphs), generating new columns of data, preserving the original ones in the case that they were require the original information in the future.\n",
    "\n",
    "\"years_as_customer\": No inconsistencies were found in this column. The years of customer tenure were analyzed to assess retention rates and possible acquisition costs, as well as to segment customers according to their tenure and evaluate their transition to digital platforms. A logarithmic transformation was applied to smooth and facilitate the perception of trends and future statistical analysis, creating new columns of data while preserving the original ones for any future needs.\n",
    "\n",
    "\"nb_site_visits\": No significant inconsistencies were found. The discrepancy between the time range of this information (6 months) and the study horizon (6 weeks) was addressed to ensure the accuracy of the analysis. A logarithmic transformation was applied with the aim of smoothing and facilitating the perception of trends and future statistical analyses, reducing the impact of outliers when generating graphs. New columns of data were created, maintaining the originals for any future requirements.\n",
    "\n",
    "\"status\": No inconsistencies were found in this column. It was transformed from an \"object\" type to a \"category\", which allowed for better organization and analysis of the data. This transformation aided in identifying patterns and trends more clearly, especially in analyses involving comparisons or groupings by state.\n",
    "\n",
    "\"log_revenue: This was the column generated by analyzing the outliers in the 'revenue' column, which were transformed with the logarithmic method to smooth out the trends and subsequent graphs if required.\n",
    "\n",
    "\"log_years_as_customer\":This was the column generated by analyzing the outliers in the 'years_as_customer' column, which were transformed with the logarithmic method to smooth out the trends and subsequent graphs if required.\n",
    "\n",
    "\"log_nb_site_visits\":This was the column generated by analyzing the outliers in the 'log_nb_site_visits' column, which were transformed with the logarithmic method to smooth out the trends and subsequent graphs if required.\n",
    "\n",
    "\n",
    "\n",
    "After data validation, the data set contains **15000 rows and 11 columns** with no missing values after data transformation and cleaning in the table. Columns generated to facilitate the creation of graphs are not considered in this count."
   ]
  },
  {
   "cell_type": "code",
   "execution_count": 196,
   "metadata": {},
   "outputs": [],
   "source": [
    "import pandas as pd \n",
    "import matplotlib.pylab as plt\n",
    "import seaborn as sns\n",
    "import numpy as np\n",
    "import plotly.express as px\n",
    "from scipy.stats import pearsonr"
   ]
  },
  {
   "cell_type": "code",
   "execution_count": 197,
   "metadata": {},
   "outputs": [
    {
     "data": {
      "text/html": [
       "<div>\n",
       "<style scoped>\n",
       "    .dataframe tbody tr th:only-of-type {\n",
       "        vertical-align: middle;\n",
       "    }\n",
       "\n",
       "    .dataframe tbody tr th {\n",
       "        vertical-align: top;\n",
       "    }\n",
       "\n",
       "    .dataframe thead th {\n",
       "        text-align: right;\n",
       "    }\n",
       "</style>\n",
       "<table border=\"1\" class=\"dataframe\">\n",
       "  <thead>\n",
       "    <tr style=\"text-align: right;\">\n",
       "      <th></th>\n",
       "      <th>week</th>\n",
       "      <th>sales_method</th>\n",
       "      <th>customer_id</th>\n",
       "      <th>nb_sold</th>\n",
       "      <th>revenue</th>\n",
       "      <th>years_as_customer</th>\n",
       "      <th>nb_site_visits</th>\n",
       "      <th>state</th>\n",
       "    </tr>\n",
       "  </thead>\n",
       "  <tbody>\n",
       "  </tbody>\n",
       "</table>\n",
       "</div>"
      ],
      "text/plain": [
       "Empty DataFrame\n",
       "Columns: [week, sales_method, customer_id, nb_sold, revenue, years_as_customer, nb_site_visits, state]\n",
       "Index: []"
      ]
     },
     "execution_count": 197,
     "metadata": {},
     "output_type": "execute_result"
    }
   ],
   "source": [
    "df = pd.read_csv(\"product_sales.csv\", delimiter=\",\")\n",
    "df.head(0)"
   ]
  },
  {
   "cell_type": "code",
   "execution_count": 198,
   "metadata": {},
   "outputs": [
    {
     "data": {
      "text/html": [
       "<div>\n",
       "<style scoped>\n",
       "    .dataframe tbody tr th:only-of-type {\n",
       "        vertical-align: middle;\n",
       "    }\n",
       "\n",
       "    .dataframe tbody tr th {\n",
       "        vertical-align: top;\n",
       "    }\n",
       "\n",
       "    .dataframe thead th {\n",
       "        text-align: right;\n",
       "    }\n",
       "</style>\n",
       "<table border=\"1\" class=\"dataframe\">\n",
       "  <thead>\n",
       "    <tr style=\"text-align: right;\">\n",
       "      <th></th>\n",
       "      <th>week</th>\n",
       "      <th>sales_method</th>\n",
       "      <th>customer_id</th>\n",
       "      <th>nb_sold</th>\n",
       "      <th>revenue</th>\n",
       "      <th>years_as_customer</th>\n",
       "      <th>nb_site_visits</th>\n",
       "      <th>state</th>\n",
       "    </tr>\n",
       "  </thead>\n",
       "  <tbody>\n",
       "    <tr>\n",
       "      <th>14990</th>\n",
       "      <td>2</td>\n",
       "      <td>Call</td>\n",
       "      <td>b8e19654-e5a1-4094-aaa7-99a9821f9c06</td>\n",
       "      <td>9</td>\n",
       "      <td>45.18</td>\n",
       "      <td>0</td>\n",
       "      <td>28</td>\n",
       "      <td>Michigan</td>\n",
       "    </tr>\n",
       "    <tr>\n",
       "      <th>14991</th>\n",
       "      <td>2</td>\n",
       "      <td>Email + Call</td>\n",
       "      <td>b5c6d6e0-1237-4785-b088-17064d44d366</td>\n",
       "      <td>10</td>\n",
       "      <td>149.57</td>\n",
       "      <td>1</td>\n",
       "      <td>30</td>\n",
       "      <td>Virginia</td>\n",
       "    </tr>\n",
       "    <tr>\n",
       "      <th>14992</th>\n",
       "      <td>5</td>\n",
       "      <td>em + call</td>\n",
       "      <td>cd9e6945-ae21-4bed-a6cf-f0302e6c4795</td>\n",
       "      <td>12</td>\n",
       "      <td>NaN</td>\n",
       "      <td>1</td>\n",
       "      <td>34</td>\n",
       "      <td>New York</td>\n",
       "    </tr>\n",
       "    <tr>\n",
       "      <th>14993</th>\n",
       "      <td>1</td>\n",
       "      <td>Email</td>\n",
       "      <td>3ec54950-652e-4d8a-bc49-8b5c770c6cd2</td>\n",
       "      <td>8</td>\n",
       "      <td>83.98</td>\n",
       "      <td>2</td>\n",
       "      <td>21</td>\n",
       "      <td>Texas</td>\n",
       "    </tr>\n",
       "    <tr>\n",
       "      <th>14994</th>\n",
       "      <td>4</td>\n",
       "      <td>Email</td>\n",
       "      <td>56f02e26-3633-427d-8c4e-f45f00afa787</td>\n",
       "      <td>11</td>\n",
       "      <td>109.36</td>\n",
       "      <td>3</td>\n",
       "      <td>25</td>\n",
       "      <td>Ohio</td>\n",
       "    </tr>\n",
       "    <tr>\n",
       "      <th>14995</th>\n",
       "      <td>4</td>\n",
       "      <td>Call</td>\n",
       "      <td>17267b41-d048-4346-8b90-7f787690a836</td>\n",
       "      <td>10</td>\n",
       "      <td>50.82</td>\n",
       "      <td>0</td>\n",
       "      <td>22</td>\n",
       "      <td>Pennsylvania</td>\n",
       "    </tr>\n",
       "    <tr>\n",
       "      <th>14996</th>\n",
       "      <td>5</td>\n",
       "      <td>Call</td>\n",
       "      <td>09e10d6f-4508-4b27-895e-4db11ce8302b</td>\n",
       "      <td>10</td>\n",
       "      <td>52.33</td>\n",
       "      <td>1</td>\n",
       "      <td>27</td>\n",
       "      <td>Kansas</td>\n",
       "    </tr>\n",
       "    <tr>\n",
       "      <th>14997</th>\n",
       "      <td>1</td>\n",
       "      <td>Call</td>\n",
       "      <td>839653cb-68c9-48cb-a097-0a5a3b2b298b</td>\n",
       "      <td>7</td>\n",
       "      <td>34.87</td>\n",
       "      <td>4</td>\n",
       "      <td>22</td>\n",
       "      <td>West Virginia</td>\n",
       "    </tr>\n",
       "    <tr>\n",
       "      <th>14998</th>\n",
       "      <td>6</td>\n",
       "      <td>Call</td>\n",
       "      <td>e4dad70a-b23b-407c-8bd3-e32ea00fae17</td>\n",
       "      <td>13</td>\n",
       "      <td>64.90</td>\n",
       "      <td>2</td>\n",
       "      <td>27</td>\n",
       "      <td>New Jersey</td>\n",
       "    </tr>\n",
       "    <tr>\n",
       "      <th>14999</th>\n",
       "      <td>5</td>\n",
       "      <td>Email + Call</td>\n",
       "      <td>4e077235-7c17-4054-9997-7a890336a214</td>\n",
       "      <td>13</td>\n",
       "      <td>NaN</td>\n",
       "      <td>4</td>\n",
       "      <td>25</td>\n",
       "      <td>Illinois</td>\n",
       "    </tr>\n",
       "  </tbody>\n",
       "</table>\n",
       "</div>"
      ],
      "text/plain": [
       "       week  sales_method                           customer_id  nb_sold  \\\n",
       "14990     2          Call  b8e19654-e5a1-4094-aaa7-99a9821f9c06        9   \n",
       "14991     2  Email + Call  b5c6d6e0-1237-4785-b088-17064d44d366       10   \n",
       "14992     5     em + call  cd9e6945-ae21-4bed-a6cf-f0302e6c4795       12   \n",
       "14993     1         Email  3ec54950-652e-4d8a-bc49-8b5c770c6cd2        8   \n",
       "14994     4         Email  56f02e26-3633-427d-8c4e-f45f00afa787       11   \n",
       "14995     4          Call  17267b41-d048-4346-8b90-7f787690a836       10   \n",
       "14996     5          Call  09e10d6f-4508-4b27-895e-4db11ce8302b       10   \n",
       "14997     1          Call  839653cb-68c9-48cb-a097-0a5a3b2b298b        7   \n",
       "14998     6          Call  e4dad70a-b23b-407c-8bd3-e32ea00fae17       13   \n",
       "14999     5  Email + Call  4e077235-7c17-4054-9997-7a890336a214       13   \n",
       "\n",
       "       revenue  years_as_customer  nb_site_visits          state  \n",
       "14990    45.18                  0              28       Michigan  \n",
       "14991   149.57                  1              30       Virginia  \n",
       "14992      NaN                  1              34       New York  \n",
       "14993    83.98                  2              21          Texas  \n",
       "14994   109.36                  3              25           Ohio  \n",
       "14995    50.82                  0              22   Pennsylvania  \n",
       "14996    52.33                  1              27         Kansas  \n",
       "14997    34.87                  4              22  West Virginia  \n",
       "14998    64.90                  2              27     New Jersey  \n",
       "14999      NaN                  4              25       Illinois  "
      ]
     },
     "execution_count": 198,
     "metadata": {},
     "output_type": "execute_result"
    }
   ],
   "source": [
    "df.tail(10)"
   ]
  },
  {
   "cell_type": "code",
   "execution_count": 199,
   "metadata": {},
   "outputs": [
    {
     "name": "stdout",
     "output_type": "stream",
     "text": [
      "Index(['week', 'sales_method', 'customer_id', 'nb_sold', 'revenue',\n",
      "       'years_as_customer', 'nb_site_visits', 'state'],\n",
      "      dtype='object')\n",
      "8\n"
     ]
    }
   ],
   "source": [
    "print(df.columns)\n",
    "print(len(df.columns))"
   ]
  },
  {
   "cell_type": "code",
   "execution_count": 200,
   "metadata": {},
   "outputs": [
    {
     "data": {
      "text/plain": [
       "week                    0\n",
       "sales_method            0\n",
       "customer_id             0\n",
       "nb_sold                 0\n",
       "revenue              1074\n",
       "years_as_customer       0\n",
       "nb_site_visits          0\n",
       "state                   0\n",
       "dtype: int64"
      ]
     },
     "execution_count": 200,
     "metadata": {},
     "output_type": "execute_result"
    }
   ],
   "source": [
    "df.isna().sum()"
   ]
  },
  {
   "cell_type": "code",
   "execution_count": 201,
   "metadata": {},
   "outputs": [
    {
     "data": {
      "text/html": [
       "<div>\n",
       "<style scoped>\n",
       "    .dataframe tbody tr th:only-of-type {\n",
       "        vertical-align: middle;\n",
       "    }\n",
       "\n",
       "    .dataframe tbody tr th {\n",
       "        vertical-align: top;\n",
       "    }\n",
       "\n",
       "    .dataframe thead th {\n",
       "        text-align: right;\n",
       "    }\n",
       "</style>\n",
       "<table border=\"1\" class=\"dataframe\">\n",
       "  <thead>\n",
       "    <tr style=\"text-align: right;\">\n",
       "      <th></th>\n",
       "      <th>sales_method</th>\n",
       "      <th>customer_id</th>\n",
       "      <th>state</th>\n",
       "    </tr>\n",
       "  </thead>\n",
       "  <tbody>\n",
       "    <tr>\n",
       "      <th>count</th>\n",
       "      <td>15000</td>\n",
       "      <td>15000</td>\n",
       "      <td>15000</td>\n",
       "    </tr>\n",
       "    <tr>\n",
       "      <th>unique</th>\n",
       "      <td>5</td>\n",
       "      <td>15000</td>\n",
       "      <td>50</td>\n",
       "    </tr>\n",
       "    <tr>\n",
       "      <th>top</th>\n",
       "      <td>Email</td>\n",
       "      <td>2e72d641-95ac-497b-bbf8-4861764a7097</td>\n",
       "      <td>California</td>\n",
       "    </tr>\n",
       "    <tr>\n",
       "      <th>freq</th>\n",
       "      <td>7456</td>\n",
       "      <td>1</td>\n",
       "      <td>1872</td>\n",
       "    </tr>\n",
       "  </tbody>\n",
       "</table>\n",
       "</div>"
      ],
      "text/plain": [
       "       sales_method                           customer_id       state\n",
       "count         15000                                 15000       15000\n",
       "unique            5                                 15000          50\n",
       "top           Email  2e72d641-95ac-497b-bbf8-4861764a7097  California\n",
       "freq           7456                                     1        1872"
      ]
     },
     "execution_count": 201,
     "metadata": {},
     "output_type": "execute_result"
    }
   ],
   "source": [
    "df.describe(include=\"O\")"
   ]
  },
  {
   "cell_type": "code",
   "execution_count": 202,
   "metadata": {},
   "outputs": [
    {
     "data": {
      "text/html": [
       "<div>\n",
       "<style scoped>\n",
       "    .dataframe tbody tr th:only-of-type {\n",
       "        vertical-align: middle;\n",
       "    }\n",
       "\n",
       "    .dataframe tbody tr th {\n",
       "        vertical-align: top;\n",
       "    }\n",
       "\n",
       "    .dataframe thead th {\n",
       "        text-align: right;\n",
       "    }\n",
       "</style>\n",
       "<table border=\"1\" class=\"dataframe\">\n",
       "  <thead>\n",
       "    <tr style=\"text-align: right;\">\n",
       "      <th></th>\n",
       "      <th>week</th>\n",
       "      <th>nb_sold</th>\n",
       "      <th>revenue</th>\n",
       "      <th>years_as_customer</th>\n",
       "      <th>nb_site_visits</th>\n",
       "    </tr>\n",
       "  </thead>\n",
       "  <tbody>\n",
       "    <tr>\n",
       "      <th>count</th>\n",
       "      <td>15000.000000</td>\n",
       "      <td>15000.000000</td>\n",
       "      <td>13926.000000</td>\n",
       "      <td>15000.000000</td>\n",
       "      <td>15000.000000</td>\n",
       "    </tr>\n",
       "    <tr>\n",
       "      <th>mean</th>\n",
       "      <td>3.098267</td>\n",
       "      <td>10.084667</td>\n",
       "      <td>93.934943</td>\n",
       "      <td>4.965933</td>\n",
       "      <td>24.990867</td>\n",
       "    </tr>\n",
       "    <tr>\n",
       "      <th>std</th>\n",
       "      <td>1.656420</td>\n",
       "      <td>1.812213</td>\n",
       "      <td>47.435312</td>\n",
       "      <td>5.044952</td>\n",
       "      <td>3.500914</td>\n",
       "    </tr>\n",
       "    <tr>\n",
       "      <th>min</th>\n",
       "      <td>1.000000</td>\n",
       "      <td>7.000000</td>\n",
       "      <td>32.540000</td>\n",
       "      <td>0.000000</td>\n",
       "      <td>12.000000</td>\n",
       "    </tr>\n",
       "    <tr>\n",
       "      <th>25%</th>\n",
       "      <td>2.000000</td>\n",
       "      <td>9.000000</td>\n",
       "      <td>52.470000</td>\n",
       "      <td>1.000000</td>\n",
       "      <td>23.000000</td>\n",
       "    </tr>\n",
       "    <tr>\n",
       "      <th>50%</th>\n",
       "      <td>3.000000</td>\n",
       "      <td>10.000000</td>\n",
       "      <td>89.500000</td>\n",
       "      <td>3.000000</td>\n",
       "      <td>25.000000</td>\n",
       "    </tr>\n",
       "    <tr>\n",
       "      <th>75%</th>\n",
       "      <td>5.000000</td>\n",
       "      <td>11.000000</td>\n",
       "      <td>107.327500</td>\n",
       "      <td>7.000000</td>\n",
       "      <td>27.000000</td>\n",
       "    </tr>\n",
       "    <tr>\n",
       "      <th>max</th>\n",
       "      <td>6.000000</td>\n",
       "      <td>16.000000</td>\n",
       "      <td>238.320000</td>\n",
       "      <td>63.000000</td>\n",
       "      <td>41.000000</td>\n",
       "    </tr>\n",
       "  </tbody>\n",
       "</table>\n",
       "</div>"
      ],
      "text/plain": [
       "               week       nb_sold       revenue  years_as_customer  \\\n",
       "count  15000.000000  15000.000000  13926.000000       15000.000000   \n",
       "mean       3.098267     10.084667     93.934943           4.965933   \n",
       "std        1.656420      1.812213     47.435312           5.044952   \n",
       "min        1.000000      7.000000     32.540000           0.000000   \n",
       "25%        2.000000      9.000000     52.470000           1.000000   \n",
       "50%        3.000000     10.000000     89.500000           3.000000   \n",
       "75%        5.000000     11.000000    107.327500           7.000000   \n",
       "max        6.000000     16.000000    238.320000          63.000000   \n",
       "\n",
       "       nb_site_visits  \n",
       "count    15000.000000  \n",
       "mean        24.990867  \n",
       "std          3.500914  \n",
       "min         12.000000  \n",
       "25%         23.000000  \n",
       "50%         25.000000  \n",
       "75%         27.000000  \n",
       "max         41.000000  "
      ]
     },
     "execution_count": 202,
     "metadata": {},
     "output_type": "execute_result"
    }
   ],
   "source": [
    "df.describe()"
   ]
  },
  {
   "cell_type": "code",
   "execution_count": 203,
   "metadata": {},
   "outputs": [],
   "source": [
    "df['revenue'] = df['revenue'].fillna(0)"
   ]
  },
  {
   "cell_type": "code",
   "execution_count": 204,
   "metadata": {},
   "outputs": [
    {
     "name": "stderr",
     "output_type": "stream",
     "text": [
      "/Users/italovega/opt/anaconda3/lib/python3.9/site-packages/seaborn/_decorators.py:36: FutureWarning:\n",
      "\n",
      "Pass the following variable as a keyword arg: x. From version 0.12, the only valid positional argument will be `data`, and passing other arguments without an explicit keyword will result in an error or misinterpretation.\n",
      "\n"
     ]
    },
    {
     "data": {
      "image/png": "[encoded data removed]",
      "text/plain": [
       "<Figure size 640x480 with 1 Axes>"
      ]
     },
     "metadata": {},
     "output_type": "display_data"
    }
   ],
   "source": [
    "\n",
    "sns.boxplot(df['revenue'],)\n",
    "plt.show()"
   ]
  },
  {
   "cell_type": "code",
   "execution_count": 205,
   "metadata": {},
   "outputs": [
    {
     "name": "stdout",
     "output_type": "stream",
     "text": [
      "['Email' 'Email + Call' 'Call' 'em + call' 'email']\n",
      "\n",
      "\n",
      "['Arizona' 'Kansas' 'Wisconsin' 'Indiana' 'Illinois' 'Mississippi'\n",
      " 'Georgia' 'Oklahoma' 'Massachusetts' 'Missouri' 'Texas' 'New York'\n",
      " 'Maryland' 'California' 'Tennessee' 'Pennsylvania' 'North Dakota'\n",
      " 'Florida' 'Michigan' 'North Carolina' 'Hawaii' 'Colorado' 'Louisiana'\n",
      " 'Virginia' 'New Mexico' 'Arkansas' 'Alaska' 'Oregon' 'New Hampshire'\n",
      " 'Ohio' 'New Jersey' 'Connecticut' 'Iowa' 'Montana' 'Washington'\n",
      " 'Kentucky' 'Alabama' 'Nebraska' 'South Carolina' 'Minnesota'\n",
      " 'South Dakota' 'Delaware' 'Maine' 'Utah' 'West Virginia' 'Vermont'\n",
      " 'Rhode Island' 'Nevada' 'Idaho' 'Wyoming']\n"
     ]
    }
   ],
   "source": [
    "print(df[\"sales_method\"].unique())\n",
    "print(\"\\n\")\n",
    "print(df[\"state\"].unique())\n"
   ]
  },
  {
   "cell_type": "code",
   "execution_count": 206,
   "metadata": {},
   "outputs": [
    {
     "data": {
      "text/plain": [
       "week                   int64\n",
       "sales_method          object\n",
       "customer_id           object\n",
       "nb_sold                int64\n",
       "revenue              float64\n",
       "years_as_customer      int64\n",
       "nb_site_visits         int64\n",
       "state                 object\n",
       "dtype: object"
      ]
     },
     "execution_count": 206,
     "metadata": {},
     "output_type": "execute_result"
    }
   ],
   "source": [
    "df.dtypes"
   ]
  },
  {
   "cell_type": "code",
   "execution_count": 207,
   "metadata": {},
   "outputs": [
    {
     "data": {
      "text/plain": [
       "(15000, 8)"
      ]
     },
     "execution_count": 207,
     "metadata": {},
     "output_type": "execute_result"
    }
   ],
   "source": [
    "df.shape"
   ]
  },
  {
   "cell_type": "code",
   "execution_count": 208,
   "metadata": {},
   "outputs": [
    {
     "data": {
      "text/plain": [
       "Index(['week', 'sales_method', 'customer_id', 'nb_sold', 'revenue',\n",
       "       'years_as_customer', 'nb_site_visits', 'state'],\n",
       "      dtype='object')"
      ]
     },
     "execution_count": 208,
     "metadata": {},
     "output_type": "execute_result"
    }
   ],
   "source": [
    "df.columns"
   ]
  },
  {
   "cell_type": "code",
   "execution_count": 209,
   "metadata": {},
   "outputs": [
    {
     "data": {
      "text/plain": [
       "array(['Email', 'Email + Call', 'Call', 'em + call', 'email'],\n",
       "      dtype=object)"
      ]
     },
     "execution_count": 209,
     "metadata": {},
     "output_type": "execute_result"
    }
   ],
   "source": [
    "#It should be :Email and call, Call, Email\n",
    "\n",
    "df['sales_method'].unique()"
   ]
  },
  {
   "cell_type": "code",
   "execution_count": 210,
   "metadata": {},
   "outputs": [
    {
     "data": {
      "text/plain": [
       "array(['Email', 'Email and call', 'Call'], dtype=object)"
      ]
     },
     "execution_count": 210,
     "metadata": {},
     "output_type": "execute_result"
    }
   ],
   "source": [
    "\n",
    "mapping = {\n",
    "    'Email': 'Email',\n",
    "    'email': 'Email',\n",
    "    'Email + Call': 'Email and call',\n",
    "    'em + call': 'Email and call',\n",
    "    'Call': 'Call'\n",
    "}\n",
    "\n",
    "\n",
    "df['sales_method'] = df['sales_method'].map(mapping)\n",
    "\n",
    "unique_methods = df['sales_method'].unique()\n",
    "unique_methods\n"
   ]
  },
  {
   "cell_type": "code",
   "execution_count": 211,
   "metadata": {},
   "outputs": [],
   "source": [
    "df['sales_method'] = df['sales_method'].astype('category')\n",
    "df['state'] = df['state'].astype('category')"
   ]
  },
  {
   "cell_type": "code",
   "execution_count": 212,
   "metadata": {},
   "outputs": [
    {
     "data": {
      "text/plain": [
       "week                    int64\n",
       "sales_method         category\n",
       "customer_id            object\n",
       "nb_sold                 int64\n",
       "revenue               float64\n",
       "years_as_customer       int64\n",
       "nb_site_visits          int64\n",
       "state                category\n",
       "dtype: object"
      ]
     },
     "execution_count": 212,
     "metadata": {},
     "output_type": "execute_result"
    }
   ],
   "source": [
    "df.dtypes"
   ]
  },
  {
   "cell_type": "code",
   "execution_count": 213,
   "metadata": {},
   "outputs": [
    {
     "name": "stdout",
     "output_type": "stream",
     "text": [
      "Empty DataFrame\n",
      "Columns: [week, sales_method, customer_id, nb_sold, revenue, years_as_customer, nb_site_visits, state]\n",
      "Index: []\n"
     ]
    }
   ],
   "source": [
    "# Solo hicimos esto para probar que no habia datos duplicados y que el resultado fue correcto.//\n",
    "#We did this to test that there is no duplicate data and that the result was correct.\n",
    "missing_values = df[df['sales_method'].isna()]\n",
    "\n",
    "print(missing_values)\n"
   ]
  },
  {
   "cell_type": "code",
   "execution_count": 214,
   "metadata": {},
   "outputs": [
    {
     "name": "stdout",
     "output_type": "stream",
     "text": [
      "6\n",
      "1\n"
     ]
    }
   ],
   "source": [
    "print(df['week'].max())\n",
    "print(df['week'].min())"
   ]
  },
  {
   "cell_type": "code",
   "execution_count": 215,
   "metadata": {},
   "outputs": [],
   "source": [
    "\n",
    "#data_sorted = df.sort_values(by='week', ascending=True)\n",
    "df = df.sort_values(by='week', ascending=True)"
   ]
  },
  {
   "cell_type": "code",
   "execution_count": 216,
   "metadata": {},
   "outputs": [
    {
     "name": "stdout",
     "output_type": "stream",
     "text": [
      "238.32\n",
      "0.0\n"
     ]
    }
   ],
   "source": [
    "print(df['revenue'].max())\n",
    "print(df['revenue'].min())"
   ]
  },
  {
   "cell_type": "code",
   "execution_count": 217,
   "metadata": {},
   "outputs": [
    {
     "data": {
      "text/plain": [
       "Index(['week', 'sales_method', 'customer_id', 'nb_sold', 'revenue',\n",
       "       'years_as_customer', 'nb_site_visits', 'state'],\n",
       "      dtype='object')"
      ]
     },
     "execution_count": 217,
     "metadata": {},
     "output_type": "execute_result"
    }
   ],
   "source": [
    "df.columns"
   ]
  },
  {
   "cell_type": "markdown",
   "metadata": {},
   "source": [
    "#  A.- How many customers were there for each approach?"
   ]
  },
  {
   "cell_type": "markdown",
   "metadata": {},
   "source": [
    "After adjusting the information and reassigning according to the 3 categories, were quantified, 4962 clients in the \"Call\" category, 7477 clients  in \"Email\" category and 2572 clinets in \"Email and call\". Most of the clients are contacted by e-mail,having the greatest revenue in the analyzed time interval (6 weeks). These outperform their two other alternatives combined. The profit of 'email' exceeds its two other alternatives combined."
   ]
  },
  {
   "cell_type": "code",
   "execution_count": 218,
   "metadata": {},
   "outputs": [
    {
     "data": {
      "text/plain": [
       "sales_method\n",
       "Call              4962\n",
       "Email             7466\n",
       "Email and call    2572\n",
       "Name: customer_id, dtype: int64"
      ]
     },
     "execution_count": 218,
     "metadata": {},
     "output_type": "execute_result"
    }
   ],
   "source": [
    "customers_methods = df.groupby('sales_method')['customer_id'].nunique()\n",
    "\n",
    "customers_methods\n"
   ]
  },
  {
   "cell_type": "code",
   "execution_count": 219,
   "metadata": {},
   "outputs": [
    {
     "data": {
      "application/vnd.plotly.v1+json": {
       "config": {
        "plotlyServerURL": "https://plot.ly"
       },
       "data": [
        {
         "alignmentgroup": "True",
         "hovertemplate": "Sales Method=%{y}<br>Number of Clients=%{text}<extra></extra>",
         "legendgroup": "Email and call",
         "marker": {
          "color": "green",
          "pattern": {
           "shape": ""
          }
         },
         "name": "Email and call",
         "offsetgroup": "Email and call",
         "orientation": "h",
         "showlegend": true,
         "text": [
          2572
         ],
         "textposition": "auto",
         "type": "bar",
         "x": [
          2572
         ],
         "xaxis": "x",
         "y": [
          "Email and call"
         ],
         "yaxis": "y"
        },
        {
         "alignmentgroup": "True",
         "hovertemplate": "Sales Method=%{y}<br>Number of Clients=%{text}<extra></extra>",
         "legendgroup": "Call",
         "marker": {
          "color": "red",
          "pattern": {
           "shape": ""
          }
         },
         "name": "Call",
         "offsetgroup": "Call",
         "orientation": "h",
         "showlegend": true,
         "text": [
          4962
         ],
         "textposition": "auto",
         "type": "bar",
         "x": [
          4962
         ],
         "xaxis": "x",
         "y": [
          "Call"
         ],
         "yaxis": "y"
        },
        {
         "alignmentgroup": "True",
         "hovertemplate": "Sales Method=%{y}<br>Number of Clients=%{text}<extra></extra>",
         "legendgroup": "Email",
         "marker": {
          "color": "blue",
          "pattern": {
           "shape": ""
          }
         },
         "name": "Email",
         "offsetgroup": "Email",
         "orientation": "h",
         "showlegend": true,
         "text": [
          7466
         ],
         "textposition": "auto",
         "type": "bar",
         "x": [
          7466
         ],
         "xaxis": "x",
         "y": [
          "Email"
         ],
         "yaxis": "y"
        }
       ],
       "layout": {
        "barmode": "relative",
        "legend": {
         "title": {
          "text": "Sales Method"
         },
         "tracegroupgap": 0
        },
        "margin": {
         "t": 60
        },
        "showlegend": false,
        "template": {
         "data": {
          "bar": [
           {
            "error_x": {
             "color": "#2a3f5f"
            },
            "error_y": {
             "color": "#2a3f5f"
            },
            "marker": {
             "line": {
              "color": "#E5ECF6",
              "width": 0.5
             },
             "pattern": {
              "fillmode": "overlay",
              "size": 10,
              "solidity": 0.2
             }
            },
            "type": "bar"
           }
          ],
          "barpolar": [
           {
            "marker": {
             "line": {
              "color": "#E5ECF6",
              "width": 0.5
             },
             "pattern": {
              "fillmode": "overlay",
              "size": 10,
              "solidity": 0.2
             }
            },
            "type": "barpolar"
           }
          ],
          "carpet": [
           {
            "aaxis": {
             "endlinecolor": "#2a3f5f",
             "gridcolor": "white",
             "linecolor": "white",
             "minorgridcolor": "white",
             "startlinecolor": "#2a3f5f"
            },
            "baxis": {
             "endlinecolor": "#2a3f5f",
             "gridcolor": "white",
             "linecolor": "white",
             "minorgridcolor": "white",
             "startlinecolor": "#2a3f5f"
            },
            "type": "carpet"
           }
          ],
          "choropleth": [
           {
            "colorbar": {
             "outlinewidth": 0,
             "ticks": ""
            },
            "type": "choropleth"
           }
          ],
          "contour": [
           {
            "colorbar": {
             "outlinewidth": 0,
             "ticks": ""
            },
            "colorscale": [
             [
              0,
              "#0d0887"
             ],
             [
              0.1111111111111111,
              "#46039f"
             ],
             [
              0.2222222222222222,
              "#7201a8"
             ],
             [
              0.3333333333333333,
              "#9c179e"
             ],
             [
              0.4444444444444444,
              "#bd3786"
             ],
             [
              0.5555555555555556,
              "#d8576b"
             ],
             [
              0.6666666666666666,
              "#ed7953"
             ],
             [
              0.7777777777777778,
              "#fb9f3a"
             ],
             [
              0.8888888888888888,
              "#fdca26"
             ],
             [
              1,
              "#f0f921"
             ]
            ],
            "type": "contour"
           }
          ],
          "contourcarpet": [
           {
            "colorbar": {
             "outlinewidth": 0,
             "ticks": ""
            },
            "type": "contourcarpet"
           }
          ],
          "heatmap": [
           {
            "colorbar": {
             "outlinewidth": 0,
             "ticks": ""
            },
            "colorscale": [
             [
              0,
              "#0d0887"
             ],
             [
              0.1111111111111111,
              "#46039f"
             ],
             [
              0.2222222222222222,
              "#7201a8"
             ],
             [
              0.3333333333333333,
              "#9c179e"
             ],
             [
              0.4444444444444444,
              "#bd3786"
             ],
             [
              0.5555555555555556,
              "#d8576b"
             ],
             [
              0.6666666666666666,
              "#ed7953"
             ],
             [
              0.7777777777777778,
              "#fb9f3a"
             ],
             [
              0.8888888888888888,
              "#fdca26"
             ],
             [
              1,
              "#f0f921"
             ]
            ],
            "type": "heatmap"
           }
          ],
          "heatmapgl": [
           {
            "colorbar": {
             "outlinewidth": 0,
             "ticks": ""
            },
            "colorscale": [
             [
              0,
              "#0d0887"
             ],
             [
              0.1111111111111111,
              "#46039f"
             ],
             [
              0.2222222222222222,
              "#7201a8"
             ],
             [
              0.3333333333333333,
              "#9c179e"
             ],
             [
              0.4444444444444444,
              "#bd3786"
             ],
             [
              0.5555555555555556,
              "#d8576b"
             ],
             [
              0.6666666666666666,
              "#ed7953"
             ],
             [
              0.7777777777777778,
              "#fb9f3a"
             ],
             [
              0.8888888888888888,
              "#fdca26"
             ],
             [
              1,
              "#f0f921"
             ]
            ],
            "type": "heatmapgl"
           }
          ],
          "histogram": [
           {
            "marker": {
             "pattern": {
              "fillmode": "overlay",
              "size": 10,
              "solidity": 0.2
             }
            },
            "type": "histogram"
           }
          ],
          "histogram2d": [
           {
            "colorbar": {
             "outlinewidth": 0,
             "ticks": ""
            },
            "colorscale": [
             [
              0,
              "#0d0887"
             ],
             [
              0.1111111111111111,
              "#46039f"
             ],
             [
              0.2222222222222222,
              "#7201a8"
             ],
             [
              0.3333333333333333,
              "#9c179e"
             ],
             [
              0.4444444444444444,
              "#bd3786"
             ],
             [
              0.5555555555555556,
              "#d8576b"
             ],
             [
              0.6666666666666666,
              "#ed7953"
             ],
             [
              0.7777777777777778,
              "#fb9f3a"
             ],
             [
              0.8888888888888888,
              "#fdca26"
             ],
             [
              1,
              "#f0f921"
             ]
            ],
            "type": "histogram2d"
           }
          ],
          "histogram2dcontour": [
           {
            "colorbar": {
             "outlinewidth": 0,
             "ticks": ""
            },
            "colorscale": [
             [
              0,
              "#0d0887"
             ],
             [
              0.1111111111111111,
              "#46039f"
             ],
             [
              0.2222222222222222,
              "#7201a8"
             ],
             [
              0.3333333333333333,
              "#9c179e"
             ],
             [
              0.4444444444444444,
              "#bd3786"
             ],
             [
              0.5555555555555556,
              "#d8576b"
             ],
             [
              0.6666666666666666,
              "#ed7953"
             ],
             [
              0.7777777777777778,
              "#fb9f3a"
             ],
             [
              0.8888888888888888,
              "#fdca26"
             ],
             [
              1,
              "#f0f921"
             ]
            ],
            "type": "histogram2dcontour"
           }
          ],
          "mesh3d": [
           {
            "colorbar": {
             "outlinewidth": 0,
             "ticks": ""
            },
            "type": "mesh3d"
           }
          ],
          "parcoords": [
           {
            "line": {
             "colorbar": {
              "outlinewidth": 0,
              "ticks": ""
             }
            },
            "type": "parcoords"
           }
          ],
          "pie": [
           {
            "automargin": true,
            "type": "pie"
           }
          ],
          "scatter": [
           {
            "fillpattern": {
             "fillmode": "overlay",
             "size": 10,
             "solidity": 0.2
            },
            "type": "scatter"
           }
          ],
          "scatter3d": [
           {
            "line": {
             "colorbar": {
              "outlinewidth": 0,
              "ticks": ""
             }
            },
            "marker": {
             "colorbar": {
              "outlinewidth": 0,
              "ticks": ""
             }
            },
            "type": "scatter3d"
           }
          ],
          "scattercarpet": [
           {
            "marker": {
             "colorbar": {
              "outlinewidth": 0,
              "ticks": ""
             }
            },
            "type": "scattercarpet"
           }
          ],
          "scattergeo": [
           {
            "marker": {
             "colorbar": {
              "outlinewidth": 0,
              "ticks": ""
             }
            },
            "type": "scattergeo"
           }
          ],
          "scattergl": [
           {
            "marker": {
             "colorbar": {
              "outlinewidth": 0,
              "ticks": ""
             }
            },
            "type": "scattergl"
           }
          ],
          "scattermapbox": [
           {
            "marker": {
             "colorbar": {
              "outlinewidth": 0,
              "ticks": ""
             }
            },
            "type": "scattermapbox"
           }
          ],
          "scatterpolar": [
           {
            "marker": {
             "colorbar": {
              "outlinewidth": 0,
              "ticks": ""
             }
            },
            "type": "scatterpolar"
           }
          ],
          "scatterpolargl": [
           {
            "marker": {
             "colorbar": {
              "outlinewidth": 0,
              "ticks": ""
             }
            },
            "type": "scatterpolargl"
           }
          ],
          "scatterternary": [
           {
            "marker": {
             "colorbar": {
              "outlinewidth": 0,
              "ticks": ""
             }
            },
            "type": "scatterternary"
           }
          ],
          "surface": [
           {
            "colorbar": {
             "outlinewidth": 0,
             "ticks": ""
            },
            "colorscale": [
             [
              0,
              "#0d0887"
             ],
             [
              0.1111111111111111,
              "#46039f"
             ],
             [
              0.2222222222222222,
              "#7201a8"
             ],
             [
              0.3333333333333333,
              "#9c179e"
             ],
             [
              0.4444444444444444,
              "#bd3786"
             ],
             [
              0.5555555555555556,
              "#d8576b"
             ],
             [
              0.6666666666666666,
              "#ed7953"
             ],
             [
              0.7777777777777778,
              "#fb9f3a"
             ],
             [
              0.8888888888888888,
              "#fdca26"
             ],
             [
              1,
              "#f0f921"
             ]
            ],
            "type": "surface"
           }
          ],
          "table": [
           {
            "cells": {
             "fill": {
              "color": "#EBF0F8"
             },
             "line": {
              "color": "white"
             }
            },
            "header": {
             "fill": {
              "color": "#C8D4E3"
             },
             "line": {
              "color": "white"
             }
            },
            "type": "table"
           }
          ]
         },
         "layout": {
          "annotationdefaults": {
           "arrowcolor": "#2a3f5f",
           "arrowhead": 0,
           "arrowwidth": 1
          },
          "autotypenumbers": "strict",
          "coloraxis": {
           "colorbar": {
            "outlinewidth": 0,
            "ticks": ""
           }
          },
          "colorscale": {
           "diverging": [
            [
             0,
             "#8e0152"
            ],
            [
             0.1,
             "#c51b7d"
            ],
            [
             0.2,
             "#de77ae"
            ],
            [
             0.3,
             "#f1b6da"
            ],
            [
             0.4,
             "#fde0ef"
            ],
            [
             0.5,
             "#f7f7f7"
            ],
            [
             0.6,
             "#e6f5d0"
            ],
            [
             0.7,
             "#b8e186"
            ],
            [
             0.8,
             "#7fbc41"
            ],
            [
             0.9,
             "#4d9221"
            ],
            [
             1,
             "#276419"
            ]
           ],
           "sequential": [
            [
             0,
             "#0d0887"
            ],
            [
             0.1111111111111111,
             "#46039f"
            ],
            [
             0.2222222222222222,
             "#7201a8"
            ],
            [
             0.3333333333333333,
             "#9c179e"
            ],
            [
             0.4444444444444444,
             "#bd3786"
            ],
            [
             0.5555555555555556,
             "#d8576b"
            ],
            [
             0.6666666666666666,
             "#ed7953"
            ],
            [
             0.7777777777777778,
             "#fb9f3a"
            ],
            [
             0.8888888888888888,
             "#fdca26"
            ],
            [
             1,
             "#f0f921"
            ]
           ],
           "sequentialminus": [
            [
             0,
             "#0d0887"
            ],
            [
             0.1111111111111111,
             "#46039f"
            ],
            [
             0.2222222222222222,
             "#7201a8"
            ],
            [
             0.3333333333333333,
             "#9c179e"
            ],
            [
             0.4444444444444444,
             "#bd3786"
            ],
            [
             0.5555555555555556,
             "#d8576b"
            ],
            [
             0.6666666666666666,
             "#ed7953"
            ],
            [
             0.7777777777777778,
             "#fb9f3a"
            ],
            [
             0.8888888888888888,
             "#fdca26"
            ],
            [
             1,
             "#f0f921"
            ]
           ]
          },
          "colorway": [
           "#636efa",
           "#EF553B",
           "#00cc96",
           "#ab63fa",
           "#FFA15A",
           "#19d3f3",
           "#FF6692",
           "#B6E880",
           "#FF97FF",
           "#FECB52"
          ],
          "font": {
           "color": "#2a3f5f"
          },
          "geo": {
           "bgcolor": "white",
           "lakecolor": "white",
           "landcolor": "#E5ECF6",
           "showlakes": true,
           "showland": true,
           "subunitcolor": "white"
          },
          "hoverlabel": {
           "align": "left"
          },
          "hovermode": "closest",
          "mapbox": {
           "style": "light"
          },
          "paper_bgcolor": "white",
          "plot_bgcolor": "#E5ECF6",
          "polar": {
           "angularaxis": {
            "gridcolor": "white",
            "linecolor": "white",
            "ticks": ""
           },
           "bgcolor": "#E5ECF6",
           "radialaxis": {
            "gridcolor": "white",
            "linecolor": "white",
            "ticks": ""
           }
          },
          "scene": {
           "xaxis": {
            "backgroundcolor": "#E5ECF6",
            "gridcolor": "white",
            "gridwidth": 2,
            "linecolor": "white",
            "showbackground": true,
            "ticks": "",
            "zerolinecolor": "white"
           },
           "yaxis": {
            "backgroundcolor": "#E5ECF6",
            "gridcolor": "white",
            "gridwidth": 2,
            "linecolor": "white",
            "showbackground": true,
            "ticks": "",
            "zerolinecolor": "white"
           },
           "zaxis": {
            "backgroundcolor": "#E5ECF6",
            "gridcolor": "white",
            "gridwidth": 2,
            "linecolor": "white",
            "showbackground": true,
            "ticks": "",
            "zerolinecolor": "white"
           }
          },
          "shapedefaults": {
           "line": {
            "color": "#2a3f5f"
           }
          },
          "ternary": {
           "aaxis": {
            "gridcolor": "white",
            "linecolor": "white",
            "ticks": ""
           },
           "baxis": {
            "gridcolor": "white",
            "linecolor": "white",
            "ticks": ""
           },
           "bgcolor": "#E5ECF6",
           "caxis": {
            "gridcolor": "white",
            "linecolor": "white",
            "ticks": ""
           }
          },
          "title": {
           "x": 0.05
          },
          "xaxis": {
           "automargin": true,
           "gridcolor": "white",
           "linecolor": "white",
           "ticks": "",
           "title": {
            "standoff": 15
           },
           "zerolinecolor": "white",
           "zerolinewidth": 2
          },
          "yaxis": {
           "automargin": true,
           "gridcolor": "white",
           "linecolor": "white",
           "ticks": "",
           "title": {
            "standoff": 15
           },
           "zerolinecolor": "white",
           "zerolinewidth": 2
          }
         }
        },
        "title": {
         "text": "Clients by Sales Method"
        },
        "xaxis": {
         "anchor": "y",
         "domain": [
          0,
          1
         ],
         "title": {
          "text": "Number of Clients"
         }
        },
        "yaxis": {
         "anchor": "x",
         "categoryarray": [
          "Email",
          "Call",
          "Email and call"
         ],
         "categoryorder": "array",
         "domain": [
          0,
          1
         ],
         "title": {
          "text": "Sales Method"
         }
        }
       }
      }
     },
     "metadata": {},
     "output_type": "display_data"
    }
   ],
   "source": [
    "df_plot = customers_methods.sort_values().reset_index()\n",
    "df_plot.columns = ['Sales Method', 'Number of Clients']\n",
    "\n",
    "fig = px.bar(df_plot, \n",
    "             x='Number of Clients', \n",
    "             y='Sales Method', \n",
    "             orientation='h', \n",
    "             color='Sales Method',\n",
    "             color_discrete_map={\n",
    "                \"Email\": \"blue\",\n",
    "                \"Call\": \"red\",\n",
    "                \"Email and call\": \"green\"},\n",
    "             text='Number of Clients')\n",
    "\n",
    "fig.update_layout(title_text=\"Clients by Sales Method\",\n",
    "                  xaxis_title=\"Number of Clients\",\n",
    "                  yaxis_title=\"Sales Method\",\n",
    "                  showlegend=False)\n",
    "fig.show()"
   ]
  },
  {
   "cell_type": "code",
   "execution_count": 220,
   "metadata": {},
   "outputs": [
    {
     "data": {
      "application/vnd.plotly.v1+json": {
       "config": {
        "plotlyServerURL": "https://plot.ly"
       },
       "data": [
        {
         "alignmentgroup": "True",
         "hovertemplate": "Sales Method=%{y}<br>Total Revenue=%{text}<extra></extra>",
         "legendgroup": "Call",
         "marker": {
          "color": "red",
          "pattern": {
           "shape": ""
          }
         },
         "name": "Call",
         "offsetgroup": "Call",
         "orientation": "h",
         "showlegend": true,
         "text": [
          227563.49
         ],
         "textposition": "inside",
         "texttemplate": "%{text:$,.2f}",
         "type": "bar",
         "x": [
          227563.49
         ],
         "xaxis": "x",
         "y": [
          "Call"
         ],
         "yaxis": "y"
        },
        {
         "alignmentgroup": "True",
         "hovertemplate": "Sales Method=%{y}<br>Total Revenue=%{text}<extra></extra>",
         "legendgroup": "Email and call",
         "marker": {
          "color": "green",
          "pattern": {
           "shape": ""
          }
         },
         "name": "Email and call",
         "offsetgroup": "Email and call",
         "orientation": "h",
         "showlegend": true,
         "text": [
          408256.69
         ],
         "textposition": "inside",
         "texttemplate": "%{text:$,.2f}",
         "type": "bar",
         "x": [
          408256.69
         ],
         "xaxis": "x",
         "y": [
          "Email and call"
         ],
         "yaxis": "y"
        },
        {
         "alignmentgroup": "True",
         "hovertemplate": "Sales Method=%{y}<br>Total Revenue=%{text}<extra></extra>",
         "legendgroup": "Email",
         "marker": {
          "color": "blue",
          "pattern": {
           "shape": ""
          }
         },
         "name": "Email",
         "offsetgroup": "Email",
         "orientation": "h",
         "showlegend": true,
         "text": [
          672317.83
         ],
         "textposition": "inside",
         "texttemplate": "%{text:$,.2f}",
         "type": "bar",
         "x": [
          672317.83
         ],
         "xaxis": "x",
         "y": [
          "Email"
         ],
         "yaxis": "y"
        }
       ],
       "layout": {
        "barmode": "relative",
        "legend": {
         "title": {
          "text": "Sales Method"
         },
         "tracegroupgap": 0
        },
        "margin": {
         "t": 60
        },
        "showlegend": false,
        "template": {
         "data": {
          "bar": [
           {
            "error_x": {
             "color": "#2a3f5f"
            },
            "error_y": {
             "color": "#2a3f5f"
            },
            "marker": {
             "line": {
              "color": "#E5ECF6",
              "width": 0.5
             },
             "pattern": {
              "fillmode": "overlay",
              "size": 10,
              "solidity": 0.2
             }
            },
            "type": "bar"
           }
          ],
          "barpolar": [
           {
            "marker": {
             "line": {
              "color": "#E5ECF6",
              "width": 0.5
             },
             "pattern": {
              "fillmode": "overlay",
              "size": 10,
              "solidity": 0.2
             }
            },
            "type": "barpolar"
           }
          ],
          "carpet": [
           {
            "aaxis": {
             "endlinecolor": "#2a3f5f",
             "gridcolor": "white",
             "linecolor": "white",
             "minorgridcolor": "white",
             "startlinecolor": "#2a3f5f"
            },
            "baxis": {
             "endlinecolor": "#2a3f5f",
             "gridcolor": "white",
             "linecolor": "white",
             "minorgridcolor": "white",
             "startlinecolor": "#2a3f5f"
            },
            "type": "carpet"
           }
          ],
          "choropleth": [
           {
            "colorbar": {
             "outlinewidth": 0,
             "ticks": ""
            },
            "type": "choropleth"
           }
          ],
          "contour": [
           {
            "colorbar": {
             "outlinewidth": 0,
             "ticks": ""
            },
            "colorscale": [
             [
              0,
              "#0d0887"
             ],
             [
              0.1111111111111111,
              "#46039f"
             ],
             [
              0.2222222222222222,
              "#7201a8"
             ],
             [
              0.3333333333333333,
              "#9c179e"
             ],
             [
              0.4444444444444444,
              "#bd3786"
             ],
             [
              0.5555555555555556,
              "#d8576b"
             ],
             [
              0.6666666666666666,
              "#ed7953"
             ],
             [
              0.7777777777777778,
              "#fb9f3a"
             ],
             [
              0.8888888888888888,
              "#fdca26"
             ],
             [
              1,
              "#f0f921"
             ]
            ],
            "type": "contour"
           }
          ],
          "contourcarpet": [
           {
            "colorbar": {
             "outlinewidth": 0,
             "ticks": ""
            },
            "type": "contourcarpet"
           }
          ],
          "heatmap": [
           {
            "colorbar": {
             "outlinewidth": 0,
             "ticks": ""
            },
            "colorscale": [
             [
              0,
              "#0d0887"
             ],
             [
              0.1111111111111111,
              "#46039f"
             ],
             [
              0.2222222222222222,
              "#7201a8"
             ],
             [
              0.3333333333333333,
              "#9c179e"
             ],
             [
              0.4444444444444444,
              "#bd3786"
             ],
             [
              0.5555555555555556,
              "#d8576b"
             ],
             [
              0.6666666666666666,
              "#ed7953"
             ],
             [
              0.7777777777777778,
              "#fb9f3a"
             ],
             [
              0.8888888888888888,
              "#fdca26"
             ],
             [
              1,
              "#f0f921"
             ]
            ],
            "type": "heatmap"
           }
          ],
          "heatmapgl": [
           {
            "colorbar": {
             "outlinewidth": 0,
             "ticks": ""
            },
            "colorscale": [
             [
              0,
              "#0d0887"
             ],
             [
              0.1111111111111111,
              "#46039f"
             ],
             [
              0.2222222222222222,
              "#7201a8"
             ],
             [
              0.3333333333333333,
              "#9c179e"
             ],
             [
              0.4444444444444444,
              "#bd3786"
             ],
             [
              0.5555555555555556,
              "#d8576b"
             ],
             [
              0.6666666666666666,
              "#ed7953"
             ],
             [
              0.7777777777777778,
              "#fb9f3a"
             ],
             [
              0.8888888888888888,
              "#fdca26"
             ],
             [
              1,
              "#f0f921"
             ]
            ],
            "type": "heatmapgl"
           }
          ],
          "histogram": [
           {
            "marker": {
             "pattern": {
              "fillmode": "overlay",
              "size": 10,
              "solidity": 0.2
             }
            },
            "type": "histogram"
           }
          ],
          "histogram2d": [
           {
            "colorbar": {
             "outlinewidth": 0,
             "ticks": ""
            },
            "colorscale": [
             [
              0,
              "#0d0887"
             ],
             [
              0.1111111111111111,
              "#46039f"
             ],
             [
              0.2222222222222222,
              "#7201a8"
             ],
             [
              0.3333333333333333,
              "#9c179e"
             ],
             [
              0.4444444444444444,
              "#bd3786"
             ],
             [
              0.5555555555555556,
              "#d8576b"
             ],
             [
              0.6666666666666666,
              "#ed7953"
             ],
             [
              0.7777777777777778,
              "#fb9f3a"
             ],
             [
              0.8888888888888888,
              "#fdca26"
             ],
             [
              1,
              "#f0f921"
             ]
            ],
            "type": "histogram2d"
           }
          ],
          "histogram2dcontour": [
           {
            "colorbar": {
             "outlinewidth": 0,
             "ticks": ""
            },
            "colorscale": [
             [
              0,
              "#0d0887"
             ],
             [
              0.1111111111111111,
              "#46039f"
             ],
             [
              0.2222222222222222,
              "#7201a8"
             ],
             [
              0.3333333333333333,
              "#9c179e"
             ],
             [
              0.4444444444444444,
              "#bd3786"
             ],
             [
              0.5555555555555556,
              "#d8576b"
             ],
             [
              0.6666666666666666,
              "#ed7953"
             ],
             [
              0.7777777777777778,
              "#fb9f3a"
             ],
             [
              0.8888888888888888,
              "#fdca26"
             ],
             [
              1,
              "#f0f921"
             ]
            ],
            "type": "histogram2dcontour"
           }
          ],
          "mesh3d": [
           {
            "colorbar": {
             "outlinewidth": 0,
             "ticks": ""
            },
            "type": "mesh3d"
           }
          ],
          "parcoords": [
           {
            "line": {
             "colorbar": {
              "outlinewidth": 0,
              "ticks": ""
             }
            },
            "type": "parcoords"
           }
          ],
          "pie": [
           {
            "automargin": true,
            "type": "pie"
           }
          ],
          "scatter": [
           {
            "fillpattern": {
             "fillmode": "overlay",
             "size": 10,
             "solidity": 0.2
            },
            "type": "scatter"
           }
          ],
          "scatter3d": [
           {
            "line": {
             "colorbar": {
              "outlinewidth": 0,
              "ticks": ""
             }
            },
            "marker": {
             "colorbar": {
              "outlinewidth": 0,
              "ticks": ""
             }
            },
            "type": "scatter3d"
           }
          ],
          "scattercarpet": [
           {
            "marker": {
             "colorbar": {
              "outlinewidth": 0,
              "ticks": ""
             }
            },
            "type": "scattercarpet"
           }
          ],
          "scattergeo": [
           {
            "marker": {
             "colorbar": {
              "outlinewidth": 0,
              "ticks": ""
             }
            },
            "type": "scattergeo"
           }
          ],
          "scattergl": [
           {
            "marker": {
             "colorbar": {
              "outlinewidth": 0,
              "ticks": ""
             }
            },
            "type": "scattergl"
           }
          ],
          "scattermapbox": [
           {
            "marker": {
             "colorbar": {
              "outlinewidth": 0,
              "ticks": ""
             }
            },
            "type": "scattermapbox"
           }
          ],
          "scatterpolar": [
           {
            "marker": {
             "colorbar": {
              "outlinewidth": 0,
              "ticks": ""
             }
            },
            "type": "scatterpolar"
           }
          ],
          "scatterpolargl": [
           {
            "marker": {
             "colorbar": {
              "outlinewidth": 0,
              "ticks": ""
             }
            },
            "type": "scatterpolargl"
           }
          ],
          "scatterternary": [
           {
            "marker": {
             "colorbar": {
              "outlinewidth": 0,
              "ticks": ""
             }
            },
            "type": "scatterternary"
           }
          ],
          "surface": [
           {
            "colorbar": {
             "outlinewidth": 0,
             "ticks": ""
            },
            "colorscale": [
             [
              0,
              "#0d0887"
             ],
             [
              0.1111111111111111,
              "#46039f"
             ],
             [
              0.2222222222222222,
              "#7201a8"
             ],
             [
              0.3333333333333333,
              "#9c179e"
             ],
             [
              0.4444444444444444,
              "#bd3786"
             ],
             [
              0.5555555555555556,
              "#d8576b"
             ],
             [
              0.6666666666666666,
              "#ed7953"
             ],
             [
              0.7777777777777778,
              "#fb9f3a"
             ],
             [
              0.8888888888888888,
              "#fdca26"
             ],
             [
              1,
              "#f0f921"
             ]
            ],
            "type": "surface"
           }
          ],
          "table": [
           {
            "cells": {
             "fill": {
              "color": "#EBF0F8"
             },
             "line": {
              "color": "white"
             }
            },
            "header": {
             "fill": {
              "color": "#C8D4E3"
             },
             "line": {
              "color": "white"
             }
            },
            "type": "table"
           }
          ]
         },
         "layout": {
          "annotationdefaults": {
           "arrowcolor": "#2a3f5f",
           "arrowhead": 0,
           "arrowwidth": 1
          },
          "autotypenumbers": "strict",
          "coloraxis": {
           "colorbar": {
            "outlinewidth": 0,
            "ticks": ""
           }
          },
          "colorscale": {
           "diverging": [
            [
             0,
             "#8e0152"
            ],
            [
             0.1,
             "#c51b7d"
            ],
            [
             0.2,
             "#de77ae"
            ],
            [
             0.3,
             "#f1b6da"
            ],
            [
             0.4,
             "#fde0ef"
            ],
            [
             0.5,
             "#f7f7f7"
            ],
            [
             0.6,
             "#e6f5d0"
            ],
            [
             0.7,
             "#b8e186"
            ],
            [
             0.8,
             "#7fbc41"
            ],
            [
             0.9,
             "#4d9221"
            ],
            [
             1,
             "#276419"
            ]
           ],
           "sequential": [
            [
             0,
             "#0d0887"
            ],
            [
             0.1111111111111111,
             "#46039f"
            ],
            [
             0.2222222222222222,
             "#7201a8"
            ],
            [
             0.3333333333333333,
             "#9c179e"
            ],
            [
             0.4444444444444444,
             "#bd3786"
            ],
            [
             0.5555555555555556,
             "#d8576b"
            ],
            [
             0.6666666666666666,
             "#ed7953"
            ],
            [
             0.7777777777777778,
             "#fb9f3a"
            ],
            [
             0.8888888888888888,
             "#fdca26"
            ],
            [
             1,
             "#f0f921"
            ]
           ],
           "sequentialminus": [
            [
             0,
             "#0d0887"
            ],
            [
             0.1111111111111111,
             "#46039f"
            ],
            [
             0.2222222222222222,
             "#7201a8"
            ],
            [
             0.3333333333333333,
             "#9c179e"
            ],
            [
             0.4444444444444444,
             "#bd3786"
            ],
            [
             0.5555555555555556,
             "#d8576b"
            ],
            [
             0.6666666666666666,
             "#ed7953"
            ],
            [
             0.7777777777777778,
             "#fb9f3a"
            ],
            [
             0.8888888888888888,
             "#fdca26"
            ],
            [
             1,
             "#f0f921"
            ]
           ]
          },
          "colorway": [
           "#636efa",
           "#EF553B",
           "#00cc96",
           "#ab63fa",
           "#FFA15A",
           "#19d3f3",
           "#FF6692",
           "#B6E880",
           "#FF97FF",
           "#FECB52"
          ],
          "font": {
           "color": "#2a3f5f"
          },
          "geo": {
           "bgcolor": "white",
           "lakecolor": "white",
           "landcolor": "#E5ECF6",
           "showlakes": true,
           "showland": true,
           "subunitcolor": "white"
          },
          "hoverlabel": {
           "align": "left"
          },
          "hovermode": "closest",
          "mapbox": {
           "style": "light"
          },
          "paper_bgcolor": "white",
          "plot_bgcolor": "#E5ECF6",
          "polar": {
           "angularaxis": {
            "gridcolor": "white",
            "linecolor": "white",
            "ticks": ""
           },
           "bgcolor": "#E5ECF6",
           "radialaxis": {
            "gridcolor": "white",
            "linecolor": "white",
            "ticks": ""
           }
          },
          "scene": {
           "xaxis": {
            "backgroundcolor": "#E5ECF6",
            "gridcolor": "white",
            "gridwidth": 2,
            "linecolor": "white",
            "showbackground": true,
            "ticks": "",
            "zerolinecolor": "white"
           },
           "yaxis": {
            "backgroundcolor": "#E5ECF6",
            "gridcolor": "white",
            "gridwidth": 2,
            "linecolor": "white",
            "showbackground": true,
            "ticks": "",
            "zerolinecolor": "white"
           },
           "zaxis": {
            "backgroundcolor": "#E5ECF6",
            "gridcolor": "white",
            "gridwidth": 2,
            "linecolor": "white",
            "showbackground": true,
            "ticks": "",
            "zerolinecolor": "white"
           }
          },
          "shapedefaults": {
           "line": {
            "color": "#2a3f5f"
           }
          },
          "ternary": {
           "aaxis": {
            "gridcolor": "white",
            "linecolor": "white",
            "ticks": ""
           },
           "baxis": {
            "gridcolor": "white",
            "linecolor": "white",
            "ticks": ""
           },
           "bgcolor": "#E5ECF6",
           "caxis": {
            "gridcolor": "white",
            "linecolor": "white",
            "ticks": ""
           }
          },
          "title": {
           "x": 0.05
          },
          "xaxis": {
           "automargin": true,
           "gridcolor": "white",
           "linecolor": "white",
           "ticks": "",
           "title": {
            "standoff": 15
           },
           "zerolinecolor": "white",
           "zerolinewidth": 2
          },
          "yaxis": {
           "automargin": true,
           "gridcolor": "white",
           "linecolor": "white",
           "ticks": "",
           "title": {
            "standoff": 15
           },
           "zerolinecolor": "white",
           "zerolinewidth": 2
          }
         }
        },
        "title": {
         "text": "Total Revenue by Sales Method"
        },
        "xaxis": {
         "anchor": "y",
         "domain": [
          0,
          1
         ],
         "title": {
          "text": "Total Revenue  ($)"
         }
        },
        "yaxis": {
         "anchor": "x",
         "categoryarray": [
          "Email",
          "Email and call",
          "Call"
         ],
         "categoryorder": "array",
         "domain": [
          0,
          1
         ],
         "title": {
          "text": "Sales Method"
         }
        }
       }
      }
     },
     "metadata": {},
     "output_type": "display_data"
    }
   ],
   "source": [
    "import plotly.express as px\n",
    "\n",
    "\n",
    "revenue_methods = df.groupby('sales_method')['revenue'].sum()\n",
    "\n",
    "df_plot_revenue = revenue_methods.sort_values().reset_index()\n",
    "df_plot_revenue.columns = ['Sales Method', 'Total Revenue']\n",
    "\n",
    "fig = px.bar(df_plot_revenue, \n",
    "             x='Total Revenue', \n",
    "             y='Sales Method', \n",
    "             orientation='h', \n",
    "             color='Sales Method',\n",
    "             color_discrete_map={\n",
    "                \"Email\": \"blue\",\n",
    "                \"Call\": \"red\",\n",
    "                \"Email and call\": \"green\"},\n",
    "             text='Total Revenue')\n",
    "\n",
    "fig.update_traces(texttemplate='%{text:$,.2f}', textposition='inside')\n",
    "\n",
    "fig.update_layout(title_text=\"Total Revenue by Sales Method\",\n",
    "                  xaxis_title=\"Total Revenue  ($)\",\n",
    "                  yaxis_title=\"Sales Method\",\n",
    "                  showlegend=False)\n",
    "fig.show()\n"
   ]
  },
  {
   "cell_type": "markdown",
   "metadata": {},
   "source": [
    "#  B.-What does the spread of the revenue look like overall? And for each method?"
   ]
  },
  {
   "cell_type": "markdown",
   "metadata": {},
   "source": [
    "Income ranges vary between $0 and $238.32, with most of these concentrated around $50 and $125. Most transactions are likely to be retail sales (small individual purchases or Wholesale Clients vs. Retailers), but occasionally there are wholesale sales or sales to large customers who buy in large quantities, resulting in significantly higher revenues. Most transactions may involve cheaper products, but occasionally premium or high-margin products are sold. depending for the target. The presence of a positive bias suggests that although most transactions may not be very lucrative in terms of revenue, there is a segment of transactions that are extremely valuable to the company. It is essential to understand what drives those high-value transactions and consider strategies to increase their frequency or capitalize on them more effectively. There are some sales with significantly higher revenues, which could indicate atypical sales or customers buying in large quantities in a range of less than $500."
   ]
  },
  {
   "cell_type": "code",
   "execution_count": 221,
   "metadata": {},
   "outputs": [
    {
     "data": {
      "image/png": "[encoded data removed]",
      "text/plain": [
       "<Figure size 1400x700 with 1 Axes>"
      ]
     },
     "metadata": {},
     "output_type": "display_data"
    }
   ],
   "source": [
    "plt.figure(figsize=(14, 7))\n",
    "sns.histplot(df['revenue'], bins=50, kde=True, color='blue')\n",
    "plt.title('Revenue Distribution')\n",
    "plt.xlabel('Revenue ($)')\n",
    "plt.ylabel('Frecuencia')\n",
    "plt.show()"
   ]
  },
  {
   "cell_type": "code",
   "execution_count": 222,
   "metadata": {},
   "outputs": [],
   "source": [
    "df['log_revenue'] = np.log1p(df['revenue'])"
   ]
  },
  {
   "cell_type": "code",
   "execution_count": 223,
   "metadata": {},
   "outputs": [
    {
     "data": {
      "image/png": "[encoded data removed]",
      "text/plain": [
       "<Figure size 1400x700 with 1 Axes>"
      ]
     },
     "metadata": {},
     "output_type": "display_data"
    }
   ],
   "source": [
    "# eje_x= [-1, 0, 50, 100, 150, 200, 250]\n",
    "# eje_y = [0, 200, 400, 600, 800, 1000, 1200, 1400]\n",
    "plt.figure(figsize=(14, 7))\n",
    "sns.histplot(df['log_revenue'], kde=True, color='blue')\n",
    "plt.xlim(df['log_revenue'].max(), df['log_revenue'].min())  # Invierte el eje x\n",
    "plt.title('Revenue Distribution')\n",
    "plt.xlabel('Revenue ($)')\n",
    "plt.ylabel('Frecuencia')\n",
    "\n",
    "#plt.xlim(df['log_revenue'].max(), df['log_revenue'].min())  # Invierte el eje x\n",
    "plt.show()"
   ]
  },
  {
   "cell_type": "code",
   "execution_count": 224,
   "metadata": {},
   "outputs": [
    {
     "name": "stderr",
     "output_type": "stream",
     "text": [
      "/Users/italovega/opt/anaconda3/lib/python3.9/site-packages/seaborn/_decorators.py:36: FutureWarning:\n",
      "\n",
      "Pass the following variable as a keyword arg: x. From version 0.12, the only valid positional argument will be `data`, and passing other arguments without an explicit keyword will result in an error or misinterpretation.\n",
      "\n"
     ]
    },
    {
     "data": {
      "image/png": "[encoded data removed]",
      "text/plain": [
       "<Figure size 1200x700 with 1 Axes>"
      ]
     },
     "metadata": {},
     "output_type": "display_data"
    }
   ],
   "source": [
    "percentile_95 = df['revenue'].quantile(0.95)\n",
    "data_95_filtered = df[df['revenue'] <= percentile_95]\n",
    "\n",
    "\n",
    "\n",
    "plt.figure(figsize=(12, 7))\n",
    "sns.boxplot(data_95_filtered['revenue'], color='lightseagreen')\n",
    "plt.title('Income Distribution by Method')\n",
    "plt.xlabel('Revenue ($)')\n",
    "plt.grid(True, axis='y')\n",
    "plt.show()"
   ]
  },
  {
   "cell_type": "code",
   "execution_count": 225,
   "metadata": {},
   "outputs": [
    {
     "name": "stderr",
     "output_type": "stream",
     "text": [
      "/Users/italovega/opt/anaconda3/lib/python3.9/site-packages/seaborn/_decorators.py:36: FutureWarning:\n",
      "\n",
      "Pass the following variable as a keyword arg: x. From version 0.12, the only valid positional argument will be `data`, and passing other arguments without an explicit keyword will result in an error or misinterpretation.\n",
      "\n"
     ]
    },
    {
     "data": {
      "image/png": "[encoded data removed]",
      "text/plain": [
       "<Figure size 1200x700 with 1 Axes>"
      ]
     },
     "metadata": {},
     "output_type": "display_data"
    }
   ],
   "source": [
    "plt.figure(figsize=(12, 7))\n",
    "sns.boxplot(df['log_revenue'], color='lightseagreen')\n",
    "plt.xlim(df['log_revenue'].max(), df['log_revenue'].min())  # Invierte el eje x\n",
    "plt.title('Income Distribution by Method')\n",
    "plt.xlabel('Revenue ($)')\n",
    "plt.grid(True, axis='y')\n",
    "plt.show()"
   ]
  },
  {
   "cell_type": "markdown",
   "metadata": {},
   "source": [
    "When analyzing the visualization we noticed that the \"Email\" method has a relatively low median revenue compared to the other two methods. However, it has some extremely high outliers that generate great sales compared to its other two alternatives. Emphasizing that this in turn requires a lower execution cost.\n",
    "The \"Call\" method has a higher median income than the \"Email\" method, but lower than the \"Email and Call\" method, this may be due to the fact that this methodology falls on the population that has not made or is in the transition. to digitalization, this may only be the fraction of older users (which will be analyzed later).\n",
    "The \"Email and Call\" method has the highest median revenue among the three methods, suggesting that this method could be more effective in terms of average revenue per sale, and may be one of the most viable options if distribution is considered. from income."
   ]
  },
  {
   "cell_type": "code",
   "execution_count": 226,
   "metadata": {},
   "outputs": [
    {
     "data": {
      "text/plain": [
       "4773     1\n",
       "6681     1\n",
       "13244    1\n",
       "6680     1\n",
       "6679     1\n",
       "        ..\n",
       "13130    6\n",
       "3296     6\n",
       "1694     6\n",
       "1675     6\n",
       "4029     6\n",
       "Name: week, Length: 15000, dtype: int64"
      ]
     },
     "execution_count": 226,
     "metadata": {},
     "output_type": "execute_result"
    }
   ],
   "source": [
    "df[\"week\"]"
   ]
  },
  {
   "cell_type": "code",
   "execution_count": 227,
   "metadata": {},
   "outputs": [
    {
     "data": {
      "text/html": [
       "<div>\n",
       "<style scoped>\n",
       "    .dataframe tbody tr th:only-of-type {\n",
       "        vertical-align: middle;\n",
       "    }\n",
       "\n",
       "    .dataframe tbody tr th {\n",
       "        vertical-align: top;\n",
       "    }\n",
       "\n",
       "    .dataframe thead th {\n",
       "        text-align: right;\n",
       "    }\n",
       "</style>\n",
       "<table border=\"1\" class=\"dataframe\">\n",
       "  <thead>\n",
       "    <tr style=\"text-align: right;\">\n",
       "      <th></th>\n",
       "      <th>week</th>\n",
       "      <th>sales_method</th>\n",
       "      <th>customer_id</th>\n",
       "      <th>nb_sold</th>\n",
       "      <th>revenue</th>\n",
       "      <th>years_as_customer</th>\n",
       "      <th>nb_site_visits</th>\n",
       "      <th>state</th>\n",
       "      <th>log_revenue</th>\n",
       "    </tr>\n",
       "  </thead>\n",
       "  <tbody>\n",
       "    <tr>\n",
       "      <th>4773</th>\n",
       "      <td>1</td>\n",
       "      <td>Email</td>\n",
       "      <td>75b89ff4-0f52-48e7-9656-3a40a4bfc99d</td>\n",
       "      <td>9</td>\n",
       "      <td>94.81</td>\n",
       "      <td>0</td>\n",
       "      <td>24</td>\n",
       "      <td>California</td>\n",
       "      <td>4.562367</td>\n",
       "    </tr>\n",
       "    <tr>\n",
       "      <th>6681</th>\n",
       "      <td>1</td>\n",
       "      <td>Email</td>\n",
       "      <td>a16f3b76-d4bd-478e-a832-8e2b6603c342</td>\n",
       "      <td>9</td>\n",
       "      <td>87.19</td>\n",
       "      <td>2</td>\n",
       "      <td>33</td>\n",
       "      <td>Florida</td>\n",
       "      <td>4.479494</td>\n",
       "    </tr>\n",
       "    <tr>\n",
       "      <th>13244</th>\n",
       "      <td>1</td>\n",
       "      <td>Email</td>\n",
       "      <td>ecd7b284-2806-4e5b-91b6-3b04b438ea66</td>\n",
       "      <td>9</td>\n",
       "      <td>86.81</td>\n",
       "      <td>1</td>\n",
       "      <td>26</td>\n",
       "      <td>Texas</td>\n",
       "      <td>4.475175</td>\n",
       "    </tr>\n",
       "    <tr>\n",
       "      <th>6680</th>\n",
       "      <td>1</td>\n",
       "      <td>Email</td>\n",
       "      <td>3de5a780-83ed-4ad7-b275-e7d13e053723</td>\n",
       "      <td>8</td>\n",
       "      <td>81.38</td>\n",
       "      <td>16</td>\n",
       "      <td>22</td>\n",
       "      <td>Georgia</td>\n",
       "      <td>4.411343</td>\n",
       "    </tr>\n",
       "    <tr>\n",
       "      <th>6679</th>\n",
       "      <td>1</td>\n",
       "      <td>Call</td>\n",
       "      <td>68c87c36-5b16-4eab-8735-80030b20c99d</td>\n",
       "      <td>8</td>\n",
       "      <td>40.06</td>\n",
       "      <td>6</td>\n",
       "      <td>22</td>\n",
       "      <td>Iowa</td>\n",
       "      <td>3.715034</td>\n",
       "    </tr>\n",
       "  </tbody>\n",
       "</table>\n",
       "</div>"
      ],
      "text/plain": [
       "       week sales_method                           customer_id  nb_sold  \\\n",
       "4773      1        Email  75b89ff4-0f52-48e7-9656-3a40a4bfc99d        9   \n",
       "6681      1        Email  a16f3b76-d4bd-478e-a832-8e2b6603c342        9   \n",
       "13244     1        Email  ecd7b284-2806-4e5b-91b6-3b04b438ea66        9   \n",
       "6680      1        Email  3de5a780-83ed-4ad7-b275-e7d13e053723        8   \n",
       "6679      1         Call  68c87c36-5b16-4eab-8735-80030b20c99d        8   \n",
       "\n",
       "       revenue  years_as_customer  nb_site_visits       state  log_revenue  \n",
       "4773     94.81                  0              24  California     4.562367  \n",
       "6681     87.19                  2              33     Florida     4.479494  \n",
       "13244    86.81                  1              26       Texas     4.475175  \n",
       "6680     81.38                 16              22     Georgia     4.411343  \n",
       "6679     40.06                  6              22        Iowa     3.715034  "
      ]
     },
     "execution_count": 227,
     "metadata": {},
     "output_type": "execute_result"
    }
   ],
   "source": [
    "df.head()"
   ]
  },
  {
   "cell_type": "markdown",
   "metadata": {},
   "source": [
    "# C.-Was there any difference in revenue over time for each of the methods?"
   ]
  },
  {
   "cell_type": "markdown",
   "metadata": {},
   "source": [
    "By breaking down the three methodologies, you have a general idea of the behavior over time, which can affect the result if taken separately from the context, affecting the final decision.\n",
    "\n",
    "- \"Email\" method, a generally stable trend is observed with some fluctuations. The email method shows a slight increase in sales in the first few weeks and then a decrease towards week 6.\n",
    "- \"Call\" method shows some variability, but tends to have higher peaks compared to \"Email.\". Sales through calls show a constant increase from week 1 to week 3 and then stabilize towards week 6.\n",
    "- \"Email + Call\" has notable variability and tends to generate higher revenue in some specific weeks. This method shows an ascending pattern from week 1 to week 3, after which there is a slight decrease, but then it increases again towards week 6.\n",
    "\n",
    "\n",
    "The combination of email and calls seems to be the most effective method in terms of total revenue. However, it is important to also consider the costs associated with each method. For example, the call method and the combined method require more time and effort from the team, which can increase costs"
   ]
  },
  {
   "cell_type": "code",
   "execution_count": 228,
   "metadata": {},
   "outputs": [
    {
     "data": {
      "image/png": "[encoded data removed]",
      "text/plain": [
       "<Figure size 1400x700 with 1 Axes>"
      ]
     },
     "metadata": {},
     "output_type": "display_data"
    },
    {
     "data": {
      "image/png": "[encoded data removed]",
      "text/plain": [
       "<Figure size 1200x600 with 1 Axes>"
      ]
     },
     "metadata": {},
     "output_type": "display_data"
    }
   ],
   "source": [
    "percentile_95 = df['revenue'].quantile(0.95)\n",
    "data_filtered = df[df['revenue'] <= percentile_95]\n",
    "\n",
    "plt.figure(figsize=(14, 7))\n",
    "sns.boxplot(data=data_filtered, x='sales_method', y='revenue')\n",
    "plt.title('Income Distribution by Method')\n",
    "plt.xlabel('Método de Venta')\n",
    "plt.ylabel('Ingresos ($)')\n",
    "plt.show()\n",
    "\n",
    "\n",
    "\n",
    "plt.figure(figsize=(12, 6))\n",
    "sns.boxplot(x='sales_method', y='log_revenue', data=df)\n",
    "plt.title('Income Distribution by Method(smooth Log)')\n",
    "plt.xlabel('Method of Sell')\n",
    "plt.ylim(3, 6)\n",
    "plt.ylabel('Income ($)')\n",
    "plt.show()"
   ]
  },
  {
   "cell_type": "code",
   "execution_count": 229,
   "metadata": {},
   "outputs": [
    {
     "data": {
      "image/png": "[encoded data removed]",
      "text/plain": [
       "<Figure size 1400x700 with 1 Axes>"
      ]
     },
     "metadata": {},
     "output_type": "display_data"
    }
   ],
   "source": [
    "\n",
    "plt.figure(figsize=(14, 7))\n",
    "sns.boxplot(data=data_filtered, x='sales_method', y='revenue')\n",
    "plt.title('Distribución de Ingresos por Método de Venta')\n",
    "plt.xlabel('Método de Venta')\n",
    "plt.ylabel('Ingresos ($)')\n",
    "plt.show()"
   ]
  },
  {
   "cell_type": "code",
   "execution_count": 230,
   "metadata": {},
   "outputs": [
    {
     "data": {
      "text/plain": [
       "4773     4.551875\n",
       "6681     4.468090\n",
       "13244    4.463722\n",
       "6680     4.399130\n",
       "6679     3.690378\n",
       "Name: log_revenue, dtype: float64"
      ]
     },
     "execution_count": 230,
     "metadata": {},
     "output_type": "execute_result"
    }
   ],
   "source": [
    "\n",
    "df['revenue'] = df['revenue'].replace(0, 0.01)\n",
    "\n",
    "df['log_revenue'] = np.log(df['revenue'])\n",
    "\n",
    "\n",
    "df_transformado_revenue = df['log_revenue'].head()\n",
    "df_transformado_revenue"
   ]
  },
  {
   "cell_type": "code",
   "execution_count": 231,
   "metadata": {},
   "outputs": [
    {
     "data": {
      "image/png": "[encoded data removed]",
      "text/plain": [
       "<Figure size 1500x800 with 1 Axes>"
      ]
     },
     "metadata": {},
     "output_type": "display_data"
    }
   ],
   "source": [
    "# Crear un gráfico de líneas para mostrar la tendencia de los ingresos por semana y por método de venta\n",
    "plt.figure(figsize=(15, 8))\n",
    "sns.lineplot(x='week', y='log_revenue', hue='sales_method', data=df, ci=None)\n",
    "plt.title('Revenue over the Time by Method)')\n",
    "plt.xlabel('Semana')\n",
    "plt.ylabel('Revenues')\n",
    "plt.legend(title='Método de Venta')\n",
    "plt.show()"
   ]
  },
  {
   "cell_type": "code",
   "execution_count": 242,
   "metadata": {},
   "outputs": [
    {
     "name": "stderr",
     "output_type": "stream",
     "text": [
      "/Users/italovega/opt/anaconda3/lib/python3.9/site-packages/pandas/core/arraylike.py:397: RuntimeWarning:\n",
      "\n",
      "divide by zero encountered in log\n",
      "\n"
     ]
    }
   ],
   "source": [
    "\n",
    "df['log_years_as_customer'] = np.log(df['years_as_customer'])\n",
    "df['log_nb_site_visits'] = np.log(df['nb_site_visits'])"
   ]
  },
  {
   "cell_type": "markdown",
   "metadata": {},
   "source": [
    "# D.-Based on the data, which method would you recommend we continue to use? Some of these methods take more time from the team so they may not be the best for us to use if the results are similar."
   ]
  },
  {
   "cell_type": "markdown",
   "metadata": {},
   "source": [
    "Based on the analysis of the average sales of the 3 methods used, I would recommend focusing on the email methodology, which shows higher income in the 6 weeks of evaluation, even surpassing the sum of its two alternatives, reaching $672,317.83. The other two methods reach a total of only $635,820.18, meaning in many cases a greater investment of time by employees and therefore a greater expense of man hours.\n",
    "Without leaving aside the fact that these are influenced by new times and digital connectivity, as there is greater coverage and reach of users with technology.\n",
    "In parallel to the above and as a way to promote customers who can generate the highest percentage of purchases by quantity (not by sales), this must be worked together with a marketing strategy based on 2 pillars which we will detail below. .\n",
    "- Cross Sellin\n",
    "- Up Selling\n"
   ]
  },
  {
   "cell_type": "code",
   "execution_count": 243,
   "metadata": {},
   "outputs": [
    {
     "data": {
      "text/plain": [
       "sales_method\n",
       "Call              227565.30\n",
       "Email             672323.27\n",
       "Email and call    408260.18\n",
       "Name: revenue, dtype: float64"
      ]
     },
     "execution_count": 243,
     "metadata": {},
     "output_type": "execute_result"
    }
   ],
   "source": [
    "revenue_methods = df.groupby('sales_method')['revenue'].sum()\n",
    "revenue_methods"
   ]
  },
  {
   "cell_type": "code",
   "execution_count": 244,
   "metadata": {},
   "outputs": [
    {
     "data": {
      "text/plain": [
       "635820.1799999999"
      ]
     },
     "execution_count": 244,
     "metadata": {},
     "output_type": "execute_result"
    }
   ],
   "source": [
    "suma = 227563.49 + 408256.69\n",
    "suma"
   ]
  },
  {
   "cell_type": "code",
   "execution_count": 245,
   "metadata": {},
   "outputs": [
    {
     "name": "stdout",
     "output_type": "stream",
     "text": [
      "sales_method\n",
      "Call              227565.30\n",
      "Email             672323.27\n",
      "Email and call    408260.18\n",
      "Name: revenue, dtype: float64\n",
      "\n",
      "\n",
      "sales_method\n",
      "Call              4962\n",
      "Email             7466\n",
      "Email and call    2572\n",
      "Name: customer_id, dtype: int64\n"
     ]
    }
   ],
   "source": [
    "\n",
    "total_revenue_per_method = df.groupby('sales_method')['revenue'].sum()\n",
    "total_customers_per_method = df.groupby('sales_method')['customer_id'].nunique()\n",
    "\n",
    "print(total_revenue_per_method)\n",
    "print(\"\\n\")\n",
    "print(total_customers_per_method)\n",
    "\n",
    "#avg_revenue_per_customer = total_revenue_per_method / total_customers_per_method\n",
    "\n",
    "#avg_revenue_per_customer.sort_values(ascending=False)\n"
   ]
  },
  {
   "cell_type": "markdown",
   "metadata": {},
   "source": [
    "# Final Estrategy"
   ]
  },
  {
   "cell_type": "markdown",
   "metadata": {},
   "source": [
    "Based on what was analyzed with their respective analyzes obtained and the context that is proposed, a combined strategy is proposed. It is on the one hand made up of three pillars to enhance existing and new products.(The above depending on the available equipment and context in which this will be carried out.)\n",
    "\n",
    "In the analysis of the average sales of the 3 methods used, I would recommen focusing on the email , which show as a result having the greatest amount of income for these new products in the 6 weeks of evaluation. Without leaving aside the fact that these are influenced by new times and digital connectivity, as there is greater coverage and reach using these media. IN parallel to the above and as a way to promote clients who can generate the highest percentage of purchases by quantity (not by sales), this must be worked together with a marketing strategy based on 2 pillars which we will detail below.\n",
    "\n",
    "\n",
    "- Cross Sellin: sell line of office stationery products from the old line, at a lower price, offering new products of a nature related to enabling our customers to be more creative, optimizing margins to obtain profit.\n",
    "- Up Selling: offer products of the same type as those already sold but of better quality. Alluding to the new line (with a higher price).\n",
    "\n",
    "\n",
    "It is recommended to Persist with the Email method but with Optimization. This considering that Although email sales have shown a decreasing trend, it is still the method that generated the highest income. It would be wise to investigate the reason for the decline and optimize your email marketing strategy. This could include further segmenting customers, personalizing emails and specific calls (Assessing the Stability of Calls in the analyzed time range), testing different types of content, or even increasing the frequency of emails or analyzing response patterns and distribution of time of sending information.\n",
    "\n",
    "When analyzing Customer Segmentation, it was observed that the highest concentration of sales, as expected, was from new customers (who may be from lower age ranges: young people), with a greater technological preference. This will be shown below.\n",
    "\n",
    "The breakdown of sales methods used by the 100 oldest customers:\n",
    "\n",
    "- Email: 58 clients\n",
    "- Call: 33 clients\n",
    "- Email and call: 9 clients\n",
    "\n",
    "The above reinforces our previous analysis that the best and most effective form of advertising to generate income is email. Since there may be a bias to think that customer loyalty generates greater sales, which in this case is interpreted as newer customers buying more products (being more accessible to technology)."
   ]
  },
  {
   "cell_type": "code",
   "execution_count": 246,
   "metadata": {},
   "outputs": [
    {
     "data": {
      "image/png": "[encoded data removed]",
      "text/plain": [
       "<Figure size 1400x700 with 1 Axes>"
      ]
     },
     "metadata": {},
     "output_type": "display_data"
    }
   ],
   "source": [
    "top_100 = df.groupby('customer_id').agg({\n",
    "    'revenue': 'sum',\n",
    "    'years_as_customer': 'first',\n",
    "    'sales_method': 'first'\n",
    "}).nlargest(100, 'revenue')\n",
    "\n",
    "\n",
    "\n",
    "plt.figure(figsize=(14, 7))\n",
    "sns.scatterplot(data=top_100, x='years_as_customer', y='revenue', hue='sales_method', palette='flare', s=100, alpha=0.7)\n",
    "\n",
    "plt.title('Income by years as a Client for: 100 Clients that generate the highest Incomes')\n",
    "plt.xlabel('Seniority of clients')\n",
    "plt.ylabel('Total Incomes ($)')\n",
    "plt.legend(title='Method of Sell', bbox_to_anchor=(1.05, 1), loc='upper left')\n",
    "\n",
    "plt.tight_layout()\n",
    "plt.show()\n"
   ]
  },
  {
   "cell_type": "code",
   "execution_count": 247,
   "metadata": {},
   "outputs": [
    {
     "data": {
      "text/plain": [
       "(124.22554525162313, 0.0018216776908046297)"
      ]
     },
     "execution_count": 247,
     "metadata": {},
     "output_type": "execute_result"
    }
   ],
   "source": [
    "from scipy.stats import chi2_contingency\n",
    "\n",
    "contingency_table = pd.crosstab(df['sales_method'], df['years_as_customer'])\n",
    "chi2_stat, p_val, dof, expected = chi2_contingency(contingency_table)\n",
    "chi2_stat, p_val\n"
   ]
  },
  {
   "cell_type": "markdown",
   "metadata": {},
   "source": [
    "H0:There is no correlation between the seniority of the clients and the sales method used.\n",
    "\n",
    "H1:There is a correlation between the seniority of the clients and the sales method used."
   ]
  },
  {
   "cell_type": "markdown",
   "metadata": {},
   "source": [
    "In this case, since P=0.00182  is less than 0.05, we would have sufficient evidence to reject H0 and conclude that there is a correlation between the age of the customers and the sales method used.\n",
    "The \"p\" value indicates that there is a significant relationship between 'sales_method' and 'years_as_customer'. That is, the sales method is not independent of the years that someone has been a customer. There is sufficiente evidence to to affirm that exist a signifficant relationship between the sales methods and the customer (group) and the clients seniority. "
   ]
  },
  {
   "cell_type": "code",
   "execution_count": 248,
   "metadata": {},
   "outputs": [
    {
     "data": {
      "image/png": "[encoded data removed]",
      "text/plain": [
       "<Figure size 1000x600 with 1 Axes>"
      ]
     },
     "metadata": {},
     "output_type": "display_data"
    }
   ],
   "source": [
    "normalized_table = contingency_table.div(contingency_table.sum(axis=1), axis=0)\n",
    "ax = normalized_table.T.plot(kind='bar', stacked=True, figsize=(10, 6), colormap='viridis')\n",
    "\n",
    "plt.title('Distribution of Years as Customer by Sales Method')\n",
    "plt.xlabel('Years as Customer')\n",
    "plt.ylabel('Proportion of Customers')\n",
    "plt.xticks(rotation=0)\n",
    "plt.legend(title='Sales Method', bbox_to_anchor=(1.05, 1), loc='upper left')\n",
    "\n",
    "plt.tight_layout()\n",
    "plt.show()\n"
   ]
  },
  {
   "cell_type": "markdown",
   "metadata": {},
   "source": [
    "# RECOMENDATONS"
   ]
  },
  {
   "cell_type": "markdown",
   "metadata": {},
   "source": [
    "In summary, although the Email method has proven to be the most lucrative so far, it is essential to consider the trends, operational cost and efficiency of each method when deciding on future strategies. Combining data analysis with direct customer feedback.\n",
    "Some customers, especially older ones, may prefer traditional methods like calls, while others may respond better to emails."
   ]
  },
  {
   "cell_type": "code",
   "execution_count": 249,
   "metadata": {},
   "outputs": [
    {
     "data": {
      "text/html": [
       "<div>\n",
       "<style scoped>\n",
       "    .dataframe tbody tr th:only-of-type {\n",
       "        vertical-align: middle;\n",
       "    }\n",
       "\n",
       "    .dataframe tbody tr th {\n",
       "        vertical-align: top;\n",
       "    }\n",
       "\n",
       "    .dataframe thead th {\n",
       "        text-align: right;\n",
       "    }\n",
       "</style>\n",
       "<table border=\"1\" class=\"dataframe\">\n",
       "  <thead>\n",
       "    <tr style=\"text-align: right;\">\n",
       "      <th></th>\n",
       "      <th>week</th>\n",
       "      <th>sales_method</th>\n",
       "      <th>customer_id</th>\n",
       "      <th>nb_sold</th>\n",
       "      <th>revenue</th>\n",
       "      <th>years_as_customer</th>\n",
       "      <th>nb_site_visits</th>\n",
       "      <th>state</th>\n",
       "      <th>log_revenue</th>\n",
       "      <th>log_years_as_customer</th>\n",
       "      <th>log_nb_site_visits</th>\n",
       "    </tr>\n",
       "  </thead>\n",
       "  <tbody>\n",
       "    <tr>\n",
       "      <th>4773</th>\n",
       "      <td>1</td>\n",
       "      <td>Email</td>\n",
       "      <td>75b89ff4-0f52-48e7-9656-3a40a4bfc99d</td>\n",
       "      <td>9</td>\n",
       "      <td>94.81</td>\n",
       "      <td>0</td>\n",
       "      <td>24</td>\n",
       "      <td>California</td>\n",
       "      <td>4.551875</td>\n",
       "      <td>-inf</td>\n",
       "      <td>3.178054</td>\n",
       "    </tr>\n",
       "    <tr>\n",
       "      <th>6681</th>\n",
       "      <td>1</td>\n",
       "      <td>Email</td>\n",
       "      <td>a16f3b76-d4bd-478e-a832-8e2b6603c342</td>\n",
       "      <td>9</td>\n",
       "      <td>87.19</td>\n",
       "      <td>2</td>\n",
       "      <td>33</td>\n",
       "      <td>Florida</td>\n",
       "      <td>4.468090</td>\n",
       "      <td>0.693147</td>\n",
       "      <td>3.496508</td>\n",
       "    </tr>\n",
       "    <tr>\n",
       "      <th>13244</th>\n",
       "      <td>1</td>\n",
       "      <td>Email</td>\n",
       "      <td>ecd7b284-2806-4e5b-91b6-3b04b438ea66</td>\n",
       "      <td>9</td>\n",
       "      <td>86.81</td>\n",
       "      <td>1</td>\n",
       "      <td>26</td>\n",
       "      <td>Texas</td>\n",
       "      <td>4.463722</td>\n",
       "      <td>0.000000</td>\n",
       "      <td>3.258097</td>\n",
       "    </tr>\n",
       "    <tr>\n",
       "      <th>6680</th>\n",
       "      <td>1</td>\n",
       "      <td>Email</td>\n",
       "      <td>3de5a780-83ed-4ad7-b275-e7d13e053723</td>\n",
       "      <td>8</td>\n",
       "      <td>81.38</td>\n",
       "      <td>16</td>\n",
       "      <td>22</td>\n",
       "      <td>Georgia</td>\n",
       "      <td>4.399130</td>\n",
       "      <td>2.772589</td>\n",
       "      <td>3.091042</td>\n",
       "    </tr>\n",
       "    <tr>\n",
       "      <th>6679</th>\n",
       "      <td>1</td>\n",
       "      <td>Call</td>\n",
       "      <td>68c87c36-5b16-4eab-8735-80030b20c99d</td>\n",
       "      <td>8</td>\n",
       "      <td>40.06</td>\n",
       "      <td>6</td>\n",
       "      <td>22</td>\n",
       "      <td>Iowa</td>\n",
       "      <td>3.690378</td>\n",
       "      <td>1.791759</td>\n",
       "      <td>3.091042</td>\n",
       "    </tr>\n",
       "  </tbody>\n",
       "</table>\n",
       "</div>"
      ],
      "text/plain": [
       "       week sales_method                           customer_id  nb_sold  \\\n",
       "4773      1        Email  75b89ff4-0f52-48e7-9656-3a40a4bfc99d        9   \n",
       "6681      1        Email  a16f3b76-d4bd-478e-a832-8e2b6603c342        9   \n",
       "13244     1        Email  ecd7b284-2806-4e5b-91b6-3b04b438ea66        9   \n",
       "6680      1        Email  3de5a780-83ed-4ad7-b275-e7d13e053723        8   \n",
       "6679      1         Call  68c87c36-5b16-4eab-8735-80030b20c99d        8   \n",
       "\n",
       "       revenue  years_as_customer  nb_site_visits       state  log_revenue  \\\n",
       "4773     94.81                  0              24  California     4.551875   \n",
       "6681     87.19                  2              33     Florida     4.468090   \n",
       "13244    86.81                  1              26       Texas     4.463722   \n",
       "6680     81.38                 16              22     Georgia     4.399130   \n",
       "6679     40.06                  6              22        Iowa     3.690378   \n",
       "\n",
       "       log_years_as_customer  log_nb_site_visits  \n",
       "4773                    -inf            3.178054  \n",
       "6681                0.693147            3.496508  \n",
       "13244               0.000000            3.258097  \n",
       "6680                2.772589            3.091042  \n",
       "6679                1.791759            3.091042  "
      ]
     },
     "execution_count": 249,
     "metadata": {},
     "output_type": "execute_result"
    }
   ],
   "source": [
    "df.head()"
   ]
  },
  {
   "cell_type": "code",
   "execution_count": 250,
   "metadata": {},
   "outputs": [
    {
     "data": {
      "text/plain": [
       "week                     0\n",
       "sales_method             0\n",
       "customer_id              0\n",
       "nb_sold                  0\n",
       "revenue                  0\n",
       "years_as_customer        0\n",
       "nb_site_visits           0\n",
       "state                    0\n",
       "log_revenue              0\n",
       "log_years_as_customer    0\n",
       "log_nb_site_visits       0\n",
       "dtype: int64"
      ]
     },
     "execution_count": 250,
     "metadata": {},
     "output_type": "execute_result"
    }
   ],
   "source": [
    "df.isna().sum()"
   ]
  },
  {
   "cell_type": "code",
   "execution_count": null,
   "metadata": {},
   "outputs": [],
   "source": []
  },
  {
   "cell_type": "code",
   "execution_count": null,
   "metadata": {},
   "outputs": [],
   "source": []
  },
  {
   "cell_type": "code",
   "execution_count": null,
   "metadata": {},
   "outputs": [],
   "source": []
  },
  {
   "cell_type": "code",
   "execution_count": null,
   "metadata": {},
   "outputs": [],
   "source": []
  }
 ],
 "metadata": {
  "kernelspec": {
   "display_name": "base",
   "language": "python",
   "name": "python3"
  },
  "language_info": {
   "codemirror_mode": {
    "name": "ipython",
    "version": 3
   },
   "file_extension": ".py",
   "mimetype": "text/x-python",
   "name": "python",
   "nbconvert_exporter": "python",
   "pygments_lexer": "ipython3",
   "version": "3.9.13"
  }
 },
 "nbformat": 4,
 "nbformat_minor": 2
}
