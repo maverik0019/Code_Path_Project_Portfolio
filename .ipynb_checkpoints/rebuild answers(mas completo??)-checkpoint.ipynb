{
 "cells": [
  {
   "cell_type": "code",
   "execution_count": 1,
   "id": "744d3f58",
   "metadata": {},
   "outputs": [
    {
     "data": {
      "text/html": [
       "<div>\n",
       "<style scoped>\n",
       "    .dataframe tbody tr th:only-of-type {\n",
       "        vertical-align: middle;\n",
       "    }\n",
       "\n",
       "    .dataframe tbody tr th {\n",
       "        vertical-align: top;\n",
       "    }\n",
       "\n",
       "    .dataframe thead th {\n",
       "        text-align: right;\n",
       "    }\n",
       "</style>\n",
       "<table border=\"1\" class=\"dataframe\">\n",
       "  <thead>\n",
       "    <tr style=\"text-align: right;\">\n",
       "      <th></th>\n",
       "      <th>Region</th>\n",
       "      <th>Place name</th>\n",
       "      <th>Place type</th>\n",
       "      <th>Rating</th>\n",
       "      <th>Reviews</th>\n",
       "      <th>Price</th>\n",
       "      <th>Delivery option</th>\n",
       "      <th>Dine in option</th>\n",
       "      <th>Takeout option</th>\n",
       "    </tr>\n",
       "  </thead>\n",
       "  <tbody>\n",
       "    <tr>\n",
       "      <th>0</th>\n",
       "      <td>C</td>\n",
       "      <td>Dim Kavu</td>\n",
       "      <td>Others</td>\n",
       "      <td>4.6</td>\n",
       "      <td>206.0</td>\n",
       "      <td>$$</td>\n",
       "      <td>False</td>\n",
       "      <td>NaN</td>\n",
       "      <td>NaN</td>\n",
       "    </tr>\n",
       "    <tr>\n",
       "      <th>1</th>\n",
       "      <td>C</td>\n",
       "      <td>Коферум</td>\n",
       "      <td>Cafe</td>\n",
       "      <td>5.0</td>\n",
       "      <td>24.0</td>\n",
       "      <td>$$</td>\n",
       "      <td>False</td>\n",
       "      <td>NaN</td>\n",
       "      <td>True</td>\n",
       "    </tr>\n",
       "    <tr>\n",
       "      <th>2</th>\n",
       "      <td>C</td>\n",
       "      <td>Кофейня Світ Чаю</td>\n",
       "      <td>Coffee shop</td>\n",
       "      <td>5.0</td>\n",
       "      <td>11.0</td>\n",
       "      <td>$$</td>\n",
       "      <td>False</td>\n",
       "      <td>NaN</td>\n",
       "      <td>True</td>\n",
       "    </tr>\n",
       "    <tr>\n",
       "      <th>3</th>\n",
       "      <td>C</td>\n",
       "      <td>Кофейня Starcoff</td>\n",
       "      <td>Coffee shop</td>\n",
       "      <td>4.4</td>\n",
       "      <td>331.0</td>\n",
       "      <td>$$</td>\n",
       "      <td>False</td>\n",
       "      <td>True</td>\n",
       "      <td>True</td>\n",
       "    </tr>\n",
       "    <tr>\n",
       "      <th>4</th>\n",
       "      <td>C</td>\n",
       "      <td>Кофейня \"Friend Zone\"</td>\n",
       "      <td>Coffee shop</td>\n",
       "      <td>5.0</td>\n",
       "      <td>12.0</td>\n",
       "      <td>$$</td>\n",
       "      <td>False</td>\n",
       "      <td>True</td>\n",
       "      <td>True</td>\n",
       "    </tr>\n",
       "  </tbody>\n",
       "</table>\n",
       "</div>"
      ],
      "text/plain": [
       "  Region             Place name   Place type  Rating  Reviews Price  \\\n",
       "0      C               Dim Kavu       Others     4.6    206.0    $$   \n",
       "1      C                Коферум         Cafe     5.0     24.0    $$   \n",
       "2      C       Кофейня Світ Чаю  Coffee shop     5.0     11.0    $$   \n",
       "3      C       Кофейня Starcoff  Coffee shop     4.4    331.0    $$   \n",
       "4      C  Кофейня \"Friend Zone\"  Coffee shop     5.0     12.0    $$   \n",
       "\n",
       "   Delivery option Dine in option Takeout option  \n",
       "0            False            NaN            NaN  \n",
       "1            False            NaN           True  \n",
       "2            False            NaN           True  \n",
       "3            False           True           True  \n",
       "4            False           True           True  "
      ]
     },
     "execution_count": 1,
     "metadata": {},
     "output_type": "execute_result"
    }
   ],
   "source": [
    "import pandas as pd\n",
    "import numpy as np\n",
    "\n",
    "caffe = pd.read_csv('https://s3.amazonaws.com/talent-assets.datacamp.com/coffee.csv')\n",
    "\n",
    "caffe.head(5)"
   ]
  },
  {
   "cell_type": "code",
   "execution_count": 3,
   "id": "98bbb271",
   "metadata": {},
   "outputs": [],
   "source": [
    "#replace Missing values should be replaced with 0. RATING\n",
    "caffe['Rating'] = caffe['Rating'].fillna(0)   "
   ]
  },
  {
   "cell_type": "code",
   "execution_count": 4,
   "id": "2e83f540",
   "metadata": {},
   "outputs": [
    {
     "name": "stdout",
     "output_type": "stream",
     "text": [
      "622.4949494949495\n"
     ]
    }
   ],
   "source": [
    "#replace Missing values should be replaced with the overall median.REVIEWS\n",
    "\n",
    "import pandas as pd\n",
    "import numpy as np\n",
    "\n",
    "caffe = pd.read_csv('https://s3.amazonaws.com/talent-assets.datacamp.com/coffee.csv')\n",
    "caffe2 = caffe[\"Reviews\"].mean()\n",
    "print(caffe2)\n"
   ]
  },
  {
   "cell_type": "code",
   "execution_count": 5,
   "id": "30e6f575",
   "metadata": {},
   "outputs": [
    {
     "data": {
      "text/html": [
       "<div>\n",
       "<style scoped>\n",
       "    .dataframe tbody tr th:only-of-type {\n",
       "        vertical-align: middle;\n",
       "    }\n",
       "\n",
       "    .dataframe tbody tr th {\n",
       "        vertical-align: top;\n",
       "    }\n",
       "\n",
       "    .dataframe thead th {\n",
       "        text-align: right;\n",
       "    }\n",
       "</style>\n",
       "<table border=\"1\" class=\"dataframe\">\n",
       "  <thead>\n",
       "    <tr style=\"text-align: right;\">\n",
       "      <th></th>\n",
       "      <th>Region</th>\n",
       "      <th>Place name</th>\n",
       "      <th>Place type</th>\n",
       "      <th>Rating</th>\n",
       "      <th>Reviews</th>\n",
       "      <th>Price</th>\n",
       "      <th>Delivery option</th>\n",
       "      <th>Dine in option</th>\n",
       "      <th>Takeout option</th>\n",
       "    </tr>\n",
       "  </thead>\n",
       "  <tbody>\n",
       "    <tr>\n",
       "      <th>0</th>\n",
       "      <td>C</td>\n",
       "      <td>Dim Kavu</td>\n",
       "      <td>Others</td>\n",
       "      <td>4.6</td>\n",
       "      <td>206.0</td>\n",
       "      <td>$$</td>\n",
       "      <td>False</td>\n",
       "      <td>NaN</td>\n",
       "      <td>NaN</td>\n",
       "    </tr>\n",
       "    <tr>\n",
       "      <th>1</th>\n",
       "      <td>C</td>\n",
       "      <td>Коферум</td>\n",
       "      <td>Cafe</td>\n",
       "      <td>5.0</td>\n",
       "      <td>24.0</td>\n",
       "      <td>$$</td>\n",
       "      <td>False</td>\n",
       "      <td>NaN</td>\n",
       "      <td>True</td>\n",
       "    </tr>\n",
       "    <tr>\n",
       "      <th>2</th>\n",
       "      <td>C</td>\n",
       "      <td>Кофейня Світ Чаю</td>\n",
       "      <td>Coffee shop</td>\n",
       "      <td>5.0</td>\n",
       "      <td>11.0</td>\n",
       "      <td>$$</td>\n",
       "      <td>False</td>\n",
       "      <td>NaN</td>\n",
       "      <td>True</td>\n",
       "    </tr>\n",
       "    <tr>\n",
       "      <th>3</th>\n",
       "      <td>C</td>\n",
       "      <td>Кофейня Starcoff</td>\n",
       "      <td>Coffee shop</td>\n",
       "      <td>4.4</td>\n",
       "      <td>331.0</td>\n",
       "      <td>$$</td>\n",
       "      <td>False</td>\n",
       "      <td>True</td>\n",
       "      <td>True</td>\n",
       "    </tr>\n",
       "    <tr>\n",
       "      <th>4</th>\n",
       "      <td>C</td>\n",
       "      <td>Кофейня \"Friend Zone\"</td>\n",
       "      <td>Coffee shop</td>\n",
       "      <td>5.0</td>\n",
       "      <td>12.0</td>\n",
       "      <td>$$</td>\n",
       "      <td>False</td>\n",
       "      <td>True</td>\n",
       "      <td>True</td>\n",
       "    </tr>\n",
       "  </tbody>\n",
       "</table>\n",
       "</div>"
      ],
      "text/plain": [
       "  Region             Place name   Place type  Rating  Reviews Price  \\\n",
       "0      C               Dim Kavu       Others     4.6    206.0    $$   \n",
       "1      C                Коферум         Cafe     5.0     24.0    $$   \n",
       "2      C       Кофейня Світ Чаю  Coffee shop     5.0     11.0    $$   \n",
       "3      C       Кофейня Starcoff  Coffee shop     4.4    331.0    $$   \n",
       "4      C  Кофейня \"Friend Zone\"  Coffee shop     5.0     12.0    $$   \n",
       "\n",
       "   Delivery option Dine in option Takeout option  \n",
       "0            False            NaN            NaN  \n",
       "1            False            NaN           True  \n",
       "2            False            NaN           True  \n",
       "3            False           True           True  \n",
       "4            False           True           True  "
      ]
     },
     "execution_count": 5,
     "metadata": {},
     "output_type": "execute_result"
    }
   ],
   "source": [
    "#replace REVIEWS. Missing values should be replaced with the overall median.\n",
    "caffe[\"Reviews\"] = caffe[\"Reviews\"].replace(np.nan,caffe2)\n",
    "caffe.head(5)"
   ]
  },
  {
   "cell_type": "code",
   "execution_count": 6,
   "id": "78884dbf",
   "metadata": {},
   "outputs": [],
   "source": [
    "#Price Missing values should be replaced with ”Unknown\n",
    "caffe[\"Price\"] = caffe[\"Price\"].replace(np.nan, \"Unknown\")\n"
   ]
  },
  {
   "cell_type": "code",
   "execution_count": 7,
   "id": "c33d9e5b",
   "metadata": {},
   "outputs": [],
   "source": [
    "#Delivery Option.Missing values should be replaced with False.\n",
    "caffe[\"Delivery option\"] = caffe[\"Delivery option\"].replace(np.nan, \"False\")"
   ]
  },
  {
   "cell_type": "code",
   "execution_count": 8,
   "id": "33f50e90",
   "metadata": {},
   "outputs": [],
   "source": [
    "#Dine in Option.Missing values should be replaced with False.\n",
    "import pandas as pd\n",
    "import numpy as np\n",
    "\n",
    "caffe[\"Dine in option\"] = caffe[\"Dine in option\"].replace('', \"False\")\n"
   ]
  },
  {
   "cell_type": "code",
   "execution_count": 9,
   "id": "0ba02179",
   "metadata": {},
   "outputs": [],
   "source": [
    "#Takeaway Option.Missing values should be replaced with False.\n",
    "caffe[\"Takeout option\"] = caffe[\"Takeout option\"].replace('', \"False\")"
   ]
  },
  {
   "cell_type": "code",
   "execution_count": 10,
   "id": "482f5ae3",
   "metadata": {},
   "outputs": [
    {
     "name": "stdout",
     "output_type": "stream",
     "text": [
      "Requirement already satisfied: missingno in c:\\users\\equipo\\appdata\\local\\programs\\python\\python39\\lib\\site-packages (0.5.1)\n",
      "Requirement already satisfied: seaborn in c:\\users\\equipo\\appdata\\local\\programs\\python\\python39\\lib\\site-packages (from missingno) (0.12.2)\n",
      "Requirement already satisfied: numpy in c:\\users\\equipo\\appdata\\local\\programs\\python\\python39\\lib\\site-packages (from missingno) (1.23.1)\n",
      "Requirement already satisfied: matplotlib in c:\\users\\equipo\\appdata\\local\\programs\\python\\python39\\lib\\site-packages (from missingno) (3.6.3)\n",
      "Requirement already satisfied: scipy in c:\\users\\equipo\\appdata\\local\\programs\\python\\python39\\lib\\site-packages (from missingno) (1.10.0)\n",
      "Requirement already satisfied: pillow>=6.2.0 in c:\\users\\equipo\\appdata\\local\\programs\\python\\python39\\lib\\site-packages (from matplotlib->missingno) (8.4.0)\n",
      "Requirement already satisfied: cycler>=0.10 in c:\\users\\equipo\\appdata\\local\\programs\\python\\python39\\lib\\site-packages (from matplotlib->missingno) (0.11.0)\n",
      "Requirement already satisfied: packaging>=20.0 in c:\\users\\equipo\\appdata\\local\\programs\\python\\python39\\lib\\site-packages (from matplotlib->missingno) (21.3)\n",
      "Requirement already satisfied: pyparsing>=2.2.1 in c:\\users\\equipo\\appdata\\local\\programs\\python\\python39\\lib\\site-packages (from matplotlib->missingno) (3.0.9)\n",
      "Requirement already satisfied: fonttools>=4.22.0 in c:\\users\\equipo\\appdata\\local\\programs\\python\\python39\\lib\\site-packages (from matplotlib->missingno) (4.38.0)\n",
      "Requirement already satisfied: kiwisolver>=1.0.1 in c:\\users\\equipo\\appdata\\local\\programs\\python\\python39\\lib\\site-packages (from matplotlib->missingno) (1.4.4)\n",
      "Requirement already satisfied: contourpy>=1.0.1 in c:\\users\\equipo\\appdata\\local\\programs\\python\\python39\\lib\\site-packages (from matplotlib->missingno) (1.0.7)\n",
      "Requirement already satisfied: python-dateutil>=2.7 in c:\\users\\equipo\\appdata\\local\\programs\\python\\python39\\lib\\site-packages (from matplotlib->missingno) (2.8.2)\n",
      "Requirement already satisfied: pandas>=0.25 in c:\\users\\equipo\\appdata\\local\\programs\\python\\python39\\lib\\site-packages (from seaborn->missingno) (1.4.3)\n",
      "Requirement already satisfied: pytz>=2020.1 in c:\\users\\equipo\\appdata\\local\\programs\\python\\python39\\lib\\site-packages (from pandas>=0.25->seaborn->missingno) (2021.3)\n",
      "Requirement already satisfied: six>=1.5 in c:\\users\\equipo\\appdata\\local\\programs\\python\\python39\\lib\\site-packages (from python-dateutil>=2.7->matplotlib->missingno) (1.16.0)\n",
      "Note: you may need to restart the kernel to use updated packages.\n"
     ]
    },
    {
     "name": "stderr",
     "output_type": "stream",
     "text": [
      "WARNING: You are using pip version 21.3.1; however, version 22.3.1 is available.\n",
      "You should consider upgrading via the 'c:\\users\\equipo\\appdata\\local\\programs\\python\\python39\\python.exe -m pip install --upgrade pip' command.\n"
     ]
    }
   ],
   "source": [
    "pip install missingno"
   ]
  },
  {
   "cell_type": "code",
   "execution_count": 11,
   "id": "3c7b875e",
   "metadata": {},
   "outputs": [
    {
     "data": {
      "image/png": "[encoded data removed]",
      "text/plain": [
       "<Figure size 1800x720 with 2 Axes>"
      ]
     },
     "metadata": {
      "needs_background": "light"
     },
     "output_type": "display_data"
    }
   ],
   "source": [
    "import missingno as msno\n",
    "import matplotlib.pyplot as plt\n",
    "msno.matrix(caffe)\n",
    "plt.show()"
   ]
  },
  {
   "cell_type": "code",
   "execution_count": 12,
   "id": "98a6c2c2",
   "metadata": {},
   "outputs": [
    {
     "data": {
      "text/plain": [
       "Region              0\n",
       "Place name          0\n",
       "Place type          0\n",
       "Rating              2\n",
       "Reviews             0\n",
       "Price               0\n",
       "Delivery option     0\n",
       "Dine in option     60\n",
       "Takeout option     56\n",
       "dtype: int64"
      ]
     },
     "execution_count": 12,
     "metadata": {},
     "output_type": "execute_result"
    }
   ],
   "source": [
    "caffe.isna().sum()"
   ]
  },
  {
   "cell_type": "code",
   "execution_count": 15,
   "id": "35723466",
   "metadata": {},
   "outputs": [
    {
     "data": {
      "text/plain": [
       "0    4.6\n",
       "1    5.0\n",
       "2    5.0\n",
       "3    4.4\n",
       "4    5.0\n",
       "Name: Rating, dtype: float64"
      ]
     },
     "execution_count": 15,
     "metadata": {},
     "output_type": "execute_result"
    }
   ],
   "source": [
    "#replace Missing values should be replaced with 0. RATING\n",
    "caffe['Rating'] = caffe['Rating'].fillna(0) \n",
    "caffe['Rating'].head()"
   ]
  },
  {
   "cell_type": "code",
   "execution_count": 19,
   "id": "8f3ecc06",
   "metadata": {},
   "outputs": [
    {
     "data": {
      "text/plain": [
       "0    False\n",
       "1    False\n",
       "2    False\n",
       "3     True\n",
       "4     True\n",
       "Name: Dine in option, dtype: object"
      ]
     },
     "execution_count": 19,
     "metadata": {},
     "output_type": "execute_result"
    }
   ],
   "source": [
    "import pandas as pd\n",
    "import numpy as np\n",
    "\n",
    "caffe[\"Dine in option\"] = caffe[\"Dine in option\"].replace(np.nan, \"False\")\n",
    "caffe[\"Dine in option\"].head(5)"
   ]
  },
  {
   "cell_type": "code",
   "execution_count": 20,
   "id": "2b4a9da5",
   "metadata": {},
   "outputs": [
    {
     "data": {
      "text/html": [
       "<div>\n",
       "<style scoped>\n",
       "    .dataframe tbody tr th:only-of-type {\n",
       "        vertical-align: middle;\n",
       "    }\n",
       "\n",
       "    .dataframe tbody tr th {\n",
       "        vertical-align: top;\n",
       "    }\n",
       "\n",
       "    .dataframe thead th {\n",
       "        text-align: right;\n",
       "    }\n",
       "</style>\n",
       "<table border=\"1\" class=\"dataframe\">\n",
       "  <thead>\n",
       "    <tr style=\"text-align: right;\">\n",
       "      <th></th>\n",
       "      <th>Region</th>\n",
       "      <th>Place name</th>\n",
       "      <th>Place type</th>\n",
       "      <th>Rating</th>\n",
       "      <th>Reviews</th>\n",
       "      <th>Price</th>\n",
       "      <th>Delivery option</th>\n",
       "      <th>Dine in option</th>\n",
       "      <th>Takeout option</th>\n",
       "    </tr>\n",
       "  </thead>\n",
       "  <tbody>\n",
       "    <tr>\n",
       "      <th>0</th>\n",
       "      <td>C</td>\n",
       "      <td>Dim Kavu</td>\n",
       "      <td>Others</td>\n",
       "      <td>4.6</td>\n",
       "      <td>206.0</td>\n",
       "      <td>$$</td>\n",
       "      <td>False</td>\n",
       "      <td>False</td>\n",
       "      <td>NaN</td>\n",
       "    </tr>\n",
       "    <tr>\n",
       "      <th>1</th>\n",
       "      <td>C</td>\n",
       "      <td>Коферум</td>\n",
       "      <td>Cafe</td>\n",
       "      <td>5.0</td>\n",
       "      <td>24.0</td>\n",
       "      <td>$$</td>\n",
       "      <td>False</td>\n",
       "      <td>False</td>\n",
       "      <td>True</td>\n",
       "    </tr>\n",
       "    <tr>\n",
       "      <th>2</th>\n",
       "      <td>C</td>\n",
       "      <td>Кофейня Світ Чаю</td>\n",
       "      <td>Coffee shop</td>\n",
       "      <td>5.0</td>\n",
       "      <td>11.0</td>\n",
       "      <td>$$</td>\n",
       "      <td>False</td>\n",
       "      <td>False</td>\n",
       "      <td>True</td>\n",
       "    </tr>\n",
       "    <tr>\n",
       "      <th>3</th>\n",
       "      <td>C</td>\n",
       "      <td>Кофейня Starcoff</td>\n",
       "      <td>Coffee shop</td>\n",
       "      <td>4.4</td>\n",
       "      <td>331.0</td>\n",
       "      <td>$$</td>\n",
       "      <td>False</td>\n",
       "      <td>True</td>\n",
       "      <td>True</td>\n",
       "    </tr>\n",
       "    <tr>\n",
       "      <th>4</th>\n",
       "      <td>C</td>\n",
       "      <td>Кофейня \"Friend Zone\"</td>\n",
       "      <td>Coffee shop</td>\n",
       "      <td>5.0</td>\n",
       "      <td>12.0</td>\n",
       "      <td>$$</td>\n",
       "      <td>False</td>\n",
       "      <td>True</td>\n",
       "      <td>True</td>\n",
       "    </tr>\n",
       "    <tr>\n",
       "      <th>...</th>\n",
       "      <td>...</td>\n",
       "      <td>...</td>\n",
       "      <td>...</td>\n",
       "      <td>...</td>\n",
       "      <td>...</td>\n",
       "      <td>...</td>\n",
       "      <td>...</td>\n",
       "      <td>...</td>\n",
       "      <td>...</td>\n",
       "    </tr>\n",
       "    <tr>\n",
       "      <th>195</th>\n",
       "      <td>H</td>\n",
       "      <td>Artist</td>\n",
       "      <td>Others</td>\n",
       "      <td>4.6</td>\n",
       "      <td>963.0</td>\n",
       "      <td>$$$</td>\n",
       "      <td>False</td>\n",
       "      <td>True</td>\n",
       "      <td>True</td>\n",
       "    </tr>\n",
       "    <tr>\n",
       "      <th>196</th>\n",
       "      <td>H</td>\n",
       "      <td>Dream Cafe</td>\n",
       "      <td>Cafe</td>\n",
       "      <td>4.3</td>\n",
       "      <td>646.0</td>\n",
       "      <td>$$</td>\n",
       "      <td>False</td>\n",
       "      <td>True</td>\n",
       "      <td>True</td>\n",
       "    </tr>\n",
       "    <tr>\n",
       "      <th>197</th>\n",
       "      <td>H</td>\n",
       "      <td>РУТА КАФЕ ПП КУЛІЧЕНКО К.І.</td>\n",
       "      <td>Cafe</td>\n",
       "      <td>4.6</td>\n",
       "      <td>16.0</td>\n",
       "      <td>$$</td>\n",
       "      <td>False</td>\n",
       "      <td>True</td>\n",
       "      <td>True</td>\n",
       "    </tr>\n",
       "    <tr>\n",
       "      <th>198</th>\n",
       "      <td>H</td>\n",
       "      <td>Ob'yektna Kava</td>\n",
       "      <td>Coffee shop</td>\n",
       "      <td>4.7</td>\n",
       "      <td>599.0</td>\n",
       "      <td>$$</td>\n",
       "      <td>False</td>\n",
       "      <td>True</td>\n",
       "      <td>True</td>\n",
       "    </tr>\n",
       "    <tr>\n",
       "      <th>199</th>\n",
       "      <td>H</td>\n",
       "      <td>О...МАРАТ КАФЕ ПП ПОЛІСТЕП</td>\n",
       "      <td>Cafe</td>\n",
       "      <td>4.3</td>\n",
       "      <td>341.0</td>\n",
       "      <td>$$</td>\n",
       "      <td>False</td>\n",
       "      <td>True</td>\n",
       "      <td>NaN</td>\n",
       "    </tr>\n",
       "  </tbody>\n",
       "</table>\n",
       "<p>200 rows × 9 columns</p>\n",
       "</div>"
      ],
      "text/plain": [
       "    Region                   Place name   Place type  Rating  Reviews Price  \\\n",
       "0        C                     Dim Kavu       Others     4.6    206.0    $$   \n",
       "1        C                      Коферум         Cafe     5.0     24.0    $$   \n",
       "2        C             Кофейня Світ Чаю  Coffee shop     5.0     11.0    $$   \n",
       "3        C             Кофейня Starcoff  Coffee shop     4.4    331.0    $$   \n",
       "4        C        Кофейня \"Friend Zone\"  Coffee shop     5.0     12.0    $$   \n",
       "..     ...                          ...          ...     ...      ...   ...   \n",
       "195      H                       Artist       Others     4.6    963.0   $$$   \n",
       "196      H                   Dream Cafe         Cafe     4.3    646.0    $$   \n",
       "197      H  РУТА КАФЕ ПП КУЛІЧЕНКО К.І.         Cafe     4.6     16.0    $$   \n",
       "198      H               Ob'yektna Kava  Coffee shop     4.7    599.0    $$   \n",
       "199      H   О...МАРАТ КАФЕ ПП ПОЛІСТЕП         Cafe     4.3    341.0    $$   \n",
       "\n",
       "     Delivery option Dine in option Takeout option  \n",
       "0              False          False            NaN  \n",
       "1              False          False           True  \n",
       "2              False          False           True  \n",
       "3              False           True           True  \n",
       "4              False           True           True  \n",
       "..               ...            ...            ...  \n",
       "195            False           True           True  \n",
       "196            False           True           True  \n",
       "197            False           True           True  \n",
       "198            False           True           True  \n",
       "199            False           True            NaN  \n",
       "\n",
       "[200 rows x 9 columns]"
      ]
     },
     "execution_count": 20,
     "metadata": {},
     "output_type": "execute_result"
    }
   ],
   "source": [
    "caffe"
   ]
  },
  {
   "cell_type": "code",
   "execution_count": 23,
   "id": "3f7d03d6",
   "metadata": {},
   "outputs": [
    {
     "data": {
      "text/plain": [
       "0     False\n",
       "1      True\n",
       "2      True\n",
       "3      True\n",
       "4      True\n",
       "      ...  \n",
       "95    False\n",
       "96     True\n",
       "97     True\n",
       "98    False\n",
       "99    False\n",
       "Name: Takeout option, Length: 100, dtype: object"
      ]
     },
     "execution_count": 23,
     "metadata": {},
     "output_type": "execute_result"
    }
   ],
   "source": [
    "#Takeaway Option.Missing values should be replaced with False.\n",
    "\n",
    "caffe[\"Takeout option\"] = caffe[\"Takeout option\"].replace(np.nan, \"False\")\n",
    "caffe[\"Takeout option\"].head(100)"
   ]
  },
  {
   "cell_type": "code",
   "execution_count": 24,
   "id": "379d7fd6",
   "metadata": {},
   "outputs": [
    {
     "data": {
      "text/plain": [
       "Region             0\n",
       "Place name         0\n",
       "Place type         0\n",
       "Rating             0\n",
       "Reviews            0\n",
       "Price              0\n",
       "Delivery option    0\n",
       "Dine in option     0\n",
       "Takeout option     0\n",
       "dtype: int64"
      ]
     },
     "execution_count": 24,
     "metadata": {},
     "output_type": "execute_result"
    }
   ],
   "source": [
    "caffe.isna().sum()"
   ]
  },
  {
   "cell_type": "code",
   "execution_count": 25,
   "id": "673f6bce",
   "metadata": {},
   "outputs": [
    {
     "data": {
      "text/plain": [
       "Region             0\n",
       "Place name         0\n",
       "Place type         0\n",
       "Rating             0\n",
       "Reviews            0\n",
       "Price              0\n",
       "Delivery option    0\n",
       "Dine in option     0\n",
       "Takeout option     0\n",
       "dtype: int64"
      ]
     },
     "execution_count": 25,
     "metadata": {},
     "output_type": "execute_result"
    }
   ],
   "source": [
    "caffe.isnull().sum()"
   ]
  },
  {
   "cell_type": "code",
   "execution_count": 31,
   "id": "64cb56df",
   "metadata": {},
   "outputs": [
    {
     "data": {
      "text/html": [
       "<div>\n",
       "<style scoped>\n",
       "    .dataframe tbody tr th:only-of-type {\n",
       "        vertical-align: middle;\n",
       "    }\n",
       "\n",
       "    .dataframe tbody tr th {\n",
       "        vertical-align: top;\n",
       "    }\n",
       "\n",
       "    .dataframe thead th {\n",
       "        text-align: right;\n",
       "    }\n",
       "</style>\n",
       "<table border=\"1\" class=\"dataframe\">\n",
       "  <thead>\n",
       "    <tr style=\"text-align: right;\">\n",
       "      <th></th>\n",
       "      <th>Region</th>\n",
       "      <th>Place name</th>\n",
       "      <th>Place type</th>\n",
       "      <th>Rating</th>\n",
       "      <th>Reviews</th>\n",
       "      <th>Price</th>\n",
       "      <th>Delivery option</th>\n",
       "      <th>Dine in option</th>\n",
       "      <th>Takeout option</th>\n",
       "    </tr>\n",
       "  </thead>\n",
       "  <tbody>\n",
       "    <tr>\n",
       "      <th>0</th>\n",
       "      <td>C</td>\n",
       "      <td>Dim Kavu</td>\n",
       "      <td>Others</td>\n",
       "      <td>4.6</td>\n",
       "      <td>206.0</td>\n",
       "      <td>$$</td>\n",
       "      <td>False</td>\n",
       "      <td>False</td>\n",
       "      <td>False</td>\n",
       "    </tr>\n",
       "    <tr>\n",
       "      <th>1</th>\n",
       "      <td>C</td>\n",
       "      <td>Коферум</td>\n",
       "      <td>Cafe</td>\n",
       "      <td>5.0</td>\n",
       "      <td>24.0</td>\n",
       "      <td>$$</td>\n",
       "      <td>False</td>\n",
       "      <td>False</td>\n",
       "      <td>True</td>\n",
       "    </tr>\n",
       "    <tr>\n",
       "      <th>2</th>\n",
       "      <td>C</td>\n",
       "      <td>Кофейня Світ Чаю</td>\n",
       "      <td>Coffee shop</td>\n",
       "      <td>5.0</td>\n",
       "      <td>11.0</td>\n",
       "      <td>$$</td>\n",
       "      <td>False</td>\n",
       "      <td>False</td>\n",
       "      <td>True</td>\n",
       "    </tr>\n",
       "    <tr>\n",
       "      <th>3</th>\n",
       "      <td>C</td>\n",
       "      <td>Кофейня Starcoff</td>\n",
       "      <td>Coffee shop</td>\n",
       "      <td>4.4</td>\n",
       "      <td>331.0</td>\n",
       "      <td>$$</td>\n",
       "      <td>False</td>\n",
       "      <td>True</td>\n",
       "      <td>True</td>\n",
       "    </tr>\n",
       "    <tr>\n",
       "      <th>4</th>\n",
       "      <td>C</td>\n",
       "      <td>Кофейня \"Friend Zone\"</td>\n",
       "      <td>Coffee shop</td>\n",
       "      <td>5.0</td>\n",
       "      <td>12.0</td>\n",
       "      <td>$$</td>\n",
       "      <td>False</td>\n",
       "      <td>True</td>\n",
       "      <td>True</td>\n",
       "    </tr>\n",
       "  </tbody>\n",
       "</table>\n",
       "</div>"
      ],
      "text/plain": [
       "  Region             Place name   Place type  Rating  Reviews Price  \\\n",
       "0      C               Dim Kavu       Others     4.6    206.0    $$   \n",
       "1      C                Коферум         Cafe     5.0     24.0    $$   \n",
       "2      C       Кофейня Світ Чаю  Coffee shop     5.0     11.0    $$   \n",
       "3      C       Кофейня Starcoff  Coffee shop     4.4    331.0    $$   \n",
       "4      C  Кофейня \"Friend Zone\"  Coffee shop     5.0     12.0    $$   \n",
       "\n",
       "   Delivery option Dine in option Takeout option  \n",
       "0            False          False          False  \n",
       "1            False          False           True  \n",
       "2            False          False           True  \n",
       "3            False           True           True  \n",
       "4            False           True           True  "
      ]
     },
     "execution_count": 31,
     "metadata": {},
     "output_type": "execute_result"
    }
   ],
   "source": [
    "caffe.head()\n"
   ]
  },
  {
   "cell_type": "code",
   "execution_count": 15,
   "id": "6ee75096",
   "metadata": {},
   "outputs": [
    {
     "data": {
      "text/plain": [
       "array(['Others', 'Cafe', 'Coffee shop', 'Espresso bar'], dtype=object)"
      ]
     },
     "execution_count": 15,
     "metadata": {},
     "output_type": "execute_result"
    }
   ],
   "source": [
    "#get unique entires across multiple columns\n",
    "caffe['Place type'].unique()\n"
   ]
  },
  {
   "cell_type": "code",
   "execution_count": 14,
   "id": "49a34b51",
   "metadata": {},
   "outputs": [],
   "source": [
    "import pandas as pd\n",
    "import numpy as np\n",
    "\n",
    "\n",
    "caffe = pd.read_csv('https://s3.amazonaws.com/talent-assets.datacamp.com/coffee.csv')\n",
    "\n",
    "caffe_unique = caffe['Place name'].unique()"
   ]
  },
  {
   "cell_type": "code",
   "execution_count": 10,
   "id": "f40815e1",
   "metadata": {},
   "outputs": [
    {
     "data": {
      "text/html": [
       "<div>\n",
       "<style scoped>\n",
       "    .dataframe tbody tr th:only-of-type {\n",
       "        vertical-align: middle;\n",
       "    }\n",
       "\n",
       "    .dataframe tbody tr th {\n",
       "        vertical-align: top;\n",
       "    }\n",
       "\n",
       "    .dataframe thead th {\n",
       "        text-align: right;\n",
       "    }\n",
       "</style>\n",
       "<table border=\"1\" class=\"dataframe\">\n",
       "  <thead>\n",
       "    <tr style=\"text-align: right;\">\n",
       "      <th></th>\n",
       "      <th>Region</th>\n",
       "      <th>Place name</th>\n",
       "      <th>Place type</th>\n",
       "      <th>Rating</th>\n",
       "      <th>Reviews</th>\n",
       "      <th>Price</th>\n",
       "      <th>Delivery option</th>\n",
       "      <th>Dine in option</th>\n",
       "      <th>Takeout option</th>\n",
       "    </tr>\n",
       "  </thead>\n",
       "  <tbody>\n",
       "    <tr>\n",
       "      <th>0</th>\n",
       "      <td>C</td>\n",
       "      <td>Dim Kavu</td>\n",
       "      <td>Others</td>\n",
       "      <td>4.6</td>\n",
       "      <td>206.0</td>\n",
       "      <td>$$</td>\n",
       "      <td>False</td>\n",
       "      <td>NaN</td>\n",
       "      <td>NaN</td>\n",
       "    </tr>\n",
       "    <tr>\n",
       "      <th>1</th>\n",
       "      <td>C</td>\n",
       "      <td>Коферум</td>\n",
       "      <td>Cafe</td>\n",
       "      <td>5.0</td>\n",
       "      <td>24.0</td>\n",
       "      <td>$$</td>\n",
       "      <td>False</td>\n",
       "      <td>NaN</td>\n",
       "      <td>True</td>\n",
       "    </tr>\n",
       "    <tr>\n",
       "      <th>2</th>\n",
       "      <td>C</td>\n",
       "      <td>Кофейня Світ Чаю</td>\n",
       "      <td>Coffee shop</td>\n",
       "      <td>5.0</td>\n",
       "      <td>11.0</td>\n",
       "      <td>$$</td>\n",
       "      <td>False</td>\n",
       "      <td>NaN</td>\n",
       "      <td>True</td>\n",
       "    </tr>\n",
       "    <tr>\n",
       "      <th>3</th>\n",
       "      <td>C</td>\n",
       "      <td>Кофейня Starcoff</td>\n",
       "      <td>Coffee shop</td>\n",
       "      <td>4.4</td>\n",
       "      <td>331.0</td>\n",
       "      <td>$$</td>\n",
       "      <td>False</td>\n",
       "      <td>True</td>\n",
       "      <td>True</td>\n",
       "    </tr>\n",
       "    <tr>\n",
       "      <th>4</th>\n",
       "      <td>C</td>\n",
       "      <td>Кофейня \"Friend Zone\"</td>\n",
       "      <td>Coffee shop</td>\n",
       "      <td>5.0</td>\n",
       "      <td>12.0</td>\n",
       "      <td>$$</td>\n",
       "      <td>False</td>\n",
       "      <td>True</td>\n",
       "      <td>True</td>\n",
       "    </tr>\n",
       "    <tr>\n",
       "      <th>...</th>\n",
       "      <td>...</td>\n",
       "      <td>...</td>\n",
       "      <td>...</td>\n",
       "      <td>...</td>\n",
       "      <td>...</td>\n",
       "      <td>...</td>\n",
       "      <td>...</td>\n",
       "      <td>...</td>\n",
       "      <td>...</td>\n",
       "    </tr>\n",
       "    <tr>\n",
       "      <th>195</th>\n",
       "      <td>H</td>\n",
       "      <td>Artist</td>\n",
       "      <td>Others</td>\n",
       "      <td>4.6</td>\n",
       "      <td>963.0</td>\n",
       "      <td>$$$</td>\n",
       "      <td>False</td>\n",
       "      <td>True</td>\n",
       "      <td>True</td>\n",
       "    </tr>\n",
       "    <tr>\n",
       "      <th>196</th>\n",
       "      <td>H</td>\n",
       "      <td>Dream Cafe</td>\n",
       "      <td>Cafe</td>\n",
       "      <td>4.3</td>\n",
       "      <td>646.0</td>\n",
       "      <td>$$</td>\n",
       "      <td>False</td>\n",
       "      <td>True</td>\n",
       "      <td>True</td>\n",
       "    </tr>\n",
       "    <tr>\n",
       "      <th>197</th>\n",
       "      <td>H</td>\n",
       "      <td>РУТА КАФЕ ПП КУЛІЧЕНКО К.І.</td>\n",
       "      <td>Cafe</td>\n",
       "      <td>4.6</td>\n",
       "      <td>16.0</td>\n",
       "      <td>$$</td>\n",
       "      <td>False</td>\n",
       "      <td>True</td>\n",
       "      <td>True</td>\n",
       "    </tr>\n",
       "    <tr>\n",
       "      <th>198</th>\n",
       "      <td>H</td>\n",
       "      <td>Ob'yektna Kava</td>\n",
       "      <td>Coffee shop</td>\n",
       "      <td>4.7</td>\n",
       "      <td>599.0</td>\n",
       "      <td>$$</td>\n",
       "      <td>False</td>\n",
       "      <td>True</td>\n",
       "      <td>True</td>\n",
       "    </tr>\n",
       "    <tr>\n",
       "      <th>199</th>\n",
       "      <td>H</td>\n",
       "      <td>О...МАРАТ КАФЕ ПП ПОЛІСТЕП</td>\n",
       "      <td>Cafe</td>\n",
       "      <td>4.3</td>\n",
       "      <td>341.0</td>\n",
       "      <td>$$</td>\n",
       "      <td>False</td>\n",
       "      <td>True</td>\n",
       "      <td>NaN</td>\n",
       "    </tr>\n",
       "  </tbody>\n",
       "</table>\n",
       "<p>200 rows × 9 columns</p>\n",
       "</div>"
      ],
      "text/plain": [
       "    Region                   Place name   Place type  Rating  Reviews Price  \\\n",
       "0        C                     Dim Kavu       Others     4.6    206.0    $$   \n",
       "1        C                      Коферум         Cafe     5.0     24.0    $$   \n",
       "2        C             Кофейня Світ Чаю  Coffee shop     5.0     11.0    $$   \n",
       "3        C             Кофейня Starcoff  Coffee shop     4.4    331.0    $$   \n",
       "4        C        Кофейня \"Friend Zone\"  Coffee shop     5.0     12.0    $$   \n",
       "..     ...                          ...          ...     ...      ...   ...   \n",
       "195      H                       Artist       Others     4.6    963.0   $$$   \n",
       "196      H                   Dream Cafe         Cafe     4.3    646.0    $$   \n",
       "197      H  РУТА КАФЕ ПП КУЛІЧЕНКО К.І.         Cafe     4.6     16.0    $$   \n",
       "198      H               Ob'yektna Kava  Coffee shop     4.7    599.0    $$   \n",
       "199      H   О...МАРАТ КАФЕ ПП ПОЛІСТЕП         Cafe     4.3    341.0    $$   \n",
       "\n",
       "     Delivery option Dine in option Takeout option  \n",
       "0              False            NaN            NaN  \n",
       "1              False            NaN           True  \n",
       "2              False            NaN           True  \n",
       "3              False           True           True  \n",
       "4              False           True           True  \n",
       "..               ...            ...            ...  \n",
       "195            False           True           True  \n",
       "196            False           True           True  \n",
       "197            False           True           True  \n",
       "198            False           True           True  \n",
       "199            False           True            NaN  \n",
       "\n",
       "[200 rows x 9 columns]"
      ]
     },
     "execution_count": 10,
     "metadata": {},
     "output_type": "execute_result"
    }
   ],
   "source": [
    "caffe"
   ]
  },
  {
   "cell_type": "code",
   "execution_count": 19,
   "id": "93140022",
   "metadata": {},
   "outputs": [
    {
     "data": {
      "text/plain": [
       "Dim Kavy                      4\n",
       "coffee House                  3\n",
       "Coffee House                  3\n",
       "MY COFFEE                     2\n",
       "Lviv Coffee Manufacture       2\n",
       "                             ..\n",
       "The Boiler Room               1\n",
       "Интернет-магазин \"Kava-e\"     1\n",
       "Jays : Coffee Brewers         1\n",
       "Caffisimo                     1\n",
       "О...МАРАТ КАФЕ ПП ПОЛІСТЕП    1\n",
       "Length: 187, dtype: int64"
      ]
     },
     "execution_count": 19,
     "metadata": {},
     "output_type": "execute_result"
    }
   ],
   "source": [
    "pd.value_counts(df['Place name'].values)"
   ]
  },
  {
   "cell_type": "code",
   "execution_count": 22,
   "id": "3fd47843",
   "metadata": {},
   "outputs": [
    {
     "data": {
      "text/plain": [
       "187"
      ]
     },
     "execution_count": 22,
     "metadata": {},
     "output_type": "execute_result"
    }
   ],
   "source": [
    "df['Place name'].nunique()"
   ]
  },
  {
   "cell_type": "code",
   "execution_count": 23,
   "id": "152d5594",
   "metadata": {},
   "outputs": [
    {
     "data": {
      "text/plain": [
       "200"
      ]
     },
     "execution_count": 23,
     "metadata": {},
     "output_type": "execute_result"
    }
   ],
   "source": [
    "#Count distinct values, use nunique:\n",
    "df['Place name'].count()"
   ]
  },
  {
   "cell_type": "code",
   "execution_count": 25,
   "id": "99d74f8b",
   "metadata": {},
   "outputs": [
    {
     "name": "stdout",
     "output_type": "stream",
     "text": [
      "Place name\n",
      "\"®КАВА БАЗА®\"                             1\n",
      "\"Точка кофе\"                              1\n",
      "\"Франс.уа\" кофейня-пекарня                1\n",
      "Anso Coffee                               1\n",
      "Aroma kava                                1\n",
      "                                         ..\n",
      "Смажимо каву в Одесі. Обсмажувальна №2    1\n",
      "Смажимо каву. Обсмажувальна N3            1\n",
      "Столовая BUFET                            1\n",
      "Франс.уа на Пушкина                       1\n",
      "Чай Кофе                                  1\n",
      "Length: 187, dtype: int64\n"
     ]
    }
   ],
   "source": [
    "# counting the duplicates\n",
    "dups = df.pivot_table(index = ['Place name'], aggfunc ='size')\n",
    "\n",
    "print(dups)"
   ]
  },
  {
   "cell_type": "code",
   "execution_count": 1,
   "id": "798f9aab",
   "metadata": {},
   "outputs": [
    {
     "ename": "NameError",
     "evalue": "name 'dups' is not defined",
     "output_type": "error",
     "traceback": [
      "\u001b[1;31m---------------------------------------------------------------------------\u001b[0m",
      "\u001b[1;31mNameError\u001b[0m                                 Traceback (most recent call last)",
      "Input \u001b[1;32mIn [1]\u001b[0m, in \u001b[0;36m<cell line: 1>\u001b[1;34m()\u001b[0m\n\u001b[1;32m----> 1\u001b[0m dups \u001b[38;5;241m=\u001b[39m \u001b[43mdups\u001b[49m\u001b[38;5;241m.\u001b[39mpivot_table(index \u001b[38;5;241m=\u001b[39m [\u001b[38;5;124m'\u001b[39m\u001b[38;5;124mPlace name\u001b[39m\u001b[38;5;124m'\u001b[39m], aggfunc \u001b[38;5;241m=\u001b[39m\u001b[38;5;124m'\u001b[39m\u001b[38;5;124msize\u001b[39m\u001b[38;5;124m'\u001b[39m)\n\u001b[0;32m      3\u001b[0m \u001b[38;5;28mprint\u001b[39m(dups)\n",
      "\u001b[1;31mNameError\u001b[0m: name 'dups' is not defined"
     ]
    }
   ],
   "source": [
    "\n",
    "dups = df.pivot_table(index = ['Place name'], aggfunc ='size')\n",
    "\n",
    "print(dups)"
   ]
  },
  {
   "cell_type": "code",
   "execution_count": 6,
   "id": "8f5443c9",
   "metadata": {},
   "outputs": [
    {
     "data": {
      "text/html": [
       "<div>\n",
       "<style scoped>\n",
       "    .dataframe tbody tr th:only-of-type {\n",
       "        vertical-align: middle;\n",
       "    }\n",
       "\n",
       "    .dataframe tbody tr th {\n",
       "        vertical-align: top;\n",
       "    }\n",
       "\n",
       "    .dataframe thead th {\n",
       "        text-align: right;\n",
       "    }\n",
       "</style>\n",
       "<table border=\"1\" class=\"dataframe\">\n",
       "  <thead>\n",
       "    <tr style=\"text-align: right;\">\n",
       "      <th></th>\n",
       "      <th>Region</th>\n",
       "      <th>Place name</th>\n",
       "      <th>Place type</th>\n",
       "      <th>Rating</th>\n",
       "      <th>Reviews</th>\n",
       "      <th>Price</th>\n",
       "      <th>Delivery option</th>\n",
       "      <th>Dine in option</th>\n",
       "      <th>Takeout option</th>\n",
       "    </tr>\n",
       "  </thead>\n",
       "  <tbody>\n",
       "    <tr>\n",
       "      <th>0</th>\n",
       "      <td>C</td>\n",
       "      <td>Dim Kavu</td>\n",
       "      <td>Others</td>\n",
       "      <td>4.6</td>\n",
       "      <td>206.0</td>\n",
       "      <td>$$</td>\n",
       "      <td>False</td>\n",
       "      <td>NaN</td>\n",
       "      <td>NaN</td>\n",
       "    </tr>\n",
       "    <tr>\n",
       "      <th>1</th>\n",
       "      <td>C</td>\n",
       "      <td>Коферум</td>\n",
       "      <td>Cafe</td>\n",
       "      <td>5.0</td>\n",
       "      <td>24.0</td>\n",
       "      <td>$$</td>\n",
       "      <td>False</td>\n",
       "      <td>NaN</td>\n",
       "      <td>True</td>\n",
       "    </tr>\n",
       "    <tr>\n",
       "      <th>2</th>\n",
       "      <td>C</td>\n",
       "      <td>Кофейня Світ Чаю</td>\n",
       "      <td>Coffee shop</td>\n",
       "      <td>5.0</td>\n",
       "      <td>11.0</td>\n",
       "      <td>$$</td>\n",
       "      <td>False</td>\n",
       "      <td>NaN</td>\n",
       "      <td>True</td>\n",
       "    </tr>\n",
       "    <tr>\n",
       "      <th>3</th>\n",
       "      <td>C</td>\n",
       "      <td>Кофейня Starcoff</td>\n",
       "      <td>Coffee shop</td>\n",
       "      <td>4.4</td>\n",
       "      <td>331.0</td>\n",
       "      <td>$$</td>\n",
       "      <td>False</td>\n",
       "      <td>True</td>\n",
       "      <td>True</td>\n",
       "    </tr>\n",
       "    <tr>\n",
       "      <th>4</th>\n",
       "      <td>C</td>\n",
       "      <td>Кофейня \"Friend Zone\"</td>\n",
       "      <td>Coffee shop</td>\n",
       "      <td>5.0</td>\n",
       "      <td>12.0</td>\n",
       "      <td>$$</td>\n",
       "      <td>False</td>\n",
       "      <td>True</td>\n",
       "      <td>True</td>\n",
       "    </tr>\n",
       "  </tbody>\n",
       "</table>\n",
       "</div>"
      ],
      "text/plain": [
       "  Region             Place name   Place type  Rating  Reviews Price  \\\n",
       "0      C               Dim Kavu       Others     4.6    206.0    $$   \n",
       "1      C                Коферум         Cafe     5.0     24.0    $$   \n",
       "2      C       Кофейня Світ Чаю  Coffee shop     5.0     11.0    $$   \n",
       "3      C       Кофейня Starcoff  Coffee shop     4.4    331.0    $$   \n",
       "4      C  Кофейня \"Friend Zone\"  Coffee shop     5.0     12.0    $$   \n",
       "\n",
       "   Delivery option Dine in option Takeout option  \n",
       "0            False            NaN            NaN  \n",
       "1            False            NaN           True  \n",
       "2            False            NaN           True  \n",
       "3            False           True           True  \n",
       "4            False           True           True  "
      ]
     },
     "execution_count": 6,
     "metadata": {},
     "output_type": "execute_result"
    }
   ],
   "source": [
    "import pandas as pd\n",
    "import numpy as np\n",
    "\n",
    "caffe = pd.read_csv('https://s3.amazonaws.com/talent-assets.datacamp.com/coffee.csv')\n",
    "\n",
    "caffe.head(5)"
   ]
  },
  {
   "cell_type": "code",
   "execution_count": 10,
   "id": "c17add4c",
   "metadata": {},
   "outputs": [
    {
     "data": {
      "text/plain": [
       "array(['$$', '$', '$$$'], dtype=object)"
      ]
     },
     "execution_count": 10,
     "metadata": {},
     "output_type": "execute_result"
    }
   ],
   "source": [
    "caffe['Price'].unique()"
   ]
  },
  {
   "cell_type": "code",
   "execution_count": 12,
   "id": "801d15e2",
   "metadata": {},
   "outputs": [
    {
     "data": {
      "text/plain": [
       "3"
      ]
     },
     "execution_count": 12,
     "metadata": {},
     "output_type": "execute_result"
    }
   ],
   "source": [
    "caffe['Price'].nunique()"
   ]
  },
  {
   "cell_type": "code",
   "execution_count": 20,
   "id": "82300427",
   "metadata": {},
   "outputs": [
    {
     "data": {
      "text/plain": [
       "0       99.5\n",
       "1       99.5\n",
       "2       99.5\n",
       "3       99.5\n",
       "4       99.5\n",
       "       ...  \n",
       "195    198.5\n",
       "196     99.5\n",
       "197     99.5\n",
       "198     99.5\n",
       "199     99.5\n",
       "Name: Price, Length: 200, dtype: float64"
      ]
     },
     "execution_count": 20,
     "metadata": {},
     "output_type": "execute_result"
    }
   ],
   "source": [
    "#range of values \n",
    "caffe['Price'].rank(\n",
    ")"
   ]
  },
  {
   "cell_type": "code",
   "execution_count": 23,
   "id": "466088ed",
   "metadata": {},
   "outputs": [
    {
     "data": {
      "text/plain": [
       "5.0"
      ]
     },
     "execution_count": 23,
     "metadata": {},
     "output_type": "execute_result"
    }
   ],
   "source": [
    "#max ox range in a column\n",
    "#df ['puntos']. max ()\n",
    "\n",
    "caffe_rangemax = caffe['Rating'].max()\n",
    "caffe_range"
   ]
  },
  {
   "cell_type": "code",
   "execution_count": 25,
   "id": "983347df",
   "metadata": {},
   "outputs": [
    {
     "data": {
      "text/plain": [
       "3.9"
      ]
     },
     "execution_count": 25,
     "metadata": {},
     "output_type": "execute_result"
    }
   ],
   "source": [
    "caffe_rangemin = caffe['Rating'].min()\n",
    "caffe_rangemin"
   ]
  },
  {
   "cell_type": "code",
   "execution_count": 26,
   "id": "43c7fcf8",
   "metadata": {},
   "outputs": [
    {
     "data": {
      "text/plain": [
       "1.1"
      ]
     },
     "execution_count": 26,
     "metadata": {},
     "output_type": "execute_result"
    }
   ],
   "source": [
    "caffe_range = caffe['Rating'].max() - caffe['Rating'].min()\n",
    "caffe_range"
   ]
  },
  {
   "cell_type": "code",
   "execution_count": 37,
   "id": "2d3a57f9",
   "metadata": {},
   "outputs": [
    {
     "data": {
      "text/plain": [
       "Index(['Region', 'Place name', 'Place type', 'Rating', 'Reviews', 'Price',\n",
       "       'Delivery option', 'Dine in option', 'Takeout option'],\n",
       "      dtype='object')"
      ]
     },
     "execution_count": 37,
     "metadata": {},
     "output_type": "execute_result"
    }
   ],
   "source": [
    "#barplot \n",
    "#import matplotlib.pyplot as plt\n",
    "\n",
    "\n",
    "#caffe['Place type'].plot(kind='bar', y='count', x='Places', color='red', rot=90)\n",
    "\n",
    "#plt.show()\n",
    "\n",
    "#pd.value_counts(df['Place name'].values)\n",
    "import pandas as pd\n",
    "import numpy as np\n",
    "\n",
    "\n",
    "caffe = pd.read_csv('https://s3.amazonaws.com/talent-assets.datacamp.com/coffee.csv')\n",
    "caffe.columns"
   ]
  },
  {
   "cell_type": "code",
   "execution_count": 43,
   "id": "23122821",
   "metadata": {},
   "outputs": [
    {
     "data": {
      "text/plain": [
       "Coffee shop     97\n",
       "Cafe            58\n",
       "Others          25\n",
       "Espresso bar    20\n",
       "dtype: int64"
      ]
     },
     "execution_count": 43,
     "metadata": {},
     "output_type": "execute_result"
    }
   ],
   "source": [
    "caffe_bar = pd.value_counts(caffe['Place type'].values)\n",
    "caffe_bar"
   ]
  },
  {
   "cell_type": "code",
   "execution_count": 54,
   "id": "254e8dfb",
   "metadata": {},
   "outputs": [
    {
     "data": {
      "image/png": "[encoded data removed]",
      "text/plain": [
       "<Figure size 432x288 with 1 Axes>"
      ]
     },
     "metadata": {
      "needs_background": "light"
     },
     "output_type": "display_data"
    }
   ],
   "source": [
    "import matplotlib.pyplot as plt\n",
    "\n",
    "\n",
    "#caffe_bar.plot(kind='bar',\n",
    "            #   y='count', \n",
    "           #    x='Places',\n",
    "            #   color='red',\n",
    "          #     rot=90\n",
    "\n",
    "fig = caffe_bar.plot(kind='bar')\n",
    "fig.set_title('Different stores')\n",
    "fig.set_xlabel('Coffe Place type')\n",
    "fig.set_ylabel('Frequency')\n",
    "plt.grid()\n",
    "\n",
    "              \n",
    "\n",
    "plt.show()"
   ]
  },
  {
   "cell_type": "code",
   "execution_count": 5,
   "id": "ca2c7da9",
   "metadata": {},
   "outputs": [
    {
     "ename": "SyntaxError",
     "evalue": "unexpected EOF while parsing (4064181348.py, line 1)",
     "output_type": "error",
     "traceback": [
      "\u001b[1;36m  Input \u001b[1;32mIn [5]\u001b[1;36m\u001b[0m\n\u001b[1;33m    pd.value_counts(caffe['Place type'].values()\u001b[0m\n\u001b[1;37m                                                ^\u001b[0m\n\u001b[1;31mSyntaxError\u001b[0m\u001b[1;31m:\u001b[0m unexpected EOF while parsing\n"
     ]
    }
   ],
   "source": [
    "pd.value_counts(caffe['Place type'].values()"
   ]
  },
  {
   "cell_type": "code",
   "execution_count": null,
   "id": "df075457",
   "metadata": {},
   "outputs": [],
   "source": []
  }
 ],
 "metadata": {
  "kernelspec": {
   "display_name": "Python 3 (ipykernel)",
   "language": "python",
   "name": "python3"
  },
  "language_info": {
   "codemirror_mode": {
    "name": "ipython",
    "version": 3
   },
   "file_extension": ".py",
   "mimetype": "text/x-python",
   "name": "python",
   "nbconvert_exporter": "python",
   "pygments_lexer": "ipython3",
   "version": "3.9.13"
  }
 },
 "nbformat": 4,
 "nbformat_minor": 5
}
